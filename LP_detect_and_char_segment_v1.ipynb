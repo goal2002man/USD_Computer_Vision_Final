{
  "nbformat": 4,
  "nbformat_minor": 0,
  "metadata": {
    "colab": {
      "provenance": [],
      "include_colab_link": true
    },
    "kernelspec": {
      "name": "python3",
      "display_name": "Python 3"
    },
    "language_info": {
      "name": "python"
    },
    "accelerator": "GPU",
    "gpuClass": "standard"
  },
  "cells": [
    {
      "cell_type": "markdown",
      "metadata": {
        "id": "view-in-github",
        "colab_type": "text"
      },
      "source": [
        "<a href=\"https://colab.research.google.com/github/goal2002man/USD_Computer_Vision_Final/blob/bryan/LP_detect_and_char_segment_v1.ipynb\" target=\"_parent\"><img src=\"https://colab.research.google.com/assets/colab-badge.svg\" alt=\"Open In Colab\"/></a>"
      ]
    },
    {
      "cell_type": "code",
      "source": [
        "import pandas as pd\n",
        "import urllib\n",
        "import matplotlib.pyplot as plt\n",
        "import numpy as np\n",
        "import cv2\n",
        "import glob\n",
        "import os\n",
        "import time\n",
        "import PIL\n",
        "from PIL import Image\n",
        "\n",
        "from keras.applications.vgg16 import VGG16\n",
        "from keras.layers import Flatten, Dense, Conv2D, MaxPooling2D, Input, Dropout\n",
        "from keras.models import Model, Sequential\n",
        "from keras.preprocessing.image import ImageDataGenerator\n",
        "from keras.optimizers import Adam"
      ],
      "metadata": {
        "id": "5_HtxpJiKB4F"
      },
      "execution_count": 1,
      "outputs": []
    },
    {
      "cell_type": "code",
      "source": [
        "import torch\n",
        "from google.colab.patches import cv2_imshow\n",
        "from imutils import perspective\n",
        "import random"
      ],
      "metadata": {
        "id": "p8kqhNOlKFrm"
      },
      "execution_count": 2,
      "outputs": []
    },
    {
      "cell_type": "code",
      "source": [
        "import functools\n",
        "import re\n",
        "import cvxpy as cp"
      ],
      "metadata": {
        "id": "0ml1oEPCKIGF"
      },
      "execution_count": 3,
      "outputs": []
    },
    {
      "cell_type": "code",
      "source": [
        "!git clone https://github.com/ultralytics/yolov5\n",
        "!pip install -r yolov5/requirements.txt"
      ],
      "metadata": {
        "colab": {
          "base_uri": "https://localhost:8080/"
        },
        "id": "858Z2lDlKP0d",
        "outputId": "b8715002-3738-4a26-aa98-bb353ee5a285"
      },
      "execution_count": 4,
      "outputs": [
        {
          "output_type": "stream",
          "name": "stdout",
          "text": [
            "Cloning into 'yolov5'...\n",
            "remote: Enumerating objects: 14474, done.\u001b[K\n",
            "remote: Counting objects: 100% (103/103), done.\u001b[K\n",
            "remote: Compressing objects: 100% (60/60), done.\u001b[K\n",
            "remote: Total 14474 (delta 65), reused 67 (delta 42), pack-reused 14371\u001b[K\n",
            "Receiving objects: 100% (14474/14474), 13.60 MiB | 25.74 MiB/s, done.\n",
            "Resolving deltas: 100% (9966/9966), done.\n",
            "Looking in indexes: https://pypi.org/simple, https://us-python.pkg.dev/colab-wheels/public/simple/\n",
            "Collecting gitpython\n",
            "  Downloading GitPython-3.1.29-py3-none-any.whl (182 kB)\n",
            "\u001b[K     |████████████████████████████████| 182 kB 4.7 MB/s \n",
            "\u001b[?25hRequirement already satisfied: ipython in /usr/local/lib/python3.8/dist-packages (from -r yolov5/requirements.txt (line 6)) (7.9.0)\n",
            "Requirement already satisfied: matplotlib>=3.2.2 in /usr/local/lib/python3.8/dist-packages (from -r yolov5/requirements.txt (line 7)) (3.2.2)\n",
            "Requirement already satisfied: numpy>=1.18.5 in /usr/local/lib/python3.8/dist-packages (from -r yolov5/requirements.txt (line 8)) (1.21.6)\n",
            "Requirement already satisfied: opencv-python>=4.1.1 in /usr/local/lib/python3.8/dist-packages (from -r yolov5/requirements.txt (line 9)) (4.6.0.66)\n",
            "Requirement already satisfied: Pillow>=7.1.2 in /usr/local/lib/python3.8/dist-packages (from -r yolov5/requirements.txt (line 10)) (7.1.2)\n",
            "Requirement already satisfied: psutil in /usr/local/lib/python3.8/dist-packages (from -r yolov5/requirements.txt (line 11)) (5.4.8)\n",
            "Requirement already satisfied: PyYAML>=5.3.1 in /usr/local/lib/python3.8/dist-packages (from -r yolov5/requirements.txt (line 12)) (6.0)\n",
            "Requirement already satisfied: requests>=2.23.0 in /usr/local/lib/python3.8/dist-packages (from -r yolov5/requirements.txt (line 13)) (2.23.0)\n",
            "Requirement already satisfied: scipy>=1.4.1 in /usr/local/lib/python3.8/dist-packages (from -r yolov5/requirements.txt (line 14)) (1.7.3)\n",
            "Collecting thop>=0.1.1\n",
            "  Downloading thop-0.1.1.post2209072238-py3-none-any.whl (15 kB)\n",
            "Requirement already satisfied: torch>=1.7.0 in /usr/local/lib/python3.8/dist-packages (from -r yolov5/requirements.txt (line 16)) (1.13.0+cu116)\n",
            "Requirement already satisfied: torchvision>=0.8.1 in /usr/local/lib/python3.8/dist-packages (from -r yolov5/requirements.txt (line 17)) (0.14.0+cu116)\n",
            "Requirement already satisfied: tqdm>=4.64.0 in /usr/local/lib/python3.8/dist-packages (from -r yolov5/requirements.txt (line 18)) (4.64.1)\n",
            "Requirement already satisfied: tensorboard>=2.4.1 in /usr/local/lib/python3.8/dist-packages (from -r yolov5/requirements.txt (line 22)) (2.9.1)\n",
            "Requirement already satisfied: pandas>=1.1.4 in /usr/local/lib/python3.8/dist-packages (from -r yolov5/requirements.txt (line 27)) (1.3.5)\n",
            "Requirement already satisfied: seaborn>=0.11.0 in /usr/local/lib/python3.8/dist-packages (from -r yolov5/requirements.txt (line 28)) (0.11.2)\n",
            "Requirement already satisfied: kiwisolver>=1.0.1 in /usr/local/lib/python3.8/dist-packages (from matplotlib>=3.2.2->-r yolov5/requirements.txt (line 7)) (1.4.4)\n",
            "Requirement already satisfied: pyparsing!=2.0.4,!=2.1.2,!=2.1.6,>=2.0.1 in /usr/local/lib/python3.8/dist-packages (from matplotlib>=3.2.2->-r yolov5/requirements.txt (line 7)) (3.0.9)\n",
            "Requirement already satisfied: cycler>=0.10 in /usr/local/lib/python3.8/dist-packages (from matplotlib>=3.2.2->-r yolov5/requirements.txt (line 7)) (0.11.0)\n",
            "Requirement already satisfied: python-dateutil>=2.1 in /usr/local/lib/python3.8/dist-packages (from matplotlib>=3.2.2->-r yolov5/requirements.txt (line 7)) (2.8.2)\n",
            "Requirement already satisfied: certifi>=2017.4.17 in /usr/local/lib/python3.8/dist-packages (from requests>=2.23.0->-r yolov5/requirements.txt (line 13)) (2022.9.24)\n",
            "Requirement already satisfied: idna<3,>=2.5 in /usr/local/lib/python3.8/dist-packages (from requests>=2.23.0->-r yolov5/requirements.txt (line 13)) (2.10)\n",
            "Requirement already satisfied: chardet<4,>=3.0.2 in /usr/local/lib/python3.8/dist-packages (from requests>=2.23.0->-r yolov5/requirements.txt (line 13)) (3.0.4)\n",
            "Requirement already satisfied: urllib3!=1.25.0,!=1.25.1,<1.26,>=1.21.1 in /usr/local/lib/python3.8/dist-packages (from requests>=2.23.0->-r yolov5/requirements.txt (line 13)) (1.24.3)\n",
            "Requirement already satisfied: typing-extensions in /usr/local/lib/python3.8/dist-packages (from torch>=1.7.0->-r yolov5/requirements.txt (line 16)) (4.4.0)\n",
            "Requirement already satisfied: grpcio>=1.24.3 in /usr/local/lib/python3.8/dist-packages (from tensorboard>=2.4.1->-r yolov5/requirements.txt (line 22)) (1.51.1)\n",
            "Requirement already satisfied: markdown>=2.6.8 in /usr/local/lib/python3.8/dist-packages (from tensorboard>=2.4.1->-r yolov5/requirements.txt (line 22)) (3.4.1)\n",
            "Requirement already satisfied: tensorboard-data-server<0.7.0,>=0.6.0 in /usr/local/lib/python3.8/dist-packages (from tensorboard>=2.4.1->-r yolov5/requirements.txt (line 22)) (0.6.1)\n",
            "Requirement already satisfied: setuptools>=41.0.0 in /usr/local/lib/python3.8/dist-packages (from tensorboard>=2.4.1->-r yolov5/requirements.txt (line 22)) (57.4.0)\n",
            "Requirement already satisfied: google-auth-oauthlib<0.5,>=0.4.1 in /usr/local/lib/python3.8/dist-packages (from tensorboard>=2.4.1->-r yolov5/requirements.txt (line 22)) (0.4.6)\n",
            "Requirement already satisfied: tensorboard-plugin-wit>=1.6.0 in /usr/local/lib/python3.8/dist-packages (from tensorboard>=2.4.1->-r yolov5/requirements.txt (line 22)) (1.8.1)\n",
            "Requirement already satisfied: werkzeug>=1.0.1 in /usr/local/lib/python3.8/dist-packages (from tensorboard>=2.4.1->-r yolov5/requirements.txt (line 22)) (1.0.1)\n",
            "Requirement already satisfied: wheel>=0.26 in /usr/local/lib/python3.8/dist-packages (from tensorboard>=2.4.1->-r yolov5/requirements.txt (line 22)) (0.38.4)\n",
            "Requirement already satisfied: google-auth<3,>=1.6.3 in /usr/local/lib/python3.8/dist-packages (from tensorboard>=2.4.1->-r yolov5/requirements.txt (line 22)) (2.15.0)\n",
            "Requirement already satisfied: absl-py>=0.4 in /usr/local/lib/python3.8/dist-packages (from tensorboard>=2.4.1->-r yolov5/requirements.txt (line 22)) (1.3.0)\n",
            "Requirement already satisfied: protobuf<3.20,>=3.9.2 in /usr/local/lib/python3.8/dist-packages (from tensorboard>=2.4.1->-r yolov5/requirements.txt (line 22)) (3.19.6)\n",
            "Requirement already satisfied: pytz>=2017.3 in /usr/local/lib/python3.8/dist-packages (from pandas>=1.1.4->-r yolov5/requirements.txt (line 27)) (2022.6)\n",
            "Requirement already satisfied: six>=1.9.0 in /usr/local/lib/python3.8/dist-packages (from google-auth<3,>=1.6.3->tensorboard>=2.4.1->-r yolov5/requirements.txt (line 22)) (1.15.0)\n",
            "Requirement already satisfied: rsa<5,>=3.1.4 in /usr/local/lib/python3.8/dist-packages (from google-auth<3,>=1.6.3->tensorboard>=2.4.1->-r yolov5/requirements.txt (line 22)) (4.9)\n",
            "Requirement already satisfied: cachetools<6.0,>=2.0.0 in /usr/local/lib/python3.8/dist-packages (from google-auth<3,>=1.6.3->tensorboard>=2.4.1->-r yolov5/requirements.txt (line 22)) (5.2.0)\n",
            "Requirement already satisfied: pyasn1-modules>=0.2.1 in /usr/local/lib/python3.8/dist-packages (from google-auth<3,>=1.6.3->tensorboard>=2.4.1->-r yolov5/requirements.txt (line 22)) (0.2.8)\n",
            "Requirement already satisfied: requests-oauthlib>=0.7.0 in /usr/local/lib/python3.8/dist-packages (from google-auth-oauthlib<0.5,>=0.4.1->tensorboard>=2.4.1->-r yolov5/requirements.txt (line 22)) (1.3.1)\n",
            "Requirement already satisfied: importlib-metadata>=4.4 in /usr/local/lib/python3.8/dist-packages (from markdown>=2.6.8->tensorboard>=2.4.1->-r yolov5/requirements.txt (line 22)) (4.13.0)\n",
            "Requirement already satisfied: zipp>=0.5 in /usr/local/lib/python3.8/dist-packages (from importlib-metadata>=4.4->markdown>=2.6.8->tensorboard>=2.4.1->-r yolov5/requirements.txt (line 22)) (3.11.0)\n",
            "Requirement already satisfied: pyasn1<0.5.0,>=0.4.6 in /usr/local/lib/python3.8/dist-packages (from pyasn1-modules>=0.2.1->google-auth<3,>=1.6.3->tensorboard>=2.4.1->-r yolov5/requirements.txt (line 22)) (0.4.8)\n",
            "Requirement already satisfied: oauthlib>=3.0.0 in /usr/local/lib/python3.8/dist-packages (from requests-oauthlib>=0.7.0->google-auth-oauthlib<0.5,>=0.4.1->tensorboard>=2.4.1->-r yolov5/requirements.txt (line 22)) (3.2.2)\n",
            "Collecting gitdb<5,>=4.0.1\n",
            "  Downloading gitdb-4.0.10-py3-none-any.whl (62 kB)\n",
            "\u001b[K     |████████████████████████████████| 62 kB 1.2 MB/s \n",
            "\u001b[?25hCollecting smmap<6,>=3.0.1\n",
            "  Downloading smmap-5.0.0-py3-none-any.whl (24 kB)\n",
            "Requirement already satisfied: backcall in /usr/local/lib/python3.8/dist-packages (from ipython->-r yolov5/requirements.txt (line 6)) (0.2.0)\n",
            "Requirement already satisfied: prompt-toolkit<2.1.0,>=2.0.0 in /usr/local/lib/python3.8/dist-packages (from ipython->-r yolov5/requirements.txt (line 6)) (2.0.10)\n",
            "Requirement already satisfied: decorator in /usr/local/lib/python3.8/dist-packages (from ipython->-r yolov5/requirements.txt (line 6)) (4.4.2)\n",
            "Requirement already satisfied: pickleshare in /usr/local/lib/python3.8/dist-packages (from ipython->-r yolov5/requirements.txt (line 6)) (0.7.5)\n",
            "Requirement already satisfied: pexpect in /usr/local/lib/python3.8/dist-packages (from ipython->-r yolov5/requirements.txt (line 6)) (4.8.0)\n",
            "Requirement already satisfied: traitlets>=4.2 in /usr/local/lib/python3.8/dist-packages (from ipython->-r yolov5/requirements.txt (line 6)) (5.6.0)\n",
            "Requirement already satisfied: pygments in /usr/local/lib/python3.8/dist-packages (from ipython->-r yolov5/requirements.txt (line 6)) (2.6.1)\n",
            "Collecting jedi>=0.10\n",
            "  Downloading jedi-0.18.2-py2.py3-none-any.whl (1.6 MB)\n",
            "\u001b[K     |████████████████████████████████| 1.6 MB 61.1 MB/s \n",
            "\u001b[?25hRequirement already satisfied: parso<0.9.0,>=0.8.0 in /usr/local/lib/python3.8/dist-packages (from jedi>=0.10->ipython->-r yolov5/requirements.txt (line 6)) (0.8.3)\n",
            "Requirement already satisfied: wcwidth in /usr/local/lib/python3.8/dist-packages (from prompt-toolkit<2.1.0,>=2.0.0->ipython->-r yolov5/requirements.txt (line 6)) (0.2.5)\n",
            "Requirement already satisfied: ptyprocess>=0.5 in /usr/local/lib/python3.8/dist-packages (from pexpect->ipython->-r yolov5/requirements.txt (line 6)) (0.7.0)\n",
            "Installing collected packages: smmap, jedi, gitdb, thop, gitpython\n",
            "Successfully installed gitdb-4.0.10 gitpython-3.1.29 jedi-0.18.2 smmap-5.0.0 thop-0.1.1.post2209072238\n"
          ]
        }
      ]
    },
    {
      "cell_type": "code",
      "source": [
        "!git clone https://github.com/goal2002man/USD_Computer_Vision_Final/"
      ],
      "metadata": {
        "colab": {
          "base_uri": "https://localhost:8080/"
        },
        "id": "r8PZQnShLFxA",
        "outputId": "7601cf59-3862-49cc-e26d-570031f08a9c"
      },
      "execution_count": 5,
      "outputs": [
        {
          "output_type": "stream",
          "name": "stdout",
          "text": [
            "Cloning into 'USD_Computer_Vision_Final'...\n",
            "remote: Enumerating objects: 67, done.\u001b[K\n",
            "remote: Counting objects: 100% (67/67), done.\u001b[K\n",
            "remote: Compressing objects: 100% (53/53), done.\u001b[K\n",
            "remote: Total 67 (delta 25), reused 34 (delta 11), pack-reused 0\u001b[K\n",
            "Unpacking objects: 100% (67/67), done.\n"
          ]
        }
      ]
    },
    {
      "cell_type": "code",
      "source": [
        "!git clone -b model_weights https://github.com/goal2002man/USD_Computer_Vision_Final/"
      ],
      "metadata": {
        "colab": {
          "base_uri": "https://localhost:8080/"
        },
        "id": "x55pRDFBP93u",
        "outputId": "ff33bdd6-d4db-4d88-dadd-e0462da2475e"
      },
      "execution_count": 6,
      "outputs": [
        {
          "output_type": "stream",
          "name": "stdout",
          "text": [
            "fatal: destination path 'USD_Computer_Vision_Final' already exists and is not an empty directory.\n"
          ]
        }
      ]
    },
    {
      "cell_type": "code",
      "source": [
        "!ls USD_Computer_Vision_Final"
      ],
      "metadata": {
        "colab": {
          "base_uri": "https://localhost:8080/"
        },
        "id": "gwH6AIUULUzh",
        "outputId": "5249ddb3-6536-477f-a650-4c8953ef2751"
      },
      "execution_count": 7,
      "outputs": [
        {
          "output_type": "stream",
          "name": "stdout",
          "text": [
            "best_char.pt\t       LP_detect_and_char_segment_v1.ipynb\n",
            "best_lp.pt\t       README.md\n",
            "character_recognition  yolov5\n",
            "environment.yml        YOLOv5_License_Plate_Detector.ipynb\n"
          ]
        }
      ]
    },
    {
      "cell_type": "code",
      "source": [
        "# License Plate Detector\n",
        "path_yolo_best_weights = '/content/USD_Computer_Vision_Final/best_lp.pt'\n",
        "\n",
        "lpd_model = torch.hub.load('yolov5/', 'custom', path=path_yolo_best_weights, source='local')  # local repo"
      ],
      "metadata": {
        "colab": {
          "base_uri": "https://localhost:8080/"
        },
        "id": "PARLEwssKUjb",
        "outputId": "5c5f6e3c-6770-4d88-ee91-1bfe0985f85e"
      },
      "execution_count": 8,
      "outputs": [
        {
          "output_type": "stream",
          "name": "stderr",
          "text": [
            "YOLOv5 🚀 v7.0-32-g357cde9 Python-3.8.16 torch-1.13.0+cu116 CUDA:0 (Tesla T4, 15110MiB)\n",
            "\n",
            "Fusing layers... \n",
            "Model summary: 157 layers, 7015519 parameters, 0 gradients, 15.8 GFLOPs\n",
            "Adding AutoShape... \n"
          ]
        }
      ]
    },
    {
      "cell_type": "code",
      "execution_count": 9,
      "metadata": {
        "colab": {
          "base_uri": "https://localhost:8080/"
        },
        "id": "k_bQl0feJvK_",
        "outputId": "17c24775-7cce-42ea-c87f-93bc88869f96"
      },
      "outputs": [
        {
          "output_type": "stream",
          "name": "stderr",
          "text": [
            "YOLOv5 🚀 v7.0-32-g357cde9 Python-3.8.16 torch-1.13.0+cu116 CUDA:0 (Tesla T4, 15110MiB)\n",
            "\n",
            "Fusing layers... \n",
            "Model summary: 157 layers, 7012822 parameters, 0 gradients, 15.8 GFLOPs\n",
            "Adding AutoShape... \n"
          ]
        }
      ],
      "source": [
        "# Charachter Segmentation\n",
        "path_yolo_best_weights_char_segmenter = '/content/USD_Computer_Vision_Final/best_char.pt' \n",
        "\n",
        "char_segm_model = torch.hub.load('yolov5/', 'custom', path=path_yolo_best_weights_char_segmenter, source='local')  # local repo"
      ]
    },
    {
      "cell_type": "code",
      "source": [
        "def char_segmentation_yolo(file_name):\n",
        " input_images = cv2.imread(file_name)\n",
        " results = lpd_model(input_images)\n",
        " boxes = results.pandas().xyxy[0]  \n",
        " ###cv2_imshow(input_images)\n",
        "\n",
        " # Identify index of license plate bounding box\n",
        " index_lp = 10000\n",
        " flag = 0\n",
        " for i in range(boxes.shape[0]):\n",
        "   if boxes.loc[i].at[\"name\"] == 'license-plate':\n",
        "     index_lp = i\n",
        "     flag = 1\n",
        "     break\n",
        " if flag == 0:\n",
        "     display ('No license plate detected for file: ' + str(file_name))\n",
        "     return None, None, None, None\n",
        "\n",
        " # Coordinates of bounding box with highest confidence interval\n",
        " bb_xmin = boxes.loc[index_lp].at[\"xmin\"]\n",
        " bb_xmax = boxes.loc[index_lp].at[\"xmax\"]\n",
        " bb_ymin = boxes.loc[index_lp].at[\"ymin\"]\n",
        " bb_ymax = boxes.loc[index_lp].at[\"ymax\"]\n",
        "\n",
        " # # Image patch for character segmentation\n",
        " img_for_char_segm = input_images[round(bb_ymin):round(bb_ymax), round(bb_xmin):round(bb_xmax)]\n",
        " ###cv2_imshow(img_for_char_segm)\n",
        "\n",
        " # Charachter segmentation\n",
        " results_segm = char_segm_model(img_for_char_segm)\n",
        " boxes_segm = results_segm.pandas().xyxy[0]\n",
        " ###print(boxes_segm)\n",
        " \n",
        " ## Display bounding boxes for characters and add the cropped charachters to a list\n",
        " char_images = []\n",
        " img_for_char_segm_copy = img_for_char_segm.copy()\n",
        " for i in range(boxes_segm.shape[0]):\n",
        "   if boxes_segm.loc[i].at[\"name\"] == 'character':\n",
        "     bb_segm_xmin = boxes_segm.loc[i].at[\"xmin\"]\n",
        "     bb_segm_xmax = boxes_segm.loc[i].at[\"xmax\"]\n",
        "     bb_segm_ymin = boxes_segm.loc[i].at[\"ymin\"]\n",
        "     bb_segm_ymax = boxes_segm.loc[i].at[\"ymax\"]\n",
        "     crop_char = img_for_char_segm[round(bb_segm_ymin):round(bb_segm_ymax), round(bb_segm_xmin):round(bb_segm_xmax)]\n",
        "     ###cv2_imshow(cv2.resize(crop_char,(100,100)))\n",
        "     char_images.append(crop_char)\n",
        "     cv2.rectangle(img_for_char_segm_copy, (int(bb_segm_xmin),int(bb_segm_ymin)), (int(bb_segm_xmax),int(bb_segm_ymax)), (255,0,0), 1)\n",
        "\n",
        " ###cv2_imshow(cv2.resize(img_for_char_segm_copy,(300,100)))\n",
        "\n",
        " return input_images, img_for_char_segm, char_images, boxes_segm"
      ],
      "metadata": {
        "id": "lQd1ba-7JxRA"
      },
      "execution_count": 47,
      "outputs": []
    },
    {
      "cell_type": "code",
      "source": [
        "from google.colab import drive\n",
        "drive.mount('/content/drive')"
      ],
      "metadata": {
        "colab": {
          "base_uri": "https://localhost:8080/"
        },
        "id": "7doBApvVvWAx",
        "outputId": "2b776402-847b-4a9d-9adb-5a51b6ed5ed8"
      },
      "execution_count": 11,
      "outputs": [
        {
          "output_type": "stream",
          "name": "stdout",
          "text": [
            "Mounted at /content/drive\n"
          ]
        }
      ]
    },
    {
      "cell_type": "code",
      "source": [
        "list_of_images = os.listdir(\n",
        "    '/content/drive/MyDrive/Intro to Computer Vision - Final/data/train/images') + os.listdir(\n",
        "    '/content/drive/MyDrive/Intro to Computer Vision - Final/data/test/images'\n",
        ")\n",
        "\n",
        "len(list_of_images)"
      ],
      "metadata": {
        "colab": {
          "base_uri": "https://localhost:8080/"
        },
        "id": "Mmn9ucupvuyS",
        "outputId": "43bc661d-bb2f-4f9a-ff2f-513a095479f8"
      },
      "execution_count": 37,
      "outputs": [
        {
          "output_type": "execute_result",
          "data": {
            "text/plain": [
              "4392"
            ]
          },
          "metadata": {},
          "execution_count": 37
        }
      ]
    },
    {
      "cell_type": "code",
      "source": [
        "# Call the function, looping over all files and recording the DF results - first for the Training data\n",
        "output_df = pd.DataFrame(columns=['xmin', 'ymin', 'xmax', 'ymax', 'confidence', 'class', 'name'])\n",
        "\n",
        "for f in list_of_images:\n",
        "  filename = '/content/drive/MyDrive/Intro to Computer Vision - Final/data/train/images/' + f  # UPDATE with your file name\n",
        "  input_images, img_for_char_segm, char_images , boxes_df=  char_segmentation_yolo(filename)\n",
        "  if boxes_df is not None:\n",
        "    boxes_df = boxes_df.assign(filename = f)\n",
        "\n",
        "  output_df = output_df.append(boxes_df)\n"
      ],
      "metadata": {
        "id": "iIrcsorOJ1MI",
        "colab": {
          "base_uri": "https://localhost:8080/",
          "height": 1000
        },
        "outputId": "b4fb0b6e-733b-489d-afa8-5c869092b9cc"
      },
      "execution_count": 51,
      "outputs": [
        {
          "output_type": "display_data",
          "data": {
            "text/plain": [
              "'No license plate detected for file: /content/drive/MyDrive/Intro to Computer Vision - Final/data/train/images/track0058[19].png'"
            ],
            "application/vnd.google.colaboratory.intrinsic+json": {
              "type": "string"
            }
          },
          "metadata": {}
        },
        {
          "output_type": "display_data",
          "data": {
            "text/plain": [
              "'No license plate detected for file: /content/drive/MyDrive/Intro to Computer Vision - Final/data/train/images/track0058[24].png'"
            ],
            "application/vnd.google.colaboratory.intrinsic+json": {
              "type": "string"
            }
          },
          "metadata": {}
        },
        {
          "output_type": "display_data",
          "data": {
            "text/plain": [
              "'No license plate detected for file: /content/drive/MyDrive/Intro to Computer Vision - Final/data/train/images/track0058[18].png'"
            ],
            "application/vnd.google.colaboratory.intrinsic+json": {
              "type": "string"
            }
          },
          "metadata": {}
        },
        {
          "output_type": "display_data",
          "data": {
            "text/plain": [
              "'No license plate detected for file: /content/drive/MyDrive/Intro to Computer Vision - Final/data/train/images/track0058[20].png'"
            ],
            "application/vnd.google.colaboratory.intrinsic+json": {
              "type": "string"
            }
          },
          "metadata": {}
        },
        {
          "output_type": "display_data",
          "data": {
            "text/plain": [
              "'No license plate detected for file: /content/drive/MyDrive/Intro to Computer Vision - Final/data/train/images/track0058[27].png'"
            ],
            "application/vnd.google.colaboratory.intrinsic+json": {
              "type": "string"
            }
          },
          "metadata": {}
        },
        {
          "output_type": "display_data",
          "data": {
            "text/plain": [
              "'No license plate detected for file: /content/drive/MyDrive/Intro to Computer Vision - Final/data/train/images/track0064[01].png'"
            ],
            "application/vnd.google.colaboratory.intrinsic+json": {
              "type": "string"
            }
          },
          "metadata": {}
        },
        {
          "output_type": "display_data",
          "data": {
            "text/plain": [
              "'No license plate detected for file: /content/drive/MyDrive/Intro to Computer Vision - Final/data/train/images/track0064[09].png'"
            ],
            "application/vnd.google.colaboratory.intrinsic+json": {
              "type": "string"
            }
          },
          "metadata": {}
        },
        {
          "output_type": "display_data",
          "data": {
            "text/plain": [
              "'No license plate detected for file: /content/drive/MyDrive/Intro to Computer Vision - Final/data/train/images/track0064[07].png'"
            ],
            "application/vnd.google.colaboratory.intrinsic+json": {
              "type": "string"
            }
          },
          "metadata": {}
        },
        {
          "output_type": "display_data",
          "data": {
            "text/plain": [
              "'No license plate detected for file: /content/drive/MyDrive/Intro to Computer Vision - Final/data/train/images/track0064[06].png'"
            ],
            "application/vnd.google.colaboratory.intrinsic+json": {
              "type": "string"
            }
          },
          "metadata": {}
        },
        {
          "output_type": "display_data",
          "data": {
            "text/plain": [
              "'No license plate detected for file: /content/drive/MyDrive/Intro to Computer Vision - Final/data/train/images/track0064[10].png'"
            ],
            "application/vnd.google.colaboratory.intrinsic+json": {
              "type": "string"
            }
          },
          "metadata": {}
        },
        {
          "output_type": "display_data",
          "data": {
            "text/plain": [
              "'No license plate detected for file: /content/drive/MyDrive/Intro to Computer Vision - Final/data/train/images/track0064[02].png'"
            ],
            "application/vnd.google.colaboratory.intrinsic+json": {
              "type": "string"
            }
          },
          "metadata": {}
        },
        {
          "output_type": "display_data",
          "data": {
            "text/plain": [
              "'No license plate detected for file: /content/drive/MyDrive/Intro to Computer Vision - Final/data/train/images/track0064[29].png'"
            ],
            "application/vnd.google.colaboratory.intrinsic+json": {
              "type": "string"
            }
          },
          "metadata": {}
        },
        {
          "output_type": "display_data",
          "data": {
            "text/plain": [
              "'No license plate detected for file: /content/drive/MyDrive/Intro to Computer Vision - Final/data/train/images/track0064[23].png'"
            ],
            "application/vnd.google.colaboratory.intrinsic+json": {
              "type": "string"
            }
          },
          "metadata": {}
        },
        {
          "output_type": "display_data",
          "data": {
            "text/plain": [
              "'No license plate detected for file: /content/drive/MyDrive/Intro to Computer Vision - Final/data/train/images/track0064[25].png'"
            ],
            "application/vnd.google.colaboratory.intrinsic+json": {
              "type": "string"
            }
          },
          "metadata": {}
        },
        {
          "output_type": "display_data",
          "data": {
            "text/plain": [
              "'No license plate detected for file: /content/drive/MyDrive/Intro to Computer Vision - Final/data/train/images/track0064[30].png'"
            ],
            "application/vnd.google.colaboratory.intrinsic+json": {
              "type": "string"
            }
          },
          "metadata": {}
        },
        {
          "output_type": "display_data",
          "data": {
            "text/plain": [
              "'No license plate detected for file: /content/drive/MyDrive/Intro to Computer Vision - Final/data/train/images/track0064[28].png'"
            ],
            "application/vnd.google.colaboratory.intrinsic+json": {
              "type": "string"
            }
          },
          "metadata": {}
        },
        {
          "output_type": "display_data",
          "data": {
            "text/plain": [
              "'No license plate detected for file: /content/drive/MyDrive/Intro to Computer Vision - Final/data/train/images/track0064[24].png'"
            ],
            "application/vnd.google.colaboratory.intrinsic+json": {
              "type": "string"
            }
          },
          "metadata": {}
        },
        {
          "output_type": "display_data",
          "data": {
            "text/plain": [
              "'No license plate detected for file: /content/drive/MyDrive/Intro to Computer Vision - Final/data/train/images/track0064[27].png'"
            ],
            "application/vnd.google.colaboratory.intrinsic+json": {
              "type": "string"
            }
          },
          "metadata": {}
        },
        {
          "output_type": "display_data",
          "data": {
            "text/plain": [
              "'No license plate detected for file: /content/drive/MyDrive/Intro to Computer Vision - Final/data/train/images/track0071[29].png'"
            ],
            "application/vnd.google.colaboratory.intrinsic+json": {
              "type": "string"
            }
          },
          "metadata": {}
        },
        {
          "output_type": "display_data",
          "data": {
            "text/plain": [
              "'No license plate detected for file: /content/drive/MyDrive/Intro to Computer Vision - Final/data/train/images/track0071[28].png'"
            ],
            "application/vnd.google.colaboratory.intrinsic+json": {
              "type": "string"
            }
          },
          "metadata": {}
        },
        {
          "output_type": "display_data",
          "data": {
            "text/plain": [
              "'No license plate detected for file: /content/drive/MyDrive/Intro to Computer Vision - Final/data/train/images/track0077[10].png'"
            ],
            "application/vnd.google.colaboratory.intrinsic+json": {
              "type": "string"
            }
          },
          "metadata": {}
        },
        {
          "output_type": "display_data",
          "data": {
            "text/plain": [
              "'No license plate detected for file: /content/drive/MyDrive/Intro to Computer Vision - Final/data/train/images/track0077[01].png'"
            ],
            "application/vnd.google.colaboratory.intrinsic+json": {
              "type": "string"
            }
          },
          "metadata": {}
        },
        {
          "output_type": "display_data",
          "data": {
            "text/plain": [
              "'No license plate detected for file: /content/drive/MyDrive/Intro to Computer Vision - Final/data/train/images/track0077[04].png'"
            ],
            "application/vnd.google.colaboratory.intrinsic+json": {
              "type": "string"
            }
          },
          "metadata": {}
        },
        {
          "output_type": "display_data",
          "data": {
            "text/plain": [
              "'No license plate detected for file: /content/drive/MyDrive/Intro to Computer Vision - Final/data/train/images/track0077[02].png'"
            ],
            "application/vnd.google.colaboratory.intrinsic+json": {
              "type": "string"
            }
          },
          "metadata": {}
        },
        {
          "output_type": "display_data",
          "data": {
            "text/plain": [
              "'No license plate detected for file: /content/drive/MyDrive/Intro to Computer Vision - Final/data/train/images/track0077[17].png'"
            ],
            "application/vnd.google.colaboratory.intrinsic+json": {
              "type": "string"
            }
          },
          "metadata": {}
        },
        {
          "output_type": "display_data",
          "data": {
            "text/plain": [
              "'No license plate detected for file: /content/drive/MyDrive/Intro to Computer Vision - Final/data/train/images/track0077[16].png'"
            ],
            "application/vnd.google.colaboratory.intrinsic+json": {
              "type": "string"
            }
          },
          "metadata": {}
        },
        {
          "output_type": "display_data",
          "data": {
            "text/plain": [
              "'No license plate detected for file: /content/drive/MyDrive/Intro to Computer Vision - Final/data/train/images/track0077[15].png'"
            ],
            "application/vnd.google.colaboratory.intrinsic+json": {
              "type": "string"
            }
          },
          "metadata": {}
        },
        {
          "output_type": "display_data",
          "data": {
            "text/plain": [
              "'No license plate detected for file: /content/drive/MyDrive/Intro to Computer Vision - Final/data/train/images/track0077[27].png'"
            ],
            "application/vnd.google.colaboratory.intrinsic+json": {
              "type": "string"
            }
          },
          "metadata": {}
        },
        {
          "output_type": "display_data",
          "data": {
            "text/plain": [
              "'No license plate detected for file: /content/drive/MyDrive/Intro to Computer Vision - Final/data/train/images/track0079[05].png'"
            ],
            "application/vnd.google.colaboratory.intrinsic+json": {
              "type": "string"
            }
          },
          "metadata": {}
        },
        {
          "output_type": "display_data",
          "data": {
            "text/plain": [
              "'No license plate detected for file: /content/drive/MyDrive/Intro to Computer Vision - Final/data/train/images/track0079[01].png'"
            ],
            "application/vnd.google.colaboratory.intrinsic+json": {
              "type": "string"
            }
          },
          "metadata": {}
        },
        {
          "output_type": "display_data",
          "data": {
            "text/plain": [
              "'No license plate detected for file: /content/drive/MyDrive/Intro to Computer Vision - Final/data/train/images/track0079[04].png'"
            ],
            "application/vnd.google.colaboratory.intrinsic+json": {
              "type": "string"
            }
          },
          "metadata": {}
        },
        {
          "output_type": "display_data",
          "data": {
            "text/plain": [
              "'No license plate detected for file: /content/drive/MyDrive/Intro to Computer Vision - Final/data/train/images/track0079[03].png'"
            ],
            "application/vnd.google.colaboratory.intrinsic+json": {
              "type": "string"
            }
          },
          "metadata": {}
        },
        {
          "output_type": "display_data",
          "data": {
            "text/plain": [
              "'No license plate detected for file: /content/drive/MyDrive/Intro to Computer Vision - Final/data/train/images/track0079[06].png'"
            ],
            "application/vnd.google.colaboratory.intrinsic+json": {
              "type": "string"
            }
          },
          "metadata": {}
        },
        {
          "output_type": "display_data",
          "data": {
            "text/plain": [
              "'No license plate detected for file: /content/drive/MyDrive/Intro to Computer Vision - Final/data/train/images/track0079[02].png'"
            ],
            "application/vnd.google.colaboratory.intrinsic+json": {
              "type": "string"
            }
          },
          "metadata": {}
        },
        {
          "output_type": "display_data",
          "data": {
            "text/plain": [
              "'No license plate detected for file: /content/drive/MyDrive/Intro to Computer Vision - Final/data/train/images/track0079[20].png'"
            ],
            "application/vnd.google.colaboratory.intrinsic+json": {
              "type": "string"
            }
          },
          "metadata": {}
        },
        {
          "output_type": "display_data",
          "data": {
            "text/plain": [
              "'No license plate detected for file: /content/drive/MyDrive/Intro to Computer Vision - Final/data/train/images/track0079[18].png'"
            ],
            "application/vnd.google.colaboratory.intrinsic+json": {
              "type": "string"
            }
          },
          "metadata": {}
        },
        {
          "output_type": "display_data",
          "data": {
            "text/plain": [
              "'No license plate detected for file: /content/drive/MyDrive/Intro to Computer Vision - Final/data/train/images/track0079[16].png'"
            ],
            "application/vnd.google.colaboratory.intrinsic+json": {
              "type": "string"
            }
          },
          "metadata": {}
        },
        {
          "output_type": "display_data",
          "data": {
            "text/plain": [
              "'No license plate detected for file: /content/drive/MyDrive/Intro to Computer Vision - Final/data/train/images/track0079[15].png'"
            ],
            "application/vnd.google.colaboratory.intrinsic+json": {
              "type": "string"
            }
          },
          "metadata": {}
        },
        {
          "output_type": "display_data",
          "data": {
            "text/plain": [
              "'No license plate detected for file: /content/drive/MyDrive/Intro to Computer Vision - Final/data/train/images/track0079[12].png'"
            ],
            "application/vnd.google.colaboratory.intrinsic+json": {
              "type": "string"
            }
          },
          "metadata": {}
        },
        {
          "output_type": "display_data",
          "data": {
            "text/plain": [
              "'No license plate detected for file: /content/drive/MyDrive/Intro to Computer Vision - Final/data/train/images/track0079[10].png'"
            ],
            "application/vnd.google.colaboratory.intrinsic+json": {
              "type": "string"
            }
          },
          "metadata": {}
        },
        {
          "output_type": "display_data",
          "data": {
            "text/plain": [
              "'No license plate detected for file: /content/drive/MyDrive/Intro to Computer Vision - Final/data/train/images/track0079[11].png'"
            ],
            "application/vnd.google.colaboratory.intrinsic+json": {
              "type": "string"
            }
          },
          "metadata": {}
        },
        {
          "output_type": "display_data",
          "data": {
            "text/plain": [
              "'No license plate detected for file: /content/drive/MyDrive/Intro to Computer Vision - Final/data/train/images/track0079[13].png'"
            ],
            "application/vnd.google.colaboratory.intrinsic+json": {
              "type": "string"
            }
          },
          "metadata": {}
        },
        {
          "output_type": "display_data",
          "data": {
            "text/plain": [
              "'No license plate detected for file: /content/drive/MyDrive/Intro to Computer Vision - Final/data/train/images/track0079[17].png'"
            ],
            "application/vnd.google.colaboratory.intrinsic+json": {
              "type": "string"
            }
          },
          "metadata": {}
        },
        {
          "output_type": "display_data",
          "data": {
            "text/plain": [
              "'No license plate detected for file: /content/drive/MyDrive/Intro to Computer Vision - Final/data/train/images/track0079[09].png'"
            ],
            "application/vnd.google.colaboratory.intrinsic+json": {
              "type": "string"
            }
          },
          "metadata": {}
        },
        {
          "output_type": "display_data",
          "data": {
            "text/plain": [
              "'No license plate detected for file: /content/drive/MyDrive/Intro to Computer Vision - Final/data/train/images/track0079[21].png'"
            ],
            "application/vnd.google.colaboratory.intrinsic+json": {
              "type": "string"
            }
          },
          "metadata": {}
        },
        {
          "output_type": "display_data",
          "data": {
            "text/plain": [
              "'No license plate detected for file: /content/drive/MyDrive/Intro to Computer Vision - Final/data/train/images/track0079[14].png'"
            ],
            "application/vnd.google.colaboratory.intrinsic+json": {
              "type": "string"
            }
          },
          "metadata": {}
        },
        {
          "output_type": "display_data",
          "data": {
            "text/plain": [
              "'No license plate detected for file: /content/drive/MyDrive/Intro to Computer Vision - Final/data/train/images/track0080[01].png'"
            ],
            "application/vnd.google.colaboratory.intrinsic+json": {
              "type": "string"
            }
          },
          "metadata": {}
        },
        {
          "output_type": "display_data",
          "data": {
            "text/plain": [
              "'No license plate detected for file: /content/drive/MyDrive/Intro to Computer Vision - Final/data/train/images/track0079[30].png'"
            ],
            "application/vnd.google.colaboratory.intrinsic+json": {
              "type": "string"
            }
          },
          "metadata": {}
        },
        {
          "output_type": "display_data",
          "data": {
            "text/plain": [
              "'No license plate detected for file: /content/drive/MyDrive/Intro to Computer Vision - Final/data/train/images/track0079[29].png'"
            ],
            "application/vnd.google.colaboratory.intrinsic+json": {
              "type": "string"
            }
          },
          "metadata": {}
        },
        {
          "output_type": "display_data",
          "data": {
            "text/plain": [
              "'No license plate detected for file: /content/drive/MyDrive/Intro to Computer Vision - Final/data/train/images/track0079[26].png'"
            ],
            "application/vnd.google.colaboratory.intrinsic+json": {
              "type": "string"
            }
          },
          "metadata": {}
        },
        {
          "output_type": "display_data",
          "data": {
            "text/plain": [
              "'No license plate detected for file: /content/drive/MyDrive/Intro to Computer Vision - Final/data/train/images/track0079[23].png'"
            ],
            "application/vnd.google.colaboratory.intrinsic+json": {
              "type": "string"
            }
          },
          "metadata": {}
        },
        {
          "output_type": "display_data",
          "data": {
            "text/plain": [
              "'No license plate detected for file: /content/drive/MyDrive/Intro to Computer Vision - Final/data/train/images/track0080[13].png'"
            ],
            "application/vnd.google.colaboratory.intrinsic+json": {
              "type": "string"
            }
          },
          "metadata": {}
        },
        {
          "output_type": "display_data",
          "data": {
            "text/plain": [
              "'No license plate detected for file: /content/drive/MyDrive/Intro to Computer Vision - Final/data/train/images/track0080[06].png'"
            ],
            "application/vnd.google.colaboratory.intrinsic+json": {
              "type": "string"
            }
          },
          "metadata": {}
        },
        {
          "output_type": "display_data",
          "data": {
            "text/plain": [
              "'No license plate detected for file: /content/drive/MyDrive/Intro to Computer Vision - Final/data/train/images/track0080[12].png'"
            ],
            "application/vnd.google.colaboratory.intrinsic+json": {
              "type": "string"
            }
          },
          "metadata": {}
        },
        {
          "output_type": "display_data",
          "data": {
            "text/plain": [
              "'No license plate detected for file: /content/drive/MyDrive/Intro to Computer Vision - Final/data/train/images/track0080[10].png'"
            ],
            "application/vnd.google.colaboratory.intrinsic+json": {
              "type": "string"
            }
          },
          "metadata": {}
        },
        {
          "output_type": "display_data",
          "data": {
            "text/plain": [
              "'No license plate detected for file: /content/drive/MyDrive/Intro to Computer Vision - Final/data/train/images/track0080[07].png'"
            ],
            "application/vnd.google.colaboratory.intrinsic+json": {
              "type": "string"
            }
          },
          "metadata": {}
        },
        {
          "output_type": "display_data",
          "data": {
            "text/plain": [
              "'No license plate detected for file: /content/drive/MyDrive/Intro to Computer Vision - Final/data/train/images/track0080[08].png'"
            ],
            "application/vnd.google.colaboratory.intrinsic+json": {
              "type": "string"
            }
          },
          "metadata": {}
        },
        {
          "output_type": "display_data",
          "data": {
            "text/plain": [
              "'No license plate detected for file: /content/drive/MyDrive/Intro to Computer Vision - Final/data/train/images/track0080[09].png'"
            ],
            "application/vnd.google.colaboratory.intrinsic+json": {
              "type": "string"
            }
          },
          "metadata": {}
        },
        {
          "output_type": "display_data",
          "data": {
            "text/plain": [
              "'No license plate detected for file: /content/drive/MyDrive/Intro to Computer Vision - Final/data/train/images/track0080[11].png'"
            ],
            "application/vnd.google.colaboratory.intrinsic+json": {
              "type": "string"
            }
          },
          "metadata": {}
        },
        {
          "output_type": "display_data",
          "data": {
            "text/plain": [
              "'No license plate detected for file: /content/drive/MyDrive/Intro to Computer Vision - Final/data/train/images/track0080[14].png'"
            ],
            "application/vnd.google.colaboratory.intrinsic+json": {
              "type": "string"
            }
          },
          "metadata": {}
        },
        {
          "output_type": "display_data",
          "data": {
            "text/plain": [
              "'No license plate detected for file: /content/drive/MyDrive/Intro to Computer Vision - Final/data/train/images/track0080[20].png'"
            ],
            "application/vnd.google.colaboratory.intrinsic+json": {
              "type": "string"
            }
          },
          "metadata": {}
        },
        {
          "output_type": "display_data",
          "data": {
            "text/plain": [
              "'No license plate detected for file: /content/drive/MyDrive/Intro to Computer Vision - Final/data/train/images/track0080[23].png'"
            ],
            "application/vnd.google.colaboratory.intrinsic+json": {
              "type": "string"
            }
          },
          "metadata": {}
        },
        {
          "output_type": "display_data",
          "data": {
            "text/plain": [
              "'No license plate detected for file: /content/drive/MyDrive/Intro to Computer Vision - Final/data/train/images/track0080[15].png'"
            ],
            "application/vnd.google.colaboratory.intrinsic+json": {
              "type": "string"
            }
          },
          "metadata": {}
        },
        {
          "output_type": "display_data",
          "data": {
            "text/plain": [
              "'No license plate detected for file: /content/drive/MyDrive/Intro to Computer Vision - Final/data/train/images/track0080[16].png'"
            ],
            "application/vnd.google.colaboratory.intrinsic+json": {
              "type": "string"
            }
          },
          "metadata": {}
        },
        {
          "output_type": "display_data",
          "data": {
            "text/plain": [
              "'No license plate detected for file: /content/drive/MyDrive/Intro to Computer Vision - Final/data/train/images/track0080[17].png'"
            ],
            "application/vnd.google.colaboratory.intrinsic+json": {
              "type": "string"
            }
          },
          "metadata": {}
        },
        {
          "output_type": "display_data",
          "data": {
            "text/plain": [
              "'No license plate detected for file: /content/drive/MyDrive/Intro to Computer Vision - Final/data/train/images/track0080[19].png'"
            ],
            "application/vnd.google.colaboratory.intrinsic+json": {
              "type": "string"
            }
          },
          "metadata": {}
        },
        {
          "output_type": "display_data",
          "data": {
            "text/plain": [
              "'No license plate detected for file: /content/drive/MyDrive/Intro to Computer Vision - Final/data/train/images/track0081[01].png'"
            ],
            "application/vnd.google.colaboratory.intrinsic+json": {
              "type": "string"
            }
          },
          "metadata": {}
        },
        {
          "output_type": "display_data",
          "data": {
            "text/plain": [
              "'No license plate detected for file: /content/drive/MyDrive/Intro to Computer Vision - Final/data/train/images/track0080[27].png'"
            ],
            "application/vnd.google.colaboratory.intrinsic+json": {
              "type": "string"
            }
          },
          "metadata": {}
        },
        {
          "output_type": "display_data",
          "data": {
            "text/plain": [
              "'No license plate detected for file: /content/drive/MyDrive/Intro to Computer Vision - Final/data/train/images/track0080[28].png'"
            ],
            "application/vnd.google.colaboratory.intrinsic+json": {
              "type": "string"
            }
          },
          "metadata": {}
        },
        {
          "output_type": "display_data",
          "data": {
            "text/plain": [
              "'No license plate detected for file: /content/drive/MyDrive/Intro to Computer Vision - Final/data/train/images/track0080[26].png'"
            ],
            "application/vnd.google.colaboratory.intrinsic+json": {
              "type": "string"
            }
          },
          "metadata": {}
        },
        {
          "output_type": "display_data",
          "data": {
            "text/plain": [
              "'No license plate detected for file: /content/drive/MyDrive/Intro to Computer Vision - Final/data/train/images/track0081[12].png'"
            ],
            "application/vnd.google.colaboratory.intrinsic+json": {
              "type": "string"
            }
          },
          "metadata": {}
        },
        {
          "output_type": "display_data",
          "data": {
            "text/plain": [
              "'No license plate detected for file: /content/drive/MyDrive/Intro to Computer Vision - Final/data/train/images/track0081[11].png'"
            ],
            "application/vnd.google.colaboratory.intrinsic+json": {
              "type": "string"
            }
          },
          "metadata": {}
        },
        {
          "output_type": "display_data",
          "data": {
            "text/plain": [
              "'No license plate detected for file: /content/drive/MyDrive/Intro to Computer Vision - Final/data/train/images/track0081[08].png'"
            ],
            "application/vnd.google.colaboratory.intrinsic+json": {
              "type": "string"
            }
          },
          "metadata": {}
        },
        {
          "output_type": "display_data",
          "data": {
            "text/plain": [
              "'No license plate detected for file: /content/drive/MyDrive/Intro to Computer Vision - Final/data/train/images/track0081[06].png'"
            ],
            "application/vnd.google.colaboratory.intrinsic+json": {
              "type": "string"
            }
          },
          "metadata": {}
        },
        {
          "output_type": "display_data",
          "data": {
            "text/plain": [
              "'No license plate detected for file: /content/drive/MyDrive/Intro to Computer Vision - Final/data/train/images/track0081[05].png'"
            ],
            "application/vnd.google.colaboratory.intrinsic+json": {
              "type": "string"
            }
          },
          "metadata": {}
        },
        {
          "output_type": "display_data",
          "data": {
            "text/plain": [
              "'No license plate detected for file: /content/drive/MyDrive/Intro to Computer Vision - Final/data/train/images/track0081[10].png'"
            ],
            "application/vnd.google.colaboratory.intrinsic+json": {
              "type": "string"
            }
          },
          "metadata": {}
        },
        {
          "output_type": "display_data",
          "data": {
            "text/plain": [
              "'No license plate detected for file: /content/drive/MyDrive/Intro to Computer Vision - Final/data/train/images/track0081[07].png'"
            ],
            "application/vnd.google.colaboratory.intrinsic+json": {
              "type": "string"
            }
          },
          "metadata": {}
        },
        {
          "output_type": "display_data",
          "data": {
            "text/plain": [
              "'No license plate detected for file: /content/drive/MyDrive/Intro to Computer Vision - Final/data/train/images/track0081[23].png'"
            ],
            "application/vnd.google.colaboratory.intrinsic+json": {
              "type": "string"
            }
          },
          "metadata": {}
        },
        {
          "output_type": "display_data",
          "data": {
            "text/plain": [
              "'No license plate detected for file: /content/drive/MyDrive/Intro to Computer Vision - Final/data/train/images/track0081[20].png'"
            ],
            "application/vnd.google.colaboratory.intrinsic+json": {
              "type": "string"
            }
          },
          "metadata": {}
        },
        {
          "output_type": "display_data",
          "data": {
            "text/plain": [
              "'No license plate detected for file: /content/drive/MyDrive/Intro to Computer Vision - Final/data/train/images/track0081[16].png'"
            ],
            "application/vnd.google.colaboratory.intrinsic+json": {
              "type": "string"
            }
          },
          "metadata": {}
        },
        {
          "output_type": "display_data",
          "data": {
            "text/plain": [
              "'No license plate detected for file: /content/drive/MyDrive/Intro to Computer Vision - Final/data/train/images/track0081[24].png'"
            ],
            "application/vnd.google.colaboratory.intrinsic+json": {
              "type": "string"
            }
          },
          "metadata": {}
        },
        {
          "output_type": "display_data",
          "data": {
            "text/plain": [
              "'No license plate detected for file: /content/drive/MyDrive/Intro to Computer Vision - Final/data/train/images/track0081[17].png'"
            ],
            "application/vnd.google.colaboratory.intrinsic+json": {
              "type": "string"
            }
          },
          "metadata": {}
        },
        {
          "output_type": "display_data",
          "data": {
            "text/plain": [
              "'No license plate detected for file: /content/drive/MyDrive/Intro to Computer Vision - Final/data/train/images/track0081[21].png'"
            ],
            "application/vnd.google.colaboratory.intrinsic+json": {
              "type": "string"
            }
          },
          "metadata": {}
        },
        {
          "output_type": "display_data",
          "data": {
            "text/plain": [
              "'No license plate detected for file: /content/drive/MyDrive/Intro to Computer Vision - Final/data/train/images/track0081[19].png'"
            ],
            "application/vnd.google.colaboratory.intrinsic+json": {
              "type": "string"
            }
          },
          "metadata": {}
        },
        {
          "output_type": "display_data",
          "data": {
            "text/plain": [
              "'No license plate detected for file: /content/drive/MyDrive/Intro to Computer Vision - Final/data/train/images/track0081[18].png'"
            ],
            "application/vnd.google.colaboratory.intrinsic+json": {
              "type": "string"
            }
          },
          "metadata": {}
        },
        {
          "output_type": "display_data",
          "data": {
            "text/plain": [
              "'No license plate detected for file: /content/drive/MyDrive/Intro to Computer Vision - Final/data/train/images/track0085[14].png'"
            ],
            "application/vnd.google.colaboratory.intrinsic+json": {
              "type": "string"
            }
          },
          "metadata": {}
        },
        {
          "output_type": "display_data",
          "data": {
            "text/plain": [
              "'No license plate detected for file: /content/drive/MyDrive/Intro to Computer Vision - Final/data/train/images/track0086[02].png'"
            ],
            "application/vnd.google.colaboratory.intrinsic+json": {
              "type": "string"
            }
          },
          "metadata": {}
        },
        {
          "output_type": "display_data",
          "data": {
            "text/plain": [
              "'No license plate detected for file: /content/drive/MyDrive/Intro to Computer Vision - Final/data/train/images/track0088[01].png'"
            ],
            "application/vnd.google.colaboratory.intrinsic+json": {
              "type": "string"
            }
          },
          "metadata": {}
        },
        {
          "output_type": "display_data",
          "data": {
            "text/plain": [
              "'No license plate detected for file: /content/drive/MyDrive/Intro to Computer Vision - Final/data/train/images/track0088[04].png'"
            ],
            "application/vnd.google.colaboratory.intrinsic+json": {
              "type": "string"
            }
          },
          "metadata": {}
        },
        {
          "output_type": "display_data",
          "data": {
            "text/plain": [
              "'No license plate detected for file: /content/drive/MyDrive/Intro to Computer Vision - Final/data/train/images/track0088[03].png'"
            ],
            "application/vnd.google.colaboratory.intrinsic+json": {
              "type": "string"
            }
          },
          "metadata": {}
        },
        {
          "output_type": "display_data",
          "data": {
            "text/plain": [
              "'No license plate detected for file: /content/drive/MyDrive/Intro to Computer Vision - Final/data/train/images/track0088[02].png'"
            ],
            "application/vnd.google.colaboratory.intrinsic+json": {
              "type": "string"
            }
          },
          "metadata": {}
        },
        {
          "output_type": "display_data",
          "data": {
            "text/plain": [
              "'No license plate detected for file: /content/drive/MyDrive/Intro to Computer Vision - Final/data/train/images/track0088[05].png'"
            ],
            "application/vnd.google.colaboratory.intrinsic+json": {
              "type": "string"
            }
          },
          "metadata": {}
        },
        {
          "output_type": "display_data",
          "data": {
            "text/plain": [
              "'No license plate detected for file: /content/drive/MyDrive/Intro to Computer Vision - Final/data/train/images/track0088[15].png'"
            ],
            "application/vnd.google.colaboratory.intrinsic+json": {
              "type": "string"
            }
          },
          "metadata": {}
        },
        {
          "output_type": "display_data",
          "data": {
            "text/plain": [
              "'No license plate detected for file: /content/drive/MyDrive/Intro to Computer Vision - Final/data/train/images/track0088[07].png'"
            ],
            "application/vnd.google.colaboratory.intrinsic+json": {
              "type": "string"
            }
          },
          "metadata": {}
        },
        {
          "output_type": "display_data",
          "data": {
            "text/plain": [
              "'No license plate detected for file: /content/drive/MyDrive/Intro to Computer Vision - Final/data/train/images/track0088[09].png'"
            ],
            "application/vnd.google.colaboratory.intrinsic+json": {
              "type": "string"
            }
          },
          "metadata": {}
        },
        {
          "output_type": "display_data",
          "data": {
            "text/plain": [
              "'No license plate detected for file: /content/drive/MyDrive/Intro to Computer Vision - Final/data/train/images/track0088[18].png'"
            ],
            "application/vnd.google.colaboratory.intrinsic+json": {
              "type": "string"
            }
          },
          "metadata": {}
        },
        {
          "output_type": "display_data",
          "data": {
            "text/plain": [
              "'No license plate detected for file: /content/drive/MyDrive/Intro to Computer Vision - Final/data/train/images/track0088[08].png'"
            ],
            "application/vnd.google.colaboratory.intrinsic+json": {
              "type": "string"
            }
          },
          "metadata": {}
        },
        {
          "output_type": "display_data",
          "data": {
            "text/plain": [
              "'No license plate detected for file: /content/drive/MyDrive/Intro to Computer Vision - Final/data/train/images/track0088[14].png'"
            ],
            "application/vnd.google.colaboratory.intrinsic+json": {
              "type": "string"
            }
          },
          "metadata": {}
        },
        {
          "output_type": "display_data",
          "data": {
            "text/plain": [
              "'No license plate detected for file: /content/drive/MyDrive/Intro to Computer Vision - Final/data/train/images/track0088[06].png'"
            ],
            "application/vnd.google.colaboratory.intrinsic+json": {
              "type": "string"
            }
          },
          "metadata": {}
        },
        {
          "output_type": "display_data",
          "data": {
            "text/plain": [
              "'No license plate detected for file: /content/drive/MyDrive/Intro to Computer Vision - Final/data/train/images/track0088[10].png'"
            ],
            "application/vnd.google.colaboratory.intrinsic+json": {
              "type": "string"
            }
          },
          "metadata": {}
        },
        {
          "output_type": "display_data",
          "data": {
            "text/plain": [
              "'No license plate detected for file: /content/drive/MyDrive/Intro to Computer Vision - Final/data/train/images/track0088[17].png'"
            ],
            "application/vnd.google.colaboratory.intrinsic+json": {
              "type": "string"
            }
          },
          "metadata": {}
        },
        {
          "output_type": "display_data",
          "data": {
            "text/plain": [
              "'No license plate detected for file: /content/drive/MyDrive/Intro to Computer Vision - Final/data/train/images/track0088[11].png'"
            ],
            "application/vnd.google.colaboratory.intrinsic+json": {
              "type": "string"
            }
          },
          "metadata": {}
        },
        {
          "output_type": "display_data",
          "data": {
            "text/plain": [
              "'No license plate detected for file: /content/drive/MyDrive/Intro to Computer Vision - Final/data/train/images/track0088[13].png'"
            ],
            "application/vnd.google.colaboratory.intrinsic+json": {
              "type": "string"
            }
          },
          "metadata": {}
        },
        {
          "output_type": "display_data",
          "data": {
            "text/plain": [
              "'No license plate detected for file: /content/drive/MyDrive/Intro to Computer Vision - Final/data/train/images/track0088[12].png'"
            ],
            "application/vnd.google.colaboratory.intrinsic+json": {
              "type": "string"
            }
          },
          "metadata": {}
        },
        {
          "output_type": "display_data",
          "data": {
            "text/plain": [
              "'No license plate detected for file: /content/drive/MyDrive/Intro to Computer Vision - Final/data/train/images/track0088[19].png'"
            ],
            "application/vnd.google.colaboratory.intrinsic+json": {
              "type": "string"
            }
          },
          "metadata": {}
        },
        {
          "output_type": "display_data",
          "data": {
            "text/plain": [
              "'No license plate detected for file: /content/drive/MyDrive/Intro to Computer Vision - Final/data/train/images/track0088[16].png'"
            ],
            "application/vnd.google.colaboratory.intrinsic+json": {
              "type": "string"
            }
          },
          "metadata": {}
        },
        {
          "output_type": "display_data",
          "data": {
            "text/plain": [
              "'No license plate detected for file: /content/drive/MyDrive/Intro to Computer Vision - Final/data/train/images/track0088[25].png'"
            ],
            "application/vnd.google.colaboratory.intrinsic+json": {
              "type": "string"
            }
          },
          "metadata": {}
        },
        {
          "output_type": "display_data",
          "data": {
            "text/plain": [
              "'No license plate detected for file: /content/drive/MyDrive/Intro to Computer Vision - Final/data/train/images/track0088[29].png'"
            ],
            "application/vnd.google.colaboratory.intrinsic+json": {
              "type": "string"
            }
          },
          "metadata": {}
        },
        {
          "output_type": "display_data",
          "data": {
            "text/plain": [
              "'No license plate detected for file: /content/drive/MyDrive/Intro to Computer Vision - Final/data/train/images/track0088[20].png'"
            ],
            "application/vnd.google.colaboratory.intrinsic+json": {
              "type": "string"
            }
          },
          "metadata": {}
        },
        {
          "output_type": "display_data",
          "data": {
            "text/plain": [
              "'No license plate detected for file: /content/drive/MyDrive/Intro to Computer Vision - Final/data/train/images/track0088[30].png'"
            ],
            "application/vnd.google.colaboratory.intrinsic+json": {
              "type": "string"
            }
          },
          "metadata": {}
        },
        {
          "output_type": "display_data",
          "data": {
            "text/plain": [
              "'No license plate detected for file: /content/drive/MyDrive/Intro to Computer Vision - Final/data/train/images/track0088[26].png'"
            ],
            "application/vnd.google.colaboratory.intrinsic+json": {
              "type": "string"
            }
          },
          "metadata": {}
        },
        {
          "output_type": "display_data",
          "data": {
            "text/plain": [
              "'No license plate detected for file: /content/drive/MyDrive/Intro to Computer Vision - Final/data/train/images/track0088[23].png'"
            ],
            "application/vnd.google.colaboratory.intrinsic+json": {
              "type": "string"
            }
          },
          "metadata": {}
        },
        {
          "output_type": "display_data",
          "data": {
            "text/plain": [
              "'No license plate detected for file: /content/drive/MyDrive/Intro to Computer Vision - Final/data/train/images/track0088[27].png'"
            ],
            "application/vnd.google.colaboratory.intrinsic+json": {
              "type": "string"
            }
          },
          "metadata": {}
        },
        {
          "output_type": "display_data",
          "data": {
            "text/plain": [
              "'No license plate detected for file: /content/drive/MyDrive/Intro to Computer Vision - Final/data/train/images/track0088[22].png'"
            ],
            "application/vnd.google.colaboratory.intrinsic+json": {
              "type": "string"
            }
          },
          "metadata": {}
        },
        {
          "output_type": "display_data",
          "data": {
            "text/plain": [
              "'No license plate detected for file: /content/drive/MyDrive/Intro to Computer Vision - Final/data/train/images/track0088[28].png'"
            ],
            "application/vnd.google.colaboratory.intrinsic+json": {
              "type": "string"
            }
          },
          "metadata": {}
        },
        {
          "output_type": "display_data",
          "data": {
            "text/plain": [
              "'No license plate detected for file: /content/drive/MyDrive/Intro to Computer Vision - Final/data/train/images/track0088[21].png'"
            ],
            "application/vnd.google.colaboratory.intrinsic+json": {
              "type": "string"
            }
          },
          "metadata": {}
        },
        {
          "output_type": "display_data",
          "data": {
            "text/plain": [
              "'No license plate detected for file: /content/drive/MyDrive/Intro to Computer Vision - Final/data/train/images/track0088[24].png'"
            ],
            "application/vnd.google.colaboratory.intrinsic+json": {
              "type": "string"
            }
          },
          "metadata": {}
        },
        {
          "output_type": "display_data",
          "data": {
            "text/plain": [
              "'No license plate detected for file: /content/drive/MyDrive/Intro to Computer Vision - Final/data/train/images/track0090[22].png'"
            ],
            "application/vnd.google.colaboratory.intrinsic+json": {
              "type": "string"
            }
          },
          "metadata": {}
        },
        {
          "output_type": "display_data",
          "data": {
            "text/plain": [
              "'No license plate detected for file: /content/drive/MyDrive/Intro to Computer Vision - Final/data/train/images/track0026[03].png'"
            ],
            "application/vnd.google.colaboratory.intrinsic+json": {
              "type": "string"
            }
          },
          "metadata": {}
        },
        {
          "output_type": "display_data",
          "data": {
            "text/plain": [
              "'No license plate detected for file: /content/drive/MyDrive/Intro to Computer Vision - Final/data/train/images/track0026[04].png'"
            ],
            "application/vnd.google.colaboratory.intrinsic+json": {
              "type": "string"
            }
          },
          "metadata": {}
        },
        {
          "output_type": "display_data",
          "data": {
            "text/plain": [
              "'No license plate detected for file: /content/drive/MyDrive/Intro to Computer Vision - Final/data/train/images/track0026[07].png'"
            ],
            "application/vnd.google.colaboratory.intrinsic+json": {
              "type": "string"
            }
          },
          "metadata": {}
        },
        {
          "output_type": "display_data",
          "data": {
            "text/plain": [
              "'No license plate detected for file: /content/drive/MyDrive/Intro to Computer Vision - Final/data/train/images/track0026[02].png'"
            ],
            "application/vnd.google.colaboratory.intrinsic+json": {
              "type": "string"
            }
          },
          "metadata": {}
        },
        {
          "output_type": "display_data",
          "data": {
            "text/plain": [
              "'No license plate detected for file: /content/drive/MyDrive/Intro to Computer Vision - Final/data/train/images/track0026[10].png'"
            ],
            "application/vnd.google.colaboratory.intrinsic+json": {
              "type": "string"
            }
          },
          "metadata": {}
        },
        {
          "output_type": "display_data",
          "data": {
            "text/plain": [
              "'No license plate detected for file: /content/drive/MyDrive/Intro to Computer Vision - Final/data/train/images/track0026[09].png'"
            ],
            "application/vnd.google.colaboratory.intrinsic+json": {
              "type": "string"
            }
          },
          "metadata": {}
        },
        {
          "output_type": "display_data",
          "data": {
            "text/plain": [
              "'No license plate detected for file: /content/drive/MyDrive/Intro to Computer Vision - Final/data/train/images/track0026[06].png'"
            ],
            "application/vnd.google.colaboratory.intrinsic+json": {
              "type": "string"
            }
          },
          "metadata": {}
        },
        {
          "output_type": "display_data",
          "data": {
            "text/plain": [
              "'No license plate detected for file: /content/drive/MyDrive/Intro to Computer Vision - Final/data/train/images/track0026[01].png'"
            ],
            "application/vnd.google.colaboratory.intrinsic+json": {
              "type": "string"
            }
          },
          "metadata": {}
        },
        {
          "output_type": "display_data",
          "data": {
            "text/plain": [
              "'No license plate detected for file: /content/drive/MyDrive/Intro to Computer Vision - Final/data/train/images/track0026[08].png'"
            ],
            "application/vnd.google.colaboratory.intrinsic+json": {
              "type": "string"
            }
          },
          "metadata": {}
        },
        {
          "output_type": "display_data",
          "data": {
            "text/plain": [
              "'No license plate detected for file: /content/drive/MyDrive/Intro to Computer Vision - Final/data/train/images/track0026[05].png'"
            ],
            "application/vnd.google.colaboratory.intrinsic+json": {
              "type": "string"
            }
          },
          "metadata": {}
        },
        {
          "output_type": "display_data",
          "data": {
            "text/plain": [
              "'No license plate detected for file: /content/drive/MyDrive/Intro to Computer Vision - Final/data/train/images/track0026[23].png'"
            ],
            "application/vnd.google.colaboratory.intrinsic+json": {
              "type": "string"
            }
          },
          "metadata": {}
        },
        {
          "output_type": "display_data",
          "data": {
            "text/plain": [
              "'No license plate detected for file: /content/drive/MyDrive/Intro to Computer Vision - Final/data/train/images/track0026[22].png'"
            ],
            "application/vnd.google.colaboratory.intrinsic+json": {
              "type": "string"
            }
          },
          "metadata": {}
        },
        {
          "output_type": "display_data",
          "data": {
            "text/plain": [
              "'No license plate detected for file: /content/drive/MyDrive/Intro to Computer Vision - Final/data/train/images/track0026[14].png'"
            ],
            "application/vnd.google.colaboratory.intrinsic+json": {
              "type": "string"
            }
          },
          "metadata": {}
        },
        {
          "output_type": "display_data",
          "data": {
            "text/plain": [
              "'No license plate detected for file: /content/drive/MyDrive/Intro to Computer Vision - Final/data/train/images/track0026[24].png'"
            ],
            "application/vnd.google.colaboratory.intrinsic+json": {
              "type": "string"
            }
          },
          "metadata": {}
        },
        {
          "output_type": "display_data",
          "data": {
            "text/plain": [
              "'No license plate detected for file: /content/drive/MyDrive/Intro to Computer Vision - Final/data/train/images/track0026[26].png'"
            ],
            "application/vnd.google.colaboratory.intrinsic+json": {
              "type": "string"
            }
          },
          "metadata": {}
        },
        {
          "output_type": "display_data",
          "data": {
            "text/plain": [
              "'No license plate detected for file: /content/drive/MyDrive/Intro to Computer Vision - Final/data/train/images/track0026[25].png'"
            ],
            "application/vnd.google.colaboratory.intrinsic+json": {
              "type": "string"
            }
          },
          "metadata": {}
        },
        {
          "output_type": "display_data",
          "data": {
            "text/plain": [
              "'No license plate detected for file: /content/drive/MyDrive/Intro to Computer Vision - Final/data/train/images/track0026[29].png'"
            ],
            "application/vnd.google.colaboratory.intrinsic+json": {
              "type": "string"
            }
          },
          "metadata": {}
        },
        {
          "output_type": "display_data",
          "data": {
            "text/plain": [
              "'No license plate detected for file: /content/drive/MyDrive/Intro to Computer Vision - Final/data/train/images/track0026[28].png'"
            ],
            "application/vnd.google.colaboratory.intrinsic+json": {
              "type": "string"
            }
          },
          "metadata": {}
        },
        {
          "output_type": "display_data",
          "data": {
            "text/plain": [
              "'No license plate detected for file: /content/drive/MyDrive/Intro to Computer Vision - Final/data/train/images/track0026[30].png'"
            ],
            "application/vnd.google.colaboratory.intrinsic+json": {
              "type": "string"
            }
          },
          "metadata": {}
        },
        {
          "output_type": "display_data",
          "data": {
            "text/plain": [
              "'No license plate detected for file: /content/drive/MyDrive/Intro to Computer Vision - Final/data/train/images/track0026[27].png'"
            ],
            "application/vnd.google.colaboratory.intrinsic+json": {
              "type": "string"
            }
          },
          "metadata": {}
        },
        {
          "output_type": "display_data",
          "data": {
            "text/plain": [
              "'No license plate detected for file: /content/drive/MyDrive/Intro to Computer Vision - Final/data/train/images/track0028[04].png'"
            ],
            "application/vnd.google.colaboratory.intrinsic+json": {
              "type": "string"
            }
          },
          "metadata": {}
        },
        {
          "output_type": "display_data",
          "data": {
            "text/plain": [
              "'No license plate detected for file: /content/drive/MyDrive/Intro to Computer Vision - Final/data/train/images/track0028[05].png'"
            ],
            "application/vnd.google.colaboratory.intrinsic+json": {
              "type": "string"
            }
          },
          "metadata": {}
        },
        {
          "output_type": "display_data",
          "data": {
            "text/plain": [
              "'No license plate detected for file: /content/drive/MyDrive/Intro to Computer Vision - Final/data/train/images/track0028[01].png'"
            ],
            "application/vnd.google.colaboratory.intrinsic+json": {
              "type": "string"
            }
          },
          "metadata": {}
        },
        {
          "output_type": "display_data",
          "data": {
            "text/plain": [
              "'No license plate detected for file: /content/drive/MyDrive/Intro to Computer Vision - Final/data/train/images/track0028[03].png'"
            ],
            "application/vnd.google.colaboratory.intrinsic+json": {
              "type": "string"
            }
          },
          "metadata": {}
        },
        {
          "output_type": "display_data",
          "data": {
            "text/plain": [
              "'No license plate detected for file: /content/drive/MyDrive/Intro to Computer Vision - Final/data/train/images/track0028[02].png'"
            ],
            "application/vnd.google.colaboratory.intrinsic+json": {
              "type": "string"
            }
          },
          "metadata": {}
        },
        {
          "output_type": "display_data",
          "data": {
            "text/plain": [
              "'No license plate detected for file: /content/drive/MyDrive/Intro to Computer Vision - Final/data/train/images/track0028[07].png'"
            ],
            "application/vnd.google.colaboratory.intrinsic+json": {
              "type": "string"
            }
          },
          "metadata": {}
        },
        {
          "output_type": "display_data",
          "data": {
            "text/plain": [
              "'No license plate detected for file: /content/drive/MyDrive/Intro to Computer Vision - Final/data/train/images/track0028[18].png'"
            ],
            "application/vnd.google.colaboratory.intrinsic+json": {
              "type": "string"
            }
          },
          "metadata": {}
        },
        {
          "output_type": "display_data",
          "data": {
            "text/plain": [
              "'No license plate detected for file: /content/drive/MyDrive/Intro to Computer Vision - Final/data/train/images/track0028[10].png'"
            ],
            "application/vnd.google.colaboratory.intrinsic+json": {
              "type": "string"
            }
          },
          "metadata": {}
        },
        {
          "output_type": "display_data",
          "data": {
            "text/plain": [
              "'No license plate detected for file: /content/drive/MyDrive/Intro to Computer Vision - Final/data/train/images/track0028[15].png'"
            ],
            "application/vnd.google.colaboratory.intrinsic+json": {
              "type": "string"
            }
          },
          "metadata": {}
        },
        {
          "output_type": "display_data",
          "data": {
            "text/plain": [
              "'No license plate detected for file: /content/drive/MyDrive/Intro to Computer Vision - Final/data/train/images/track0028[14].png'"
            ],
            "application/vnd.google.colaboratory.intrinsic+json": {
              "type": "string"
            }
          },
          "metadata": {}
        },
        {
          "output_type": "display_data",
          "data": {
            "text/plain": [
              "'No license plate detected for file: /content/drive/MyDrive/Intro to Computer Vision - Final/data/train/images/track0028[12].png'"
            ],
            "application/vnd.google.colaboratory.intrinsic+json": {
              "type": "string"
            }
          },
          "metadata": {}
        },
        {
          "output_type": "display_data",
          "data": {
            "text/plain": [
              "'No license plate detected for file: /content/drive/MyDrive/Intro to Computer Vision - Final/data/train/images/track0028[11].png'"
            ],
            "application/vnd.google.colaboratory.intrinsic+json": {
              "type": "string"
            }
          },
          "metadata": {}
        },
        {
          "output_type": "display_data",
          "data": {
            "text/plain": [
              "'No license plate detected for file: /content/drive/MyDrive/Intro to Computer Vision - Final/data/train/images/track0028[17].png'"
            ],
            "application/vnd.google.colaboratory.intrinsic+json": {
              "type": "string"
            }
          },
          "metadata": {}
        },
        {
          "output_type": "display_data",
          "data": {
            "text/plain": [
              "'No license plate detected for file: /content/drive/MyDrive/Intro to Computer Vision - Final/data/train/images/track0028[16].png'"
            ],
            "application/vnd.google.colaboratory.intrinsic+json": {
              "type": "string"
            }
          },
          "metadata": {}
        },
        {
          "output_type": "display_data",
          "data": {
            "text/plain": [
              "'No license plate detected for file: /content/drive/MyDrive/Intro to Computer Vision - Final/data/train/images/track0028[19].png'"
            ],
            "application/vnd.google.colaboratory.intrinsic+json": {
              "type": "string"
            }
          },
          "metadata": {}
        },
        {
          "output_type": "display_data",
          "data": {
            "text/plain": [
              "'No license plate detected for file: /content/drive/MyDrive/Intro to Computer Vision - Final/data/train/images/track0028[13].png'"
            ],
            "application/vnd.google.colaboratory.intrinsic+json": {
              "type": "string"
            }
          },
          "metadata": {}
        },
        {
          "output_type": "display_data",
          "data": {
            "text/plain": [
              "'No license plate detected for file: /content/drive/MyDrive/Intro to Computer Vision - Final/data/train/images/track0028[09].png'"
            ],
            "application/vnd.google.colaboratory.intrinsic+json": {
              "type": "string"
            }
          },
          "metadata": {}
        },
        {
          "output_type": "display_data",
          "data": {
            "text/plain": [
              "'No license plate detected for file: /content/drive/MyDrive/Intro to Computer Vision - Final/data/train/images/track0028[20].png'"
            ],
            "application/vnd.google.colaboratory.intrinsic+json": {
              "type": "string"
            }
          },
          "metadata": {}
        },
        {
          "output_type": "display_data",
          "data": {
            "text/plain": [
              "'No license plate detected for file: /content/drive/MyDrive/Intro to Computer Vision - Final/data/train/images/track0028[24].png'"
            ],
            "application/vnd.google.colaboratory.intrinsic+json": {
              "type": "string"
            }
          },
          "metadata": {}
        },
        {
          "output_type": "display_data",
          "data": {
            "text/plain": [
              "'No license plate detected for file: /content/drive/MyDrive/Intro to Computer Vision - Final/data/train/images/track0028[21].png'"
            ],
            "application/vnd.google.colaboratory.intrinsic+json": {
              "type": "string"
            }
          },
          "metadata": {}
        },
        {
          "output_type": "display_data",
          "data": {
            "text/plain": [
              "'No license plate detected for file: /content/drive/MyDrive/Intro to Computer Vision - Final/data/train/images/track0028[22].png'"
            ],
            "application/vnd.google.colaboratory.intrinsic+json": {
              "type": "string"
            }
          },
          "metadata": {}
        },
        {
          "output_type": "display_data",
          "data": {
            "text/plain": [
              "'No license plate detected for file: /content/drive/MyDrive/Intro to Computer Vision - Final/data/train/images/track0028[23].png'"
            ],
            "application/vnd.google.colaboratory.intrinsic+json": {
              "type": "string"
            }
          },
          "metadata": {}
        },
        {
          "output_type": "display_data",
          "data": {
            "text/plain": [
              "'No license plate detected for file: /content/drive/MyDrive/Intro to Computer Vision - Final/data/train/images/track0029[02].png'"
            ],
            "application/vnd.google.colaboratory.intrinsic+json": {
              "type": "string"
            }
          },
          "metadata": {}
        },
        {
          "output_type": "display_data",
          "data": {
            "text/plain": [
              "'No license plate detected for file: /content/drive/MyDrive/Intro to Computer Vision - Final/data/train/images/track0029[03].png'"
            ],
            "application/vnd.google.colaboratory.intrinsic+json": {
              "type": "string"
            }
          },
          "metadata": {}
        },
        {
          "output_type": "display_data",
          "data": {
            "text/plain": [
              "'No license plate detected for file: /content/drive/MyDrive/Intro to Computer Vision - Final/data/train/images/track0028[26].png'"
            ],
            "application/vnd.google.colaboratory.intrinsic+json": {
              "type": "string"
            }
          },
          "metadata": {}
        },
        {
          "output_type": "display_data",
          "data": {
            "text/plain": [
              "'No license plate detected for file: /content/drive/MyDrive/Intro to Computer Vision - Final/data/train/images/track0029[01].png'"
            ],
            "application/vnd.google.colaboratory.intrinsic+json": {
              "type": "string"
            }
          },
          "metadata": {}
        },
        {
          "output_type": "display_data",
          "data": {
            "text/plain": [
              "'No license plate detected for file: /content/drive/MyDrive/Intro to Computer Vision - Final/data/train/images/track0028[30].png'"
            ],
            "application/vnd.google.colaboratory.intrinsic+json": {
              "type": "string"
            }
          },
          "metadata": {}
        },
        {
          "output_type": "display_data",
          "data": {
            "text/plain": [
              "'No license plate detected for file: /content/drive/MyDrive/Intro to Computer Vision - Final/data/train/images/track0028[27].png'"
            ],
            "application/vnd.google.colaboratory.intrinsic+json": {
              "type": "string"
            }
          },
          "metadata": {}
        },
        {
          "output_type": "display_data",
          "data": {
            "text/plain": [
              "'No license plate detected for file: /content/drive/MyDrive/Intro to Computer Vision - Final/data/train/images/track0028[28].png'"
            ],
            "application/vnd.google.colaboratory.intrinsic+json": {
              "type": "string"
            }
          },
          "metadata": {}
        },
        {
          "output_type": "display_data",
          "data": {
            "text/plain": [
              "'No license plate detected for file: /content/drive/MyDrive/Intro to Computer Vision - Final/data/train/images/track0028[29].png'"
            ],
            "application/vnd.google.colaboratory.intrinsic+json": {
              "type": "string"
            }
          },
          "metadata": {}
        },
        {
          "output_type": "display_data",
          "data": {
            "text/plain": [
              "'No license plate detected for file: /content/drive/MyDrive/Intro to Computer Vision - Final/data/train/images/track0028[25].png'"
            ],
            "application/vnd.google.colaboratory.intrinsic+json": {
              "type": "string"
            }
          },
          "metadata": {}
        },
        {
          "output_type": "display_data",
          "data": {
            "text/plain": [
              "'No license plate detected for file: /content/drive/MyDrive/Intro to Computer Vision - Final/data/train/images/track0029[09].png'"
            ],
            "application/vnd.google.colaboratory.intrinsic+json": {
              "type": "string"
            }
          },
          "metadata": {}
        },
        {
          "output_type": "display_data",
          "data": {
            "text/plain": [
              "'No license plate detected for file: /content/drive/MyDrive/Intro to Computer Vision - Final/data/train/images/track0029[05].png'"
            ],
            "application/vnd.google.colaboratory.intrinsic+json": {
              "type": "string"
            }
          },
          "metadata": {}
        },
        {
          "output_type": "display_data",
          "data": {
            "text/plain": [
              "'No license plate detected for file: /content/drive/MyDrive/Intro to Computer Vision - Final/data/train/images/track0029[08].png'"
            ],
            "application/vnd.google.colaboratory.intrinsic+json": {
              "type": "string"
            }
          },
          "metadata": {}
        },
        {
          "output_type": "display_data",
          "data": {
            "text/plain": [
              "'No license plate detected for file: /content/drive/MyDrive/Intro to Computer Vision - Final/data/train/images/track0029[11].png'"
            ],
            "application/vnd.google.colaboratory.intrinsic+json": {
              "type": "string"
            }
          },
          "metadata": {}
        },
        {
          "output_type": "display_data",
          "data": {
            "text/plain": [
              "'No license plate detected for file: /content/drive/MyDrive/Intro to Computer Vision - Final/data/train/images/track0029[07].png'"
            ],
            "application/vnd.google.colaboratory.intrinsic+json": {
              "type": "string"
            }
          },
          "metadata": {}
        },
        {
          "output_type": "display_data",
          "data": {
            "text/plain": [
              "'No license plate detected for file: /content/drive/MyDrive/Intro to Computer Vision - Final/data/train/images/track0029[06].png'"
            ],
            "application/vnd.google.colaboratory.intrinsic+json": {
              "type": "string"
            }
          },
          "metadata": {}
        },
        {
          "output_type": "display_data",
          "data": {
            "text/plain": [
              "'No license plate detected for file: /content/drive/MyDrive/Intro to Computer Vision - Final/data/train/images/track0029[13].png'"
            ],
            "application/vnd.google.colaboratory.intrinsic+json": {
              "type": "string"
            }
          },
          "metadata": {}
        },
        {
          "output_type": "display_data",
          "data": {
            "text/plain": [
              "'No license plate detected for file: /content/drive/MyDrive/Intro to Computer Vision - Final/data/train/images/track0029[10].png'"
            ],
            "application/vnd.google.colaboratory.intrinsic+json": {
              "type": "string"
            }
          },
          "metadata": {}
        },
        {
          "output_type": "display_data",
          "data": {
            "text/plain": [
              "'No license plate detected for file: /content/drive/MyDrive/Intro to Computer Vision - Final/data/train/images/track0029[04].png'"
            ],
            "application/vnd.google.colaboratory.intrinsic+json": {
              "type": "string"
            }
          },
          "metadata": {}
        },
        {
          "output_type": "display_data",
          "data": {
            "text/plain": [
              "'No license plate detected for file: /content/drive/MyDrive/Intro to Computer Vision - Final/data/train/images/track0029[12].png'"
            ],
            "application/vnd.google.colaboratory.intrinsic+json": {
              "type": "string"
            }
          },
          "metadata": {}
        },
        {
          "output_type": "display_data",
          "data": {
            "text/plain": [
              "'No license plate detected for file: /content/drive/MyDrive/Intro to Computer Vision - Final/data/train/images/track0029[26].png'"
            ],
            "application/vnd.google.colaboratory.intrinsic+json": {
              "type": "string"
            }
          },
          "metadata": {}
        },
        {
          "output_type": "display_data",
          "data": {
            "text/plain": [
              "'No license plate detected for file: /content/drive/MyDrive/Intro to Computer Vision - Final/data/train/images/track0029[20].png'"
            ],
            "application/vnd.google.colaboratory.intrinsic+json": {
              "type": "string"
            }
          },
          "metadata": {}
        },
        {
          "output_type": "display_data",
          "data": {
            "text/plain": [
              "'No license plate detected for file: /content/drive/MyDrive/Intro to Computer Vision - Final/data/train/images/track0029[24].png'"
            ],
            "application/vnd.google.colaboratory.intrinsic+json": {
              "type": "string"
            }
          },
          "metadata": {}
        },
        {
          "output_type": "display_data",
          "data": {
            "text/plain": [
              "'No license plate detected for file: /content/drive/MyDrive/Intro to Computer Vision - Final/data/train/images/track0029[14].png'"
            ],
            "application/vnd.google.colaboratory.intrinsic+json": {
              "type": "string"
            }
          },
          "metadata": {}
        },
        {
          "output_type": "display_data",
          "data": {
            "text/plain": [
              "'No license plate detected for file: /content/drive/MyDrive/Intro to Computer Vision - Final/data/train/images/track0029[25].png'"
            ],
            "application/vnd.google.colaboratory.intrinsic+json": {
              "type": "string"
            }
          },
          "metadata": {}
        },
        {
          "output_type": "display_data",
          "data": {
            "text/plain": [
              "'No license plate detected for file: /content/drive/MyDrive/Intro to Computer Vision - Final/data/train/images/track0029[19].png'"
            ],
            "application/vnd.google.colaboratory.intrinsic+json": {
              "type": "string"
            }
          },
          "metadata": {}
        },
        {
          "output_type": "display_data",
          "data": {
            "text/plain": [
              "'No license plate detected for file: /content/drive/MyDrive/Intro to Computer Vision - Final/data/train/images/track0029[29].png'"
            ],
            "application/vnd.google.colaboratory.intrinsic+json": {
              "type": "string"
            }
          },
          "metadata": {}
        },
        {
          "output_type": "display_data",
          "data": {
            "text/plain": [
              "'No license plate detected for file: /content/drive/MyDrive/Intro to Computer Vision - Final/data/train/images/track0029[30].png'"
            ],
            "application/vnd.google.colaboratory.intrinsic+json": {
              "type": "string"
            }
          },
          "metadata": {}
        },
        {
          "output_type": "display_data",
          "data": {
            "text/plain": [
              "'No license plate detected for file: /content/drive/MyDrive/Intro to Computer Vision - Final/data/train/images/track0029[16].png'"
            ],
            "application/vnd.google.colaboratory.intrinsic+json": {
              "type": "string"
            }
          },
          "metadata": {}
        },
        {
          "output_type": "display_data",
          "data": {
            "text/plain": [
              "'No license plate detected for file: /content/drive/MyDrive/Intro to Computer Vision - Final/data/train/images/track0029[28].png'"
            ],
            "application/vnd.google.colaboratory.intrinsic+json": {
              "type": "string"
            }
          },
          "metadata": {}
        },
        {
          "output_type": "display_data",
          "data": {
            "text/plain": [
              "'No license plate detected for file: /content/drive/MyDrive/Intro to Computer Vision - Final/data/train/images/track0029[27].png'"
            ],
            "application/vnd.google.colaboratory.intrinsic+json": {
              "type": "string"
            }
          },
          "metadata": {}
        },
        {
          "output_type": "display_data",
          "data": {
            "text/plain": [
              "'No license plate detected for file: /content/drive/MyDrive/Intro to Computer Vision - Final/data/train/images/track0029[15].png'"
            ],
            "application/vnd.google.colaboratory.intrinsic+json": {
              "type": "string"
            }
          },
          "metadata": {}
        },
        {
          "output_type": "display_data",
          "data": {
            "text/plain": [
              "'No license plate detected for file: /content/drive/MyDrive/Intro to Computer Vision - Final/data/train/images/track0029[22].png'"
            ],
            "application/vnd.google.colaboratory.intrinsic+json": {
              "type": "string"
            }
          },
          "metadata": {}
        },
        {
          "output_type": "display_data",
          "data": {
            "text/plain": [
              "'No license plate detected for file: /content/drive/MyDrive/Intro to Computer Vision - Final/data/train/images/track0029[17].png'"
            ],
            "application/vnd.google.colaboratory.intrinsic+json": {
              "type": "string"
            }
          },
          "metadata": {}
        },
        {
          "output_type": "display_data",
          "data": {
            "text/plain": [
              "'No license plate detected for file: /content/drive/MyDrive/Intro to Computer Vision - Final/data/train/images/track0029[23].png'"
            ],
            "application/vnd.google.colaboratory.intrinsic+json": {
              "type": "string"
            }
          },
          "metadata": {}
        },
        {
          "output_type": "display_data",
          "data": {
            "text/plain": [
              "'No license plate detected for file: /content/drive/MyDrive/Intro to Computer Vision - Final/data/train/images/track0029[18].png'"
            ],
            "application/vnd.google.colaboratory.intrinsic+json": {
              "type": "string"
            }
          },
          "metadata": {}
        },
        {
          "output_type": "display_data",
          "data": {
            "text/plain": [
              "'No license plate detected for file: /content/drive/MyDrive/Intro to Computer Vision - Final/data/train/images/track0031[04].png'"
            ],
            "application/vnd.google.colaboratory.intrinsic+json": {
              "type": "string"
            }
          },
          "metadata": {}
        },
        {
          "output_type": "display_data",
          "data": {
            "text/plain": [
              "'No license plate detected for file: /content/drive/MyDrive/Intro to Computer Vision - Final/data/train/images/track0031[07].png'"
            ],
            "application/vnd.google.colaboratory.intrinsic+json": {
              "type": "string"
            }
          },
          "metadata": {}
        },
        {
          "output_type": "display_data",
          "data": {
            "text/plain": [
              "'No license plate detected for file: /content/drive/MyDrive/Intro to Computer Vision - Final/data/train/images/track0031[03].png'"
            ],
            "application/vnd.google.colaboratory.intrinsic+json": {
              "type": "string"
            }
          },
          "metadata": {}
        },
        {
          "output_type": "display_data",
          "data": {
            "text/plain": [
              "'No license plate detected for file: /content/drive/MyDrive/Intro to Computer Vision - Final/data/train/images/track0031[02].png'"
            ],
            "application/vnd.google.colaboratory.intrinsic+json": {
              "type": "string"
            }
          },
          "metadata": {}
        },
        {
          "output_type": "display_data",
          "data": {
            "text/plain": [
              "'No license plate detected for file: /content/drive/MyDrive/Intro to Computer Vision - Final/data/train/images/track0031[01].png'"
            ],
            "application/vnd.google.colaboratory.intrinsic+json": {
              "type": "string"
            }
          },
          "metadata": {}
        },
        {
          "output_type": "display_data",
          "data": {
            "text/plain": [
              "'No license plate detected for file: /content/drive/MyDrive/Intro to Computer Vision - Final/data/train/images/track0031[05].png'"
            ],
            "application/vnd.google.colaboratory.intrinsic+json": {
              "type": "string"
            }
          },
          "metadata": {}
        },
        {
          "output_type": "display_data",
          "data": {
            "text/plain": [
              "'No license plate detected for file: /content/drive/MyDrive/Intro to Computer Vision - Final/data/train/images/track0031[08].png'"
            ],
            "application/vnd.google.colaboratory.intrinsic+json": {
              "type": "string"
            }
          },
          "metadata": {}
        },
        {
          "output_type": "display_data",
          "data": {
            "text/plain": [
              "'No license plate detected for file: /content/drive/MyDrive/Intro to Computer Vision - Final/data/train/images/track0031[13].png'"
            ],
            "application/vnd.google.colaboratory.intrinsic+json": {
              "type": "string"
            }
          },
          "metadata": {}
        },
        {
          "output_type": "display_data",
          "data": {
            "text/plain": [
              "'No license plate detected for file: /content/drive/MyDrive/Intro to Computer Vision - Final/data/train/images/track0031[15].png'"
            ],
            "application/vnd.google.colaboratory.intrinsic+json": {
              "type": "string"
            }
          },
          "metadata": {}
        },
        {
          "output_type": "display_data",
          "data": {
            "text/plain": [
              "'No license plate detected for file: /content/drive/MyDrive/Intro to Computer Vision - Final/data/train/images/track0031[17].png'"
            ],
            "application/vnd.google.colaboratory.intrinsic+json": {
              "type": "string"
            }
          },
          "metadata": {}
        },
        {
          "output_type": "display_data",
          "data": {
            "text/plain": [
              "'No license plate detected for file: /content/drive/MyDrive/Intro to Computer Vision - Final/data/train/images/track0031[14].png'"
            ],
            "application/vnd.google.colaboratory.intrinsic+json": {
              "type": "string"
            }
          },
          "metadata": {}
        },
        {
          "output_type": "display_data",
          "data": {
            "text/plain": [
              "'No license plate detected for file: /content/drive/MyDrive/Intro to Computer Vision - Final/data/train/images/track0031[16].png'"
            ],
            "application/vnd.google.colaboratory.intrinsic+json": {
              "type": "string"
            }
          },
          "metadata": {}
        },
        {
          "output_type": "display_data",
          "data": {
            "text/plain": [
              "'No license plate detected for file: /content/drive/MyDrive/Intro to Computer Vision - Final/data/train/images/track0031[10].png'"
            ],
            "application/vnd.google.colaboratory.intrinsic+json": {
              "type": "string"
            }
          },
          "metadata": {}
        },
        {
          "output_type": "display_data",
          "data": {
            "text/plain": [
              "'No license plate detected for file: /content/drive/MyDrive/Intro to Computer Vision - Final/data/train/images/track0031[24].png'"
            ],
            "application/vnd.google.colaboratory.intrinsic+json": {
              "type": "string"
            }
          },
          "metadata": {}
        },
        {
          "output_type": "display_data",
          "data": {
            "text/plain": [
              "'No license plate detected for file: /content/drive/MyDrive/Intro to Computer Vision - Final/data/train/images/track0031[18].png'"
            ],
            "application/vnd.google.colaboratory.intrinsic+json": {
              "type": "string"
            }
          },
          "metadata": {}
        },
        {
          "output_type": "display_data",
          "data": {
            "text/plain": [
              "'No license plate detected for file: /content/drive/MyDrive/Intro to Computer Vision - Final/data/train/images/track0031[25].png'"
            ],
            "application/vnd.google.colaboratory.intrinsic+json": {
              "type": "string"
            }
          },
          "metadata": {}
        },
        {
          "output_type": "display_data",
          "data": {
            "text/plain": [
              "'No license plate detected for file: /content/drive/MyDrive/Intro to Computer Vision - Final/data/train/images/track0031[19].png'"
            ],
            "application/vnd.google.colaboratory.intrinsic+json": {
              "type": "string"
            }
          },
          "metadata": {}
        },
        {
          "output_type": "display_data",
          "data": {
            "text/plain": [
              "'No license plate detected for file: /content/drive/MyDrive/Intro to Computer Vision - Final/data/train/images/track0031[26].png'"
            ],
            "application/vnd.google.colaboratory.intrinsic+json": {
              "type": "string"
            }
          },
          "metadata": {}
        },
        {
          "output_type": "display_data",
          "data": {
            "text/plain": [
              "'No license plate detected for file: /content/drive/MyDrive/Intro to Computer Vision - Final/data/train/images/track0031[27].png'"
            ],
            "application/vnd.google.colaboratory.intrinsic+json": {
              "type": "string"
            }
          },
          "metadata": {}
        },
        {
          "output_type": "display_data",
          "data": {
            "text/plain": [
              "'No license plate detected for file: /content/drive/MyDrive/Intro to Computer Vision - Final/data/train/images/track0031[30].png'"
            ],
            "application/vnd.google.colaboratory.intrinsic+json": {
              "type": "string"
            }
          },
          "metadata": {}
        },
        {
          "output_type": "display_data",
          "data": {
            "text/plain": [
              "'No license plate detected for file: /content/drive/MyDrive/Intro to Computer Vision - Final/data/train/images/track0031[21].png'"
            ],
            "application/vnd.google.colaboratory.intrinsic+json": {
              "type": "string"
            }
          },
          "metadata": {}
        },
        {
          "output_type": "display_data",
          "data": {
            "text/plain": [
              "'No license plate detected for file: /content/drive/MyDrive/Intro to Computer Vision - Final/data/train/images/track0031[22].png'"
            ],
            "application/vnd.google.colaboratory.intrinsic+json": {
              "type": "string"
            }
          },
          "metadata": {}
        },
        {
          "output_type": "display_data",
          "data": {
            "text/plain": [
              "'No license plate detected for file: /content/drive/MyDrive/Intro to Computer Vision - Final/data/train/images/track0031[28].png'"
            ],
            "application/vnd.google.colaboratory.intrinsic+json": {
              "type": "string"
            }
          },
          "metadata": {}
        },
        {
          "output_type": "display_data",
          "data": {
            "text/plain": [
              "'No license plate detected for file: /content/drive/MyDrive/Intro to Computer Vision - Final/data/train/images/track0031[29].png'"
            ],
            "application/vnd.google.colaboratory.intrinsic+json": {
              "type": "string"
            }
          },
          "metadata": {}
        },
        {
          "output_type": "display_data",
          "data": {
            "text/plain": [
              "'No license plate detected for file: /content/drive/MyDrive/Intro to Computer Vision - Final/data/train/images/track0031[20].png'"
            ],
            "application/vnd.google.colaboratory.intrinsic+json": {
              "type": "string"
            }
          },
          "metadata": {}
        },
        {
          "output_type": "display_data",
          "data": {
            "text/plain": [
              "'No license plate detected for file: /content/drive/MyDrive/Intro to Computer Vision - Final/data/train/images/track0031[23].png'"
            ],
            "application/vnd.google.colaboratory.intrinsic+json": {
              "type": "string"
            }
          },
          "metadata": {}
        },
        {
          "output_type": "display_data",
          "data": {
            "text/plain": [
              "'No license plate detected for file: /content/drive/MyDrive/Intro to Computer Vision - Final/data/train/images/track0039[02].png'"
            ],
            "application/vnd.google.colaboratory.intrinsic+json": {
              "type": "string"
            }
          },
          "metadata": {}
        },
        {
          "output_type": "display_data",
          "data": {
            "text/plain": [
              "'No license plate detected for file: /content/drive/MyDrive/Intro to Computer Vision - Final/data/train/images/track0039[08].png'"
            ],
            "application/vnd.google.colaboratory.intrinsic+json": {
              "type": "string"
            }
          },
          "metadata": {}
        },
        {
          "output_type": "display_data",
          "data": {
            "text/plain": [
              "'No license plate detected for file: /content/drive/MyDrive/Intro to Computer Vision - Final/data/train/images/track0039[19].png'"
            ],
            "application/vnd.google.colaboratory.intrinsic+json": {
              "type": "string"
            }
          },
          "metadata": {}
        },
        {
          "output_type": "display_data",
          "data": {
            "text/plain": [
              "'No license plate detected for file: /content/drive/MyDrive/Intro to Computer Vision - Final/data/train/images/track0039[20].png'"
            ],
            "application/vnd.google.colaboratory.intrinsic+json": {
              "type": "string"
            }
          },
          "metadata": {}
        },
        {
          "output_type": "display_data",
          "data": {
            "text/plain": [
              "'No license plate detected for file: /content/drive/MyDrive/Intro to Computer Vision - Final/data/train/images/track0039[21].png'"
            ],
            "application/vnd.google.colaboratory.intrinsic+json": {
              "type": "string"
            }
          },
          "metadata": {}
        },
        {
          "output_type": "display_data",
          "data": {
            "text/plain": [
              "'No license plate detected for file: /content/drive/MyDrive/Intro to Computer Vision - Final/data/train/images/track0039[30].png'"
            ],
            "application/vnd.google.colaboratory.intrinsic+json": {
              "type": "string"
            }
          },
          "metadata": {}
        },
        {
          "output_type": "display_data",
          "data": {
            "text/plain": [
              "'No license plate detected for file: /content/drive/MyDrive/Intro to Computer Vision - Final/data/train/images/track0040[03].png'"
            ],
            "application/vnd.google.colaboratory.intrinsic+json": {
              "type": "string"
            }
          },
          "metadata": {}
        },
        {
          "output_type": "display_data",
          "data": {
            "text/plain": [
              "'No license plate detected for file: /content/drive/MyDrive/Intro to Computer Vision - Final/data/train/images/track0040[01].png'"
            ],
            "application/vnd.google.colaboratory.intrinsic+json": {
              "type": "string"
            }
          },
          "metadata": {}
        },
        {
          "output_type": "display_data",
          "data": {
            "text/plain": [
              "'No license plate detected for file: /content/drive/MyDrive/Intro to Computer Vision - Final/data/train/images/track0040[14].png'"
            ],
            "application/vnd.google.colaboratory.intrinsic+json": {
              "type": "string"
            }
          },
          "metadata": {}
        },
        {
          "output_type": "display_data",
          "data": {
            "text/plain": [
              "'No license plate detected for file: /content/drive/MyDrive/Intro to Computer Vision - Final/data/train/images/track0040[08].png'"
            ],
            "application/vnd.google.colaboratory.intrinsic+json": {
              "type": "string"
            }
          },
          "metadata": {}
        },
        {
          "output_type": "display_data",
          "data": {
            "text/plain": [
              "'No license plate detected for file: /content/drive/MyDrive/Intro to Computer Vision - Final/data/train/images/track0040[15].png'"
            ],
            "application/vnd.google.colaboratory.intrinsic+json": {
              "type": "string"
            }
          },
          "metadata": {}
        },
        {
          "output_type": "display_data",
          "data": {
            "text/plain": [
              "'No license plate detected for file: /content/drive/MyDrive/Intro to Computer Vision - Final/data/train/images/track0040[06].png'"
            ],
            "application/vnd.google.colaboratory.intrinsic+json": {
              "type": "string"
            }
          },
          "metadata": {}
        },
        {
          "output_type": "display_data",
          "data": {
            "text/plain": [
              "'No license plate detected for file: /content/drive/MyDrive/Intro to Computer Vision - Final/data/train/images/track0040[16].png'"
            ],
            "application/vnd.google.colaboratory.intrinsic+json": {
              "type": "string"
            }
          },
          "metadata": {}
        },
        {
          "output_type": "display_data",
          "data": {
            "text/plain": [
              "'No license plate detected for file: /content/drive/MyDrive/Intro to Computer Vision - Final/data/train/images/track0040[20].png'"
            ],
            "application/vnd.google.colaboratory.intrinsic+json": {
              "type": "string"
            }
          },
          "metadata": {}
        },
        {
          "output_type": "display_data",
          "data": {
            "text/plain": [
              "'No license plate detected for file: /content/drive/MyDrive/Intro to Computer Vision - Final/data/train/images/track0040[27].png'"
            ],
            "application/vnd.google.colaboratory.intrinsic+json": {
              "type": "string"
            }
          },
          "metadata": {}
        },
        {
          "output_type": "display_data",
          "data": {
            "text/plain": [
              "'No license plate detected for file: /content/drive/MyDrive/Intro to Computer Vision - Final/data/train/images/track0040[18].png'"
            ],
            "application/vnd.google.colaboratory.intrinsic+json": {
              "type": "string"
            }
          },
          "metadata": {}
        },
        {
          "output_type": "display_data",
          "data": {
            "text/plain": [
              "'No license plate detected for file: /content/drive/MyDrive/Intro to Computer Vision - Final/data/train/images/track0040[23].png'"
            ],
            "application/vnd.google.colaboratory.intrinsic+json": {
              "type": "string"
            }
          },
          "metadata": {}
        },
        {
          "output_type": "display_data",
          "data": {
            "text/plain": [
              "'No license plate detected for file: /content/drive/MyDrive/Intro to Computer Vision - Final/data/train/images/track0040[22].png'"
            ],
            "application/vnd.google.colaboratory.intrinsic+json": {
              "type": "string"
            }
          },
          "metadata": {}
        },
        {
          "output_type": "display_data",
          "data": {
            "text/plain": [
              "'No license plate detected for file: /content/drive/MyDrive/Intro to Computer Vision - Final/data/train/images/track0040[26].png'"
            ],
            "application/vnd.google.colaboratory.intrinsic+json": {
              "type": "string"
            }
          },
          "metadata": {}
        },
        {
          "output_type": "display_data",
          "data": {
            "text/plain": [
              "'No license plate detected for file: /content/drive/MyDrive/Intro to Computer Vision - Final/data/train/images/track0040[19].png'"
            ],
            "application/vnd.google.colaboratory.intrinsic+json": {
              "type": "string"
            }
          },
          "metadata": {}
        },
        {
          "output_type": "display_data",
          "data": {
            "text/plain": [
              "'No license plate detected for file: /content/drive/MyDrive/Intro to Computer Vision - Final/data/train/images/track0040[28].png'"
            ],
            "application/vnd.google.colaboratory.intrinsic+json": {
              "type": "string"
            }
          },
          "metadata": {}
        },
        {
          "output_type": "display_data",
          "data": {
            "text/plain": [
              "'No license plate detected for file: /content/drive/MyDrive/Intro to Computer Vision - Final/data/train/images/track0040[17].png'"
            ],
            "application/vnd.google.colaboratory.intrinsic+json": {
              "type": "string"
            }
          },
          "metadata": {}
        },
        {
          "output_type": "display_data",
          "data": {
            "text/plain": [
              "'No license plate detected for file: /content/drive/MyDrive/Intro to Computer Vision - Final/data/train/images/track0040[21].png'"
            ],
            "application/vnd.google.colaboratory.intrinsic+json": {
              "type": "string"
            }
          },
          "metadata": {}
        },
        {
          "output_type": "display_data",
          "data": {
            "text/plain": [
              "'No license plate detected for file: /content/drive/MyDrive/Intro to Computer Vision - Final/data/train/images/track0040[24].png'"
            ],
            "application/vnd.google.colaboratory.intrinsic+json": {
              "type": "string"
            }
          },
          "metadata": {}
        },
        {
          "output_type": "display_data",
          "data": {
            "text/plain": [
              "'No license plate detected for file: /content/drive/MyDrive/Intro to Computer Vision - Final/data/train/images/track0040[25].png'"
            ],
            "application/vnd.google.colaboratory.intrinsic+json": {
              "type": "string"
            }
          },
          "metadata": {}
        },
        {
          "output_type": "display_data",
          "data": {
            "text/plain": [
              "'No license plate detected for file: /content/drive/MyDrive/Intro to Computer Vision - Final/data/train/images/track0040[29].png'"
            ],
            "application/vnd.google.colaboratory.intrinsic+json": {
              "type": "string"
            }
          },
          "metadata": {}
        },
        {
          "output_type": "display_data",
          "data": {
            "text/plain": [
              "'No license plate detected for file: /content/drive/MyDrive/Intro to Computer Vision - Final/data/train/images/track0040[30].png'"
            ],
            "application/vnd.google.colaboratory.intrinsic+json": {
              "type": "string"
            }
          },
          "metadata": {}
        },
        {
          "output_type": "display_data",
          "data": {
            "text/plain": [
              "'No license plate detected for file: /content/drive/MyDrive/Intro to Computer Vision - Final/data/train/images/track0046[03].png'"
            ],
            "application/vnd.google.colaboratory.intrinsic+json": {
              "type": "string"
            }
          },
          "metadata": {}
        },
        {
          "output_type": "display_data",
          "data": {
            "text/plain": [
              "'No license plate detected for file: /content/drive/MyDrive/Intro to Computer Vision - Final/data/train/images/track0046[02].png'"
            ],
            "application/vnd.google.colaboratory.intrinsic+json": {
              "type": "string"
            }
          },
          "metadata": {}
        },
        {
          "output_type": "display_data",
          "data": {
            "text/plain": [
              "'No license plate detected for file: /content/drive/MyDrive/Intro to Computer Vision - Final/data/train/images/track0046[09].png'"
            ],
            "application/vnd.google.colaboratory.intrinsic+json": {
              "type": "string"
            }
          },
          "metadata": {}
        },
        {
          "output_type": "display_data",
          "data": {
            "text/plain": [
              "'No license plate detected for file: /content/drive/MyDrive/Intro to Computer Vision - Final/data/train/images/track0046[05].png'"
            ],
            "application/vnd.google.colaboratory.intrinsic+json": {
              "type": "string"
            }
          },
          "metadata": {}
        },
        {
          "output_type": "display_data",
          "data": {
            "text/plain": [
              "'No license plate detected for file: /content/drive/MyDrive/Intro to Computer Vision - Final/data/train/images/track0046[08].png'"
            ],
            "application/vnd.google.colaboratory.intrinsic+json": {
              "type": "string"
            }
          },
          "metadata": {}
        },
        {
          "output_type": "display_data",
          "data": {
            "text/plain": [
              "'No license plate detected for file: /content/drive/MyDrive/Intro to Computer Vision - Final/data/train/images/track0046[10].png'"
            ],
            "application/vnd.google.colaboratory.intrinsic+json": {
              "type": "string"
            }
          },
          "metadata": {}
        },
        {
          "output_type": "display_data",
          "data": {
            "text/plain": [
              "'No license plate detected for file: /content/drive/MyDrive/Intro to Computer Vision - Final/data/train/images/track0046[14].png'"
            ],
            "application/vnd.google.colaboratory.intrinsic+json": {
              "type": "string"
            }
          },
          "metadata": {}
        },
        {
          "output_type": "display_data",
          "data": {
            "text/plain": [
              "'No license plate detected for file: /content/drive/MyDrive/Intro to Computer Vision - Final/data/train/images/track0046[11].png'"
            ],
            "application/vnd.google.colaboratory.intrinsic+json": {
              "type": "string"
            }
          },
          "metadata": {}
        },
        {
          "output_type": "display_data",
          "data": {
            "text/plain": [
              "'No license plate detected for file: /content/drive/MyDrive/Intro to Computer Vision - Final/data/train/images/track0046[12].png'"
            ],
            "application/vnd.google.colaboratory.intrinsic+json": {
              "type": "string"
            }
          },
          "metadata": {}
        },
        {
          "output_type": "display_data",
          "data": {
            "text/plain": [
              "'No license plate detected for file: /content/drive/MyDrive/Intro to Computer Vision - Final/data/train/images/track0046[15].png'"
            ],
            "application/vnd.google.colaboratory.intrinsic+json": {
              "type": "string"
            }
          },
          "metadata": {}
        },
        {
          "output_type": "display_data",
          "data": {
            "text/plain": [
              "'No license plate detected for file: /content/drive/MyDrive/Intro to Computer Vision - Final/data/train/images/track0046[07].png'"
            ],
            "application/vnd.google.colaboratory.intrinsic+json": {
              "type": "string"
            }
          },
          "metadata": {}
        },
        {
          "output_type": "display_data",
          "data": {
            "text/plain": [
              "'No license plate detected for file: /content/drive/MyDrive/Intro to Computer Vision - Final/data/train/images/track0046[16].png'"
            ],
            "application/vnd.google.colaboratory.intrinsic+json": {
              "type": "string"
            }
          },
          "metadata": {}
        },
        {
          "output_type": "display_data",
          "data": {
            "text/plain": [
              "'No license plate detected for file: /content/drive/MyDrive/Intro to Computer Vision - Final/data/train/images/track0046[17].png'"
            ],
            "application/vnd.google.colaboratory.intrinsic+json": {
              "type": "string"
            }
          },
          "metadata": {}
        },
        {
          "output_type": "display_data",
          "data": {
            "text/plain": [
              "'No license plate detected for file: /content/drive/MyDrive/Intro to Computer Vision - Final/data/train/images/track0046[18].png'"
            ],
            "application/vnd.google.colaboratory.intrinsic+json": {
              "type": "string"
            }
          },
          "metadata": {}
        },
        {
          "output_type": "display_data",
          "data": {
            "text/plain": [
              "'No license plate detected for file: /content/drive/MyDrive/Intro to Computer Vision - Final/data/train/images/track0046[20].png'"
            ],
            "application/vnd.google.colaboratory.intrinsic+json": {
              "type": "string"
            }
          },
          "metadata": {}
        },
        {
          "output_type": "display_data",
          "data": {
            "text/plain": [
              "'No license plate detected for file: /content/drive/MyDrive/Intro to Computer Vision - Final/data/train/images/track0046[19].png'"
            ],
            "application/vnd.google.colaboratory.intrinsic+json": {
              "type": "string"
            }
          },
          "metadata": {}
        },
        {
          "output_type": "display_data",
          "data": {
            "text/plain": [
              "'No license plate detected for file: /content/drive/MyDrive/Intro to Computer Vision - Final/data/train/images/track0046[22].png'"
            ],
            "application/vnd.google.colaboratory.intrinsic+json": {
              "type": "string"
            }
          },
          "metadata": {}
        },
        {
          "output_type": "display_data",
          "data": {
            "text/plain": [
              "'No license plate detected for file: /content/drive/MyDrive/Intro to Computer Vision - Final/data/train/images/track0046[29].png'"
            ],
            "application/vnd.google.colaboratory.intrinsic+json": {
              "type": "string"
            }
          },
          "metadata": {}
        },
        {
          "output_type": "display_data",
          "data": {
            "text/plain": [
              "'No license plate detected for file: /content/drive/MyDrive/Intro to Computer Vision - Final/data/train/images/track0046[21].png'"
            ],
            "application/vnd.google.colaboratory.intrinsic+json": {
              "type": "string"
            }
          },
          "metadata": {}
        },
        {
          "output_type": "display_data",
          "data": {
            "text/plain": [
              "'No license plate detected for file: /content/drive/MyDrive/Intro to Computer Vision - Final/data/train/images/track0046[26].png'"
            ],
            "application/vnd.google.colaboratory.intrinsic+json": {
              "type": "string"
            }
          },
          "metadata": {}
        },
        {
          "output_type": "display_data",
          "data": {
            "text/plain": [
              "'No license plate detected for file: /content/drive/MyDrive/Intro to Computer Vision - Final/data/train/images/track0046[27].png'"
            ],
            "application/vnd.google.colaboratory.intrinsic+json": {
              "type": "string"
            }
          },
          "metadata": {}
        },
        {
          "output_type": "display_data",
          "data": {
            "text/plain": [
              "'No license plate detected for file: /content/drive/MyDrive/Intro to Computer Vision - Final/data/train/images/track0046[30].png'"
            ],
            "application/vnd.google.colaboratory.intrinsic+json": {
              "type": "string"
            }
          },
          "metadata": {}
        },
        {
          "output_type": "display_data",
          "data": {
            "text/plain": [
              "'No license plate detected for file: /content/drive/MyDrive/Intro to Computer Vision - Final/data/train/images/track0046[28].png'"
            ],
            "application/vnd.google.colaboratory.intrinsic+json": {
              "type": "string"
            }
          },
          "metadata": {}
        },
        {
          "output_type": "display_data",
          "data": {
            "text/plain": [
              "'No license plate detected for file: /content/drive/MyDrive/Intro to Computer Vision - Final/data/train/images/track0046[24].png'"
            ],
            "application/vnd.google.colaboratory.intrinsic+json": {
              "type": "string"
            }
          },
          "metadata": {}
        },
        {
          "output_type": "display_data",
          "data": {
            "text/plain": [
              "'No license plate detected for file: /content/drive/MyDrive/Intro to Computer Vision - Final/data/train/images/track0046[25].png'"
            ],
            "application/vnd.google.colaboratory.intrinsic+json": {
              "type": "string"
            }
          },
          "metadata": {}
        },
        {
          "output_type": "display_data",
          "data": {
            "text/plain": [
              "'No license plate detected for file: /content/drive/MyDrive/Intro to Computer Vision - Final/data/train/images/track0048[03].png'"
            ],
            "application/vnd.google.colaboratory.intrinsic+json": {
              "type": "string"
            }
          },
          "metadata": {}
        },
        {
          "output_type": "display_data",
          "data": {
            "text/plain": [
              "'No license plate detected for file: /content/drive/MyDrive/Intro to Computer Vision - Final/data/train/images/track0048[17].png'"
            ],
            "application/vnd.google.colaboratory.intrinsic+json": {
              "type": "string"
            }
          },
          "metadata": {}
        },
        {
          "output_type": "display_data",
          "data": {
            "text/plain": [
              "'No license plate detected for file: /content/drive/MyDrive/Intro to Computer Vision - Final/data/train/images/track0048[14].png'"
            ],
            "application/vnd.google.colaboratory.intrinsic+json": {
              "type": "string"
            }
          },
          "metadata": {}
        },
        {
          "output_type": "display_data",
          "data": {
            "text/plain": [
              "'No license plate detected for file: /content/drive/MyDrive/Intro to Computer Vision - Final/data/train/images/track0048[16].png'"
            ],
            "application/vnd.google.colaboratory.intrinsic+json": {
              "type": "string"
            }
          },
          "metadata": {}
        },
        {
          "output_type": "display_data",
          "data": {
            "text/plain": [
              "'No license plate detected for file: /content/drive/MyDrive/Intro to Computer Vision - Final/data/train/images/track0048[27].png'"
            ],
            "application/vnd.google.colaboratory.intrinsic+json": {
              "type": "string"
            }
          },
          "metadata": {}
        },
        {
          "output_type": "display_data",
          "data": {
            "text/plain": [
              "'No license plate detected for file: /content/drive/MyDrive/Intro to Computer Vision - Final/data/train/images/track0048[26].png'"
            ],
            "application/vnd.google.colaboratory.intrinsic+json": {
              "type": "string"
            }
          },
          "metadata": {}
        },
        {
          "output_type": "display_data",
          "data": {
            "text/plain": [
              "'No license plate detected for file: /content/drive/MyDrive/Intro to Computer Vision - Final/data/train/images/track0048[28].png'"
            ],
            "application/vnd.google.colaboratory.intrinsic+json": {
              "type": "string"
            }
          },
          "metadata": {}
        },
        {
          "output_type": "display_data",
          "data": {
            "text/plain": [
              "'No license plate detected for file: /content/drive/MyDrive/Intro to Computer Vision - Final/data/train/images/track0048[29].png'"
            ],
            "application/vnd.google.colaboratory.intrinsic+json": {
              "type": "string"
            }
          },
          "metadata": {}
        },
        {
          "output_type": "display_data",
          "data": {
            "text/plain": [
              "'No license plate detected for file: /content/drive/MyDrive/Intro to Computer Vision - Final/data/train/images/track0050[02].png'"
            ],
            "application/vnd.google.colaboratory.intrinsic+json": {
              "type": "string"
            }
          },
          "metadata": {}
        },
        {
          "output_type": "display_data",
          "data": {
            "text/plain": [
              "'No license plate detected for file: /content/drive/MyDrive/Intro to Computer Vision - Final/data/train/images/track0050[16].png'"
            ],
            "application/vnd.google.colaboratory.intrinsic+json": {
              "type": "string"
            }
          },
          "metadata": {}
        },
        {
          "output_type": "display_data",
          "data": {
            "text/plain": [
              "'No license plate detected for file: /content/drive/MyDrive/Intro to Computer Vision - Final/data/train/images/track0009[03].png'"
            ],
            "application/vnd.google.colaboratory.intrinsic+json": {
              "type": "string"
            }
          },
          "metadata": {}
        },
        {
          "output_type": "display_data",
          "data": {
            "text/plain": [
              "'No license plate detected for file: /content/drive/MyDrive/Intro to Computer Vision - Final/data/train/images/track0009[06].png'"
            ],
            "application/vnd.google.colaboratory.intrinsic+json": {
              "type": "string"
            }
          },
          "metadata": {}
        },
        {
          "output_type": "display_data",
          "data": {
            "text/plain": [
              "'No license plate detected for file: /content/drive/MyDrive/Intro to Computer Vision - Final/data/train/images/track0009[14].png'"
            ],
            "application/vnd.google.colaboratory.intrinsic+json": {
              "type": "string"
            }
          },
          "metadata": {}
        },
        {
          "output_type": "display_data",
          "data": {
            "text/plain": [
              "'No license plate detected for file: /content/drive/MyDrive/Intro to Computer Vision - Final/data/train/images/track0009[18].png'"
            ],
            "application/vnd.google.colaboratory.intrinsic+json": {
              "type": "string"
            }
          },
          "metadata": {}
        },
        {
          "output_type": "display_data",
          "data": {
            "text/plain": [
              "'No license plate detected for file: /content/drive/MyDrive/Intro to Computer Vision - Final/data/train/images/track0009[17].png'"
            ],
            "application/vnd.google.colaboratory.intrinsic+json": {
              "type": "string"
            }
          },
          "metadata": {}
        },
        {
          "output_type": "display_data",
          "data": {
            "text/plain": [
              "'No license plate detected for file: /content/drive/MyDrive/Intro to Computer Vision - Final/data/train/images/track0011[01].png'"
            ],
            "application/vnd.google.colaboratory.intrinsic+json": {
              "type": "string"
            }
          },
          "metadata": {}
        },
        {
          "output_type": "display_data",
          "data": {
            "text/plain": [
              "'No license plate detected for file: /content/drive/MyDrive/Intro to Computer Vision - Final/data/train/images/track0011[03].png'"
            ],
            "application/vnd.google.colaboratory.intrinsic+json": {
              "type": "string"
            }
          },
          "metadata": {}
        },
        {
          "output_type": "display_data",
          "data": {
            "text/plain": [
              "'No license plate detected for file: /content/drive/MyDrive/Intro to Computer Vision - Final/data/train/images/track0011[08].png'"
            ],
            "application/vnd.google.colaboratory.intrinsic+json": {
              "type": "string"
            }
          },
          "metadata": {}
        },
        {
          "output_type": "display_data",
          "data": {
            "text/plain": [
              "'No license plate detected for file: /content/drive/MyDrive/Intro to Computer Vision - Final/data/train/images/track0011[05].png'"
            ],
            "application/vnd.google.colaboratory.intrinsic+json": {
              "type": "string"
            }
          },
          "metadata": {}
        },
        {
          "output_type": "display_data",
          "data": {
            "text/plain": [
              "'No license plate detected for file: /content/drive/MyDrive/Intro to Computer Vision - Final/data/train/images/track0011[06].png'"
            ],
            "application/vnd.google.colaboratory.intrinsic+json": {
              "type": "string"
            }
          },
          "metadata": {}
        },
        {
          "output_type": "display_data",
          "data": {
            "text/plain": [
              "'No license plate detected for file: /content/drive/MyDrive/Intro to Computer Vision - Final/data/train/images/track0011[07].png'"
            ],
            "application/vnd.google.colaboratory.intrinsic+json": {
              "type": "string"
            }
          },
          "metadata": {}
        },
        {
          "output_type": "display_data",
          "data": {
            "text/plain": [
              "'No license plate detected for file: /content/drive/MyDrive/Intro to Computer Vision - Final/data/train/images/track0011[02].png'"
            ],
            "application/vnd.google.colaboratory.intrinsic+json": {
              "type": "string"
            }
          },
          "metadata": {}
        },
        {
          "output_type": "display_data",
          "data": {
            "text/plain": [
              "'No license plate detected for file: /content/drive/MyDrive/Intro to Computer Vision - Final/data/train/images/track0011[04].png'"
            ],
            "application/vnd.google.colaboratory.intrinsic+json": {
              "type": "string"
            }
          },
          "metadata": {}
        },
        {
          "output_type": "display_data",
          "data": {
            "text/plain": [
              "'No license plate detected for file: /content/drive/MyDrive/Intro to Computer Vision - Final/data/train/images/track0011[14].png'"
            ],
            "application/vnd.google.colaboratory.intrinsic+json": {
              "type": "string"
            }
          },
          "metadata": {}
        },
        {
          "output_type": "display_data",
          "data": {
            "text/plain": [
              "'No license plate detected for file: /content/drive/MyDrive/Intro to Computer Vision - Final/data/train/images/track0011[16].png'"
            ],
            "application/vnd.google.colaboratory.intrinsic+json": {
              "type": "string"
            }
          },
          "metadata": {}
        },
        {
          "output_type": "display_data",
          "data": {
            "text/plain": [
              "'No license plate detected for file: /content/drive/MyDrive/Intro to Computer Vision - Final/data/train/images/track0011[15].png'"
            ],
            "application/vnd.google.colaboratory.intrinsic+json": {
              "type": "string"
            }
          },
          "metadata": {}
        },
        {
          "output_type": "display_data",
          "data": {
            "text/plain": [
              "'No license plate detected for file: /content/drive/MyDrive/Intro to Computer Vision - Final/data/train/images/track0011[12].png'"
            ],
            "application/vnd.google.colaboratory.intrinsic+json": {
              "type": "string"
            }
          },
          "metadata": {}
        },
        {
          "output_type": "display_data",
          "data": {
            "text/plain": [
              "'No license plate detected for file: /content/drive/MyDrive/Intro to Computer Vision - Final/data/train/images/track0011[13].png'"
            ],
            "application/vnd.google.colaboratory.intrinsic+json": {
              "type": "string"
            }
          },
          "metadata": {}
        },
        {
          "output_type": "display_data",
          "data": {
            "text/plain": [
              "'No license plate detected for file: /content/drive/MyDrive/Intro to Computer Vision - Final/data/train/images/track0011[10].png'"
            ],
            "application/vnd.google.colaboratory.intrinsic+json": {
              "type": "string"
            }
          },
          "metadata": {}
        },
        {
          "output_type": "display_data",
          "data": {
            "text/plain": [
              "'No license plate detected for file: /content/drive/MyDrive/Intro to Computer Vision - Final/data/train/images/track0011[11].png'"
            ],
            "application/vnd.google.colaboratory.intrinsic+json": {
              "type": "string"
            }
          },
          "metadata": {}
        },
        {
          "output_type": "display_data",
          "data": {
            "text/plain": [
              "'No license plate detected for file: /content/drive/MyDrive/Intro to Computer Vision - Final/data/train/images/track0011[09].png'"
            ],
            "application/vnd.google.colaboratory.intrinsic+json": {
              "type": "string"
            }
          },
          "metadata": {}
        },
        {
          "output_type": "display_data",
          "data": {
            "text/plain": [
              "'No license plate detected for file: /content/drive/MyDrive/Intro to Computer Vision - Final/data/train/images/track0020[24].png'"
            ],
            "application/vnd.google.colaboratory.intrinsic+json": {
              "type": "string"
            }
          },
          "metadata": {}
        },
        {
          "output_type": "error",
          "ename": "FileNotFoundError",
          "evalue": "ignored",
          "traceback": [
            "\u001b[0;31m---------------------------------------------------------------------------\u001b[0m",
            "\u001b[0;31mFileNotFoundError\u001b[0m                         Traceback (most recent call last)",
            "\u001b[0;32m<ipython-input-51-2ec34326434e>\u001b[0m in \u001b[0;36m<module>\u001b[0;34m\u001b[0m\n\u001b[1;32m      4\u001b[0m \u001b[0;32mfor\u001b[0m \u001b[0mf\u001b[0m \u001b[0;32min\u001b[0m \u001b[0mlist_of_images\u001b[0m\u001b[0;34m:\u001b[0m\u001b[0;34m\u001b[0m\u001b[0;34m\u001b[0m\u001b[0m\n\u001b[1;32m      5\u001b[0m   \u001b[0mfilename\u001b[0m \u001b[0;34m=\u001b[0m \u001b[0;34m'/content/drive/MyDrive/Intro to Computer Vision - Final/data/train/images/'\u001b[0m \u001b[0;34m+\u001b[0m \u001b[0mf\u001b[0m  \u001b[0;31m# UPDATE with your file name\u001b[0m\u001b[0;34m\u001b[0m\u001b[0;34m\u001b[0m\u001b[0m\n\u001b[0;32m----> 6\u001b[0;31m   \u001b[0minput_images\u001b[0m\u001b[0;34m,\u001b[0m \u001b[0mimg_for_char_segm\u001b[0m\u001b[0;34m,\u001b[0m \u001b[0mchar_images\u001b[0m \u001b[0;34m,\u001b[0m \u001b[0mboxes_df\u001b[0m\u001b[0;34m=\u001b[0m  \u001b[0mchar_segmentation_yolo\u001b[0m\u001b[0;34m(\u001b[0m\u001b[0mfilename\u001b[0m\u001b[0;34m)\u001b[0m\u001b[0;34m\u001b[0m\u001b[0;34m\u001b[0m\u001b[0m\n\u001b[0m\u001b[1;32m      7\u001b[0m   \u001b[0;32mif\u001b[0m \u001b[0mboxes_df\u001b[0m \u001b[0;32mis\u001b[0m \u001b[0;32mnot\u001b[0m \u001b[0;32mNone\u001b[0m\u001b[0;34m:\u001b[0m\u001b[0;34m\u001b[0m\u001b[0;34m\u001b[0m\u001b[0m\n\u001b[1;32m      8\u001b[0m     \u001b[0mboxes_df\u001b[0m \u001b[0;34m=\u001b[0m \u001b[0mboxes_df\u001b[0m\u001b[0;34m.\u001b[0m\u001b[0massign\u001b[0m\u001b[0;34m(\u001b[0m\u001b[0mfilename\u001b[0m \u001b[0;34m=\u001b[0m \u001b[0mf\u001b[0m\u001b[0;34m)\u001b[0m\u001b[0;34m\u001b[0m\u001b[0;34m\u001b[0m\u001b[0m\n",
            "\u001b[0;32m<ipython-input-47-b16d550a3589>\u001b[0m in \u001b[0;36mchar_segmentation_yolo\u001b[0;34m(file_name)\u001b[0m\n\u001b[1;32m      1\u001b[0m \u001b[0;32mdef\u001b[0m \u001b[0mchar_segmentation_yolo\u001b[0m\u001b[0;34m(\u001b[0m\u001b[0mfile_name\u001b[0m\u001b[0;34m)\u001b[0m\u001b[0;34m:\u001b[0m\u001b[0;34m\u001b[0m\u001b[0;34m\u001b[0m\u001b[0m\n\u001b[0;32m----> 2\u001b[0;31m  \u001b[0minput_images\u001b[0m \u001b[0;34m=\u001b[0m \u001b[0mcv2\u001b[0m\u001b[0;34m.\u001b[0m\u001b[0mimread\u001b[0m\u001b[0;34m(\u001b[0m\u001b[0mfile_name\u001b[0m\u001b[0;34m)\u001b[0m\u001b[0;34m\u001b[0m\u001b[0;34m\u001b[0m\u001b[0m\n\u001b[0m\u001b[1;32m      3\u001b[0m  \u001b[0mresults\u001b[0m \u001b[0;34m=\u001b[0m \u001b[0mlpd_model\u001b[0m\u001b[0;34m(\u001b[0m\u001b[0minput_images\u001b[0m\u001b[0;34m)\u001b[0m\u001b[0;34m\u001b[0m\u001b[0;34m\u001b[0m\u001b[0m\n\u001b[1;32m      4\u001b[0m  \u001b[0mboxes\u001b[0m \u001b[0;34m=\u001b[0m \u001b[0mresults\u001b[0m\u001b[0;34m.\u001b[0m\u001b[0mpandas\u001b[0m\u001b[0;34m(\u001b[0m\u001b[0;34m)\u001b[0m\u001b[0;34m.\u001b[0m\u001b[0mxyxy\u001b[0m\u001b[0;34m[\u001b[0m\u001b[0;36m0\u001b[0m\u001b[0;34m]\u001b[0m\u001b[0;34m\u001b[0m\u001b[0;34m\u001b[0m\u001b[0m\n\u001b[1;32m      5\u001b[0m  \u001b[0;31m###cv2_imshow(input_images)\u001b[0m\u001b[0;34m\u001b[0m\u001b[0;34m\u001b[0m\u001b[0;34m\u001b[0m\u001b[0m\n",
            "\u001b[0;32m/content/yolov5/utils/general.py\u001b[0m in \u001b[0;36mimread\u001b[0;34m(path, flags)\u001b[0m\n\u001b[1;32m   1121\u001b[0m \u001b[0;34m\u001b[0m\u001b[0m\n\u001b[1;32m   1122\u001b[0m \u001b[0;32mdef\u001b[0m \u001b[0mimread\u001b[0m\u001b[0;34m(\u001b[0m\u001b[0mpath\u001b[0m\u001b[0;34m,\u001b[0m \u001b[0mflags\u001b[0m\u001b[0;34m=\u001b[0m\u001b[0mcv2\u001b[0m\u001b[0;34m.\u001b[0m\u001b[0mIMREAD_COLOR\u001b[0m\u001b[0;34m)\u001b[0m\u001b[0;34m:\u001b[0m\u001b[0;34m\u001b[0m\u001b[0;34m\u001b[0m\u001b[0m\n\u001b[0;32m-> 1123\u001b[0;31m     \u001b[0;32mreturn\u001b[0m \u001b[0mcv2\u001b[0m\u001b[0;34m.\u001b[0m\u001b[0mimdecode\u001b[0m\u001b[0;34m(\u001b[0m\u001b[0mnp\u001b[0m\u001b[0;34m.\u001b[0m\u001b[0mfromfile\u001b[0m\u001b[0;34m(\u001b[0m\u001b[0mpath\u001b[0m\u001b[0;34m,\u001b[0m \u001b[0mnp\u001b[0m\u001b[0;34m.\u001b[0m\u001b[0muint8\u001b[0m\u001b[0;34m)\u001b[0m\u001b[0;34m,\u001b[0m \u001b[0mflags\u001b[0m\u001b[0;34m)\u001b[0m\u001b[0;34m\u001b[0m\u001b[0;34m\u001b[0m\u001b[0m\n\u001b[0m\u001b[1;32m   1124\u001b[0m \u001b[0;34m\u001b[0m\u001b[0m\n\u001b[1;32m   1125\u001b[0m \u001b[0;34m\u001b[0m\u001b[0m\n",
            "\u001b[0;31mFileNotFoundError\u001b[0m: [Errno 2] No such file or directory: '/content/drive/MyDrive/Intro to Computer Vision - Final/data/train/images/track0116[01].png'"
          ]
        }
      ]
    },
    {
      "cell_type": "code",
      "source": [
        "# Call the function, looping over all files and recording the DF results -- this time for the Test portion\n",
        "test_output_df = pd.DataFrame(columns=['xmin', 'ymin', 'xmax', 'ymax', 'confidence', 'class', 'name'])\n",
        "\n",
        "list_of_test_images =  os.listdir(\n",
        "    '/content/drive/MyDrive/Intro to Computer Vision - Final/data/test/images'\n",
        ")\n",
        "\n",
        "for f in list_of_test_images:\n",
        "  filename = '/content/drive/MyDrive/Intro to Computer Vision - Final/data/test/images/' + f  # UPDATE with your file name\n",
        "  input_images, img_for_char_segm, char_images , boxes_df=  char_segmentation_yolo(filename)\n",
        "  if boxes_df is not None:\n",
        "    boxes_df = boxes_df.assign(filename = f)\n",
        "\n",
        "  test_output_df = test_output_df.append(boxes_df)"
      ],
      "metadata": {
        "colab": {
          "base_uri": "https://localhost:8080/",
          "height": 1000
        },
        "id": "-gK2r2dFAlAs",
        "outputId": "cf4b9959-af36-43f2-f620-6d590820fa76"
      },
      "execution_count": 55,
      "outputs": [
        {
          "output_type": "display_data",
          "data": {
            "text/plain": [
              "'No license plate detected for file: /content/drive/MyDrive/Intro to Computer Vision - Final/data/test/images/track0115[27].png'"
            ],
            "application/vnd.google.colaboratory.intrinsic+json": {
              "type": "string"
            }
          },
          "metadata": {}
        },
        {
          "output_type": "display_data",
          "data": {
            "text/plain": [
              "'No license plate detected for file: /content/drive/MyDrive/Intro to Computer Vision - Final/data/test/images/track0115[30].png'"
            ],
            "application/vnd.google.colaboratory.intrinsic+json": {
              "type": "string"
            }
          },
          "metadata": {}
        },
        {
          "output_type": "display_data",
          "data": {
            "text/plain": [
              "'No license plate detected for file: /content/drive/MyDrive/Intro to Computer Vision - Final/data/test/images/track0115[28].png'"
            ],
            "application/vnd.google.colaboratory.intrinsic+json": {
              "type": "string"
            }
          },
          "metadata": {}
        },
        {
          "output_type": "display_data",
          "data": {
            "text/plain": [
              "'No license plate detected for file: /content/drive/MyDrive/Intro to Computer Vision - Final/data/test/images/track0115[29].png'"
            ],
            "application/vnd.google.colaboratory.intrinsic+json": {
              "type": "string"
            }
          },
          "metadata": {}
        },
        {
          "output_type": "display_data",
          "data": {
            "text/plain": [
              "'No license plate detected for file: /content/drive/MyDrive/Intro to Computer Vision - Final/data/test/images/track0118[17].png'"
            ],
            "application/vnd.google.colaboratory.intrinsic+json": {
              "type": "string"
            }
          },
          "metadata": {}
        },
        {
          "output_type": "display_data",
          "data": {
            "text/plain": [
              "'No license plate detected for file: /content/drive/MyDrive/Intro to Computer Vision - Final/data/test/images/track0120[01].png'"
            ],
            "application/vnd.google.colaboratory.intrinsic+json": {
              "type": "string"
            }
          },
          "metadata": {}
        },
        {
          "output_type": "display_data",
          "data": {
            "text/plain": [
              "'No license plate detected for file: /content/drive/MyDrive/Intro to Computer Vision - Final/data/test/images/track0120[02].png'"
            ],
            "application/vnd.google.colaboratory.intrinsic+json": {
              "type": "string"
            }
          },
          "metadata": {}
        },
        {
          "output_type": "display_data",
          "data": {
            "text/plain": [
              "'No license plate detected for file: /content/drive/MyDrive/Intro to Computer Vision - Final/data/test/images/track0120[03].png'"
            ],
            "application/vnd.google.colaboratory.intrinsic+json": {
              "type": "string"
            }
          },
          "metadata": {}
        },
        {
          "output_type": "display_data",
          "data": {
            "text/plain": [
              "'No license plate detected for file: /content/drive/MyDrive/Intro to Computer Vision - Final/data/test/images/track0120[05].png'"
            ],
            "application/vnd.google.colaboratory.intrinsic+json": {
              "type": "string"
            }
          },
          "metadata": {}
        },
        {
          "output_type": "display_data",
          "data": {
            "text/plain": [
              "'No license plate detected for file: /content/drive/MyDrive/Intro to Computer Vision - Final/data/test/images/track0120[04].png'"
            ],
            "application/vnd.google.colaboratory.intrinsic+json": {
              "type": "string"
            }
          },
          "metadata": {}
        },
        {
          "output_type": "display_data",
          "data": {
            "text/plain": [
              "'No license plate detected for file: /content/drive/MyDrive/Intro to Computer Vision - Final/data/test/images/track0120[06].png'"
            ],
            "application/vnd.google.colaboratory.intrinsic+json": {
              "type": "string"
            }
          },
          "metadata": {}
        },
        {
          "output_type": "display_data",
          "data": {
            "text/plain": [
              "'No license plate detected for file: /content/drive/MyDrive/Intro to Computer Vision - Final/data/test/images/track0120[13].png'"
            ],
            "application/vnd.google.colaboratory.intrinsic+json": {
              "type": "string"
            }
          },
          "metadata": {}
        },
        {
          "output_type": "display_data",
          "data": {
            "text/plain": [
              "'No license plate detected for file: /content/drive/MyDrive/Intro to Computer Vision - Final/data/test/images/track0120[11].png'"
            ],
            "application/vnd.google.colaboratory.intrinsic+json": {
              "type": "string"
            }
          },
          "metadata": {}
        },
        {
          "output_type": "display_data",
          "data": {
            "text/plain": [
              "'No license plate detected for file: /content/drive/MyDrive/Intro to Computer Vision - Final/data/test/images/track0120[09].png'"
            ],
            "application/vnd.google.colaboratory.intrinsic+json": {
              "type": "string"
            }
          },
          "metadata": {}
        },
        {
          "output_type": "display_data",
          "data": {
            "text/plain": [
              "'No license plate detected for file: /content/drive/MyDrive/Intro to Computer Vision - Final/data/test/images/track0120[08].png'"
            ],
            "application/vnd.google.colaboratory.intrinsic+json": {
              "type": "string"
            }
          },
          "metadata": {}
        },
        {
          "output_type": "display_data",
          "data": {
            "text/plain": [
              "'No license plate detected for file: /content/drive/MyDrive/Intro to Computer Vision - Final/data/test/images/track0120[21].png'"
            ],
            "application/vnd.google.colaboratory.intrinsic+json": {
              "type": "string"
            }
          },
          "metadata": {}
        },
        {
          "output_type": "display_data",
          "data": {
            "text/plain": [
              "'No license plate detected for file: /content/drive/MyDrive/Intro to Computer Vision - Final/data/test/images/track0120[16].png'"
            ],
            "application/vnd.google.colaboratory.intrinsic+json": {
              "type": "string"
            }
          },
          "metadata": {}
        },
        {
          "output_type": "display_data",
          "data": {
            "text/plain": [
              "'No license plate detected for file: /content/drive/MyDrive/Intro to Computer Vision - Final/data/test/images/track0120[20].png'"
            ],
            "application/vnd.google.colaboratory.intrinsic+json": {
              "type": "string"
            }
          },
          "metadata": {}
        },
        {
          "output_type": "display_data",
          "data": {
            "text/plain": [
              "'No license plate detected for file: /content/drive/MyDrive/Intro to Computer Vision - Final/data/test/images/track0120[17].png'"
            ],
            "application/vnd.google.colaboratory.intrinsic+json": {
              "type": "string"
            }
          },
          "metadata": {}
        },
        {
          "output_type": "display_data",
          "data": {
            "text/plain": [
              "'No license plate detected for file: /content/drive/MyDrive/Intro to Computer Vision - Final/data/test/images/track0120[19].png'"
            ],
            "application/vnd.google.colaboratory.intrinsic+json": {
              "type": "string"
            }
          },
          "metadata": {}
        },
        {
          "output_type": "display_data",
          "data": {
            "text/plain": [
              "'No license plate detected for file: /content/drive/MyDrive/Intro to Computer Vision - Final/data/test/images/track0120[14].png'"
            ],
            "application/vnd.google.colaboratory.intrinsic+json": {
              "type": "string"
            }
          },
          "metadata": {}
        },
        {
          "output_type": "display_data",
          "data": {
            "text/plain": [
              "'No license plate detected for file: /content/drive/MyDrive/Intro to Computer Vision - Final/data/test/images/track0120[15].png'"
            ],
            "application/vnd.google.colaboratory.intrinsic+json": {
              "type": "string"
            }
          },
          "metadata": {}
        },
        {
          "output_type": "display_data",
          "data": {
            "text/plain": [
              "'No license plate detected for file: /content/drive/MyDrive/Intro to Computer Vision - Final/data/test/images/track0120[26].png'"
            ],
            "application/vnd.google.colaboratory.intrinsic+json": {
              "type": "string"
            }
          },
          "metadata": {}
        },
        {
          "output_type": "display_data",
          "data": {
            "text/plain": [
              "'No license plate detected for file: /content/drive/MyDrive/Intro to Computer Vision - Final/data/test/images/track0120[23].png'"
            ],
            "application/vnd.google.colaboratory.intrinsic+json": {
              "type": "string"
            }
          },
          "metadata": {}
        },
        {
          "output_type": "display_data",
          "data": {
            "text/plain": [
              "'No license plate detected for file: /content/drive/MyDrive/Intro to Computer Vision - Final/data/test/images/track0120[30].png'"
            ],
            "application/vnd.google.colaboratory.intrinsic+json": {
              "type": "string"
            }
          },
          "metadata": {}
        },
        {
          "output_type": "display_data",
          "data": {
            "text/plain": [
              "'No license plate detected for file: /content/drive/MyDrive/Intro to Computer Vision - Final/data/test/images/track0120[28].png'"
            ],
            "application/vnd.google.colaboratory.intrinsic+json": {
              "type": "string"
            }
          },
          "metadata": {}
        },
        {
          "output_type": "display_data",
          "data": {
            "text/plain": [
              "'No license plate detected for file: /content/drive/MyDrive/Intro to Computer Vision - Final/data/test/images/track0120[27].png'"
            ],
            "application/vnd.google.colaboratory.intrinsic+json": {
              "type": "string"
            }
          },
          "metadata": {}
        },
        {
          "output_type": "display_data",
          "data": {
            "text/plain": [
              "'No license plate detected for file: /content/drive/MyDrive/Intro to Computer Vision - Final/data/test/images/track0120[29].png'"
            ],
            "application/vnd.google.colaboratory.intrinsic+json": {
              "type": "string"
            }
          },
          "metadata": {}
        },
        {
          "output_type": "display_data",
          "data": {
            "text/plain": [
              "'No license plate detected for file: /content/drive/MyDrive/Intro to Computer Vision - Final/data/test/images/track0120[24].png'"
            ],
            "application/vnd.google.colaboratory.intrinsic+json": {
              "type": "string"
            }
          },
          "metadata": {}
        },
        {
          "output_type": "display_data",
          "data": {
            "text/plain": [
              "'No license plate detected for file: /content/drive/MyDrive/Intro to Computer Vision - Final/data/test/images/track0120[25].png'"
            ],
            "application/vnd.google.colaboratory.intrinsic+json": {
              "type": "string"
            }
          },
          "metadata": {}
        },
        {
          "output_type": "display_data",
          "data": {
            "text/plain": [
              "'No license plate detected for file: /content/drive/MyDrive/Intro to Computer Vision - Final/data/test/images/track0121[25].png'"
            ],
            "application/vnd.google.colaboratory.intrinsic+json": {
              "type": "string"
            }
          },
          "metadata": {}
        },
        {
          "output_type": "display_data",
          "data": {
            "text/plain": [
              "'No license plate detected for file: /content/drive/MyDrive/Intro to Computer Vision - Final/data/test/images/track0123[03].png'"
            ],
            "application/vnd.google.colaboratory.intrinsic+json": {
              "type": "string"
            }
          },
          "metadata": {}
        },
        {
          "output_type": "display_data",
          "data": {
            "text/plain": [
              "'No license plate detected for file: /content/drive/MyDrive/Intro to Computer Vision - Final/data/test/images/track0123[04].png'"
            ],
            "application/vnd.google.colaboratory.intrinsic+json": {
              "type": "string"
            }
          },
          "metadata": {}
        },
        {
          "output_type": "display_data",
          "data": {
            "text/plain": [
              "'No license plate detected for file: /content/drive/MyDrive/Intro to Computer Vision - Final/data/test/images/track0123[02].png'"
            ],
            "application/vnd.google.colaboratory.intrinsic+json": {
              "type": "string"
            }
          },
          "metadata": {}
        },
        {
          "output_type": "display_data",
          "data": {
            "text/plain": [
              "'No license plate detected for file: /content/drive/MyDrive/Intro to Computer Vision - Final/data/test/images/track0123[05].png'"
            ],
            "application/vnd.google.colaboratory.intrinsic+json": {
              "type": "string"
            }
          },
          "metadata": {}
        },
        {
          "output_type": "display_data",
          "data": {
            "text/plain": [
              "'No license plate detected for file: /content/drive/MyDrive/Intro to Computer Vision - Final/data/test/images/track0124[01].png'"
            ],
            "application/vnd.google.colaboratory.intrinsic+json": {
              "type": "string"
            }
          },
          "metadata": {}
        },
        {
          "output_type": "display_data",
          "data": {
            "text/plain": [
              "'No license plate detected for file: /content/drive/MyDrive/Intro to Computer Vision - Final/data/test/images/track0124[05].png'"
            ],
            "application/vnd.google.colaboratory.intrinsic+json": {
              "type": "string"
            }
          },
          "metadata": {}
        },
        {
          "output_type": "display_data",
          "data": {
            "text/plain": [
              "'No license plate detected for file: /content/drive/MyDrive/Intro to Computer Vision - Final/data/test/images/track0124[15].png'"
            ],
            "application/vnd.google.colaboratory.intrinsic+json": {
              "type": "string"
            }
          },
          "metadata": {}
        },
        {
          "output_type": "display_data",
          "data": {
            "text/plain": [
              "'No license plate detected for file: /content/drive/MyDrive/Intro to Computer Vision - Final/data/test/images/track0124[19].png'"
            ],
            "application/vnd.google.colaboratory.intrinsic+json": {
              "type": "string"
            }
          },
          "metadata": {}
        },
        {
          "output_type": "display_data",
          "data": {
            "text/plain": [
              "'No license plate detected for file: /content/drive/MyDrive/Intro to Computer Vision - Final/data/test/images/track0124[16].png'"
            ],
            "application/vnd.google.colaboratory.intrinsic+json": {
              "type": "string"
            }
          },
          "metadata": {}
        },
        {
          "output_type": "display_data",
          "data": {
            "text/plain": [
              "'No license plate detected for file: /content/drive/MyDrive/Intro to Computer Vision - Final/data/test/images/track0124[20].png'"
            ],
            "application/vnd.google.colaboratory.intrinsic+json": {
              "type": "string"
            }
          },
          "metadata": {}
        },
        {
          "output_type": "display_data",
          "data": {
            "text/plain": [
              "'No license plate detected for file: /content/drive/MyDrive/Intro to Computer Vision - Final/data/test/images/track0124[18].png'"
            ],
            "application/vnd.google.colaboratory.intrinsic+json": {
              "type": "string"
            }
          },
          "metadata": {}
        },
        {
          "output_type": "display_data",
          "data": {
            "text/plain": [
              "'No license plate detected for file: /content/drive/MyDrive/Intro to Computer Vision - Final/data/test/images/track0124[17].png'"
            ],
            "application/vnd.google.colaboratory.intrinsic+json": {
              "type": "string"
            }
          },
          "metadata": {}
        },
        {
          "output_type": "display_data",
          "data": {
            "text/plain": [
              "'No license plate detected for file: /content/drive/MyDrive/Intro to Computer Vision - Final/data/test/images/track0124[22].png'"
            ],
            "application/vnd.google.colaboratory.intrinsic+json": {
              "type": "string"
            }
          },
          "metadata": {}
        },
        {
          "output_type": "display_data",
          "data": {
            "text/plain": [
              "'No license plate detected for file: /content/drive/MyDrive/Intro to Computer Vision - Final/data/test/images/track0124[21].png'"
            ],
            "application/vnd.google.colaboratory.intrinsic+json": {
              "type": "string"
            }
          },
          "metadata": {}
        },
        {
          "output_type": "display_data",
          "data": {
            "text/plain": [
              "'No license plate detected for file: /content/drive/MyDrive/Intro to Computer Vision - Final/data/test/images/track0124[27].png'"
            ],
            "application/vnd.google.colaboratory.intrinsic+json": {
              "type": "string"
            }
          },
          "metadata": {}
        },
        {
          "output_type": "display_data",
          "data": {
            "text/plain": [
              "'No license plate detected for file: /content/drive/MyDrive/Intro to Computer Vision - Final/data/test/images/track0124[29].png'"
            ],
            "application/vnd.google.colaboratory.intrinsic+json": {
              "type": "string"
            }
          },
          "metadata": {}
        },
        {
          "output_type": "display_data",
          "data": {
            "text/plain": [
              "'No license plate detected for file: /content/drive/MyDrive/Intro to Computer Vision - Final/data/test/images/track0124[30].png'"
            ],
            "application/vnd.google.colaboratory.intrinsic+json": {
              "type": "string"
            }
          },
          "metadata": {}
        },
        {
          "output_type": "display_data",
          "data": {
            "text/plain": [
              "'No license plate detected for file: /content/drive/MyDrive/Intro to Computer Vision - Final/data/test/images/track0124[24].png'"
            ],
            "application/vnd.google.colaboratory.intrinsic+json": {
              "type": "string"
            }
          },
          "metadata": {}
        },
        {
          "output_type": "display_data",
          "data": {
            "text/plain": [
              "'No license plate detected for file: /content/drive/MyDrive/Intro to Computer Vision - Final/data/test/images/track0124[25].png'"
            ],
            "application/vnd.google.colaboratory.intrinsic+json": {
              "type": "string"
            }
          },
          "metadata": {}
        },
        {
          "output_type": "display_data",
          "data": {
            "text/plain": [
              "'No license plate detected for file: /content/drive/MyDrive/Intro to Computer Vision - Final/data/test/images/track0124[23].png'"
            ],
            "application/vnd.google.colaboratory.intrinsic+json": {
              "type": "string"
            }
          },
          "metadata": {}
        },
        {
          "output_type": "display_data",
          "data": {
            "text/plain": [
              "'No license plate detected for file: /content/drive/MyDrive/Intro to Computer Vision - Final/data/test/images/track0124[28].png'"
            ],
            "application/vnd.google.colaboratory.intrinsic+json": {
              "type": "string"
            }
          },
          "metadata": {}
        },
        {
          "output_type": "display_data",
          "data": {
            "text/plain": [
              "'No license plate detected for file: /content/drive/MyDrive/Intro to Computer Vision - Final/data/test/images/track0124[26].png'"
            ],
            "application/vnd.google.colaboratory.intrinsic+json": {
              "type": "string"
            }
          },
          "metadata": {}
        },
        {
          "output_type": "display_data",
          "data": {
            "text/plain": [
              "'No license plate detected for file: /content/drive/MyDrive/Intro to Computer Vision - Final/data/test/images/track0126[26].png'"
            ],
            "application/vnd.google.colaboratory.intrinsic+json": {
              "type": "string"
            }
          },
          "metadata": {}
        },
        {
          "output_type": "display_data",
          "data": {
            "text/plain": [
              "'No license plate detected for file: /content/drive/MyDrive/Intro to Computer Vision - Final/data/test/images/track0127[02].png'"
            ],
            "application/vnd.google.colaboratory.intrinsic+json": {
              "type": "string"
            }
          },
          "metadata": {}
        },
        {
          "output_type": "display_data",
          "data": {
            "text/plain": [
              "'No license plate detected for file: /content/drive/MyDrive/Intro to Computer Vision - Final/data/test/images/track0126[27].png'"
            ],
            "application/vnd.google.colaboratory.intrinsic+json": {
              "type": "string"
            }
          },
          "metadata": {}
        },
        {
          "output_type": "display_data",
          "data": {
            "text/plain": [
              "'No license plate detected for file: /content/drive/MyDrive/Intro to Computer Vision - Final/data/test/images/track0127[01].png'"
            ],
            "application/vnd.google.colaboratory.intrinsic+json": {
              "type": "string"
            }
          },
          "metadata": {}
        },
        {
          "output_type": "display_data",
          "data": {
            "text/plain": [
              "'No license plate detected for file: /content/drive/MyDrive/Intro to Computer Vision - Final/data/test/images/track0127[07].png'"
            ],
            "application/vnd.google.colaboratory.intrinsic+json": {
              "type": "string"
            }
          },
          "metadata": {}
        },
        {
          "output_type": "display_data",
          "data": {
            "text/plain": [
              "'No license plate detected for file: /content/drive/MyDrive/Intro to Computer Vision - Final/data/test/images/track0127[13].png'"
            ],
            "application/vnd.google.colaboratory.intrinsic+json": {
              "type": "string"
            }
          },
          "metadata": {}
        },
        {
          "output_type": "display_data",
          "data": {
            "text/plain": [
              "'No license plate detected for file: /content/drive/MyDrive/Intro to Computer Vision - Final/data/test/images/track0127[05].png'"
            ],
            "application/vnd.google.colaboratory.intrinsic+json": {
              "type": "string"
            }
          },
          "metadata": {}
        },
        {
          "output_type": "display_data",
          "data": {
            "text/plain": [
              "'No license plate detected for file: /content/drive/MyDrive/Intro to Computer Vision - Final/data/test/images/track0127[10].png'"
            ],
            "application/vnd.google.colaboratory.intrinsic+json": {
              "type": "string"
            }
          },
          "metadata": {}
        },
        {
          "output_type": "display_data",
          "data": {
            "text/plain": [
              "'No license plate detected for file: /content/drive/MyDrive/Intro to Computer Vision - Final/data/test/images/track0127[09].png'"
            ],
            "application/vnd.google.colaboratory.intrinsic+json": {
              "type": "string"
            }
          },
          "metadata": {}
        },
        {
          "output_type": "display_data",
          "data": {
            "text/plain": [
              "'No license plate detected for file: /content/drive/MyDrive/Intro to Computer Vision - Final/data/test/images/track0127[11].png'"
            ],
            "application/vnd.google.colaboratory.intrinsic+json": {
              "type": "string"
            }
          },
          "metadata": {}
        },
        {
          "output_type": "display_data",
          "data": {
            "text/plain": [
              "'No license plate detected for file: /content/drive/MyDrive/Intro to Computer Vision - Final/data/test/images/track0127[14].png'"
            ],
            "application/vnd.google.colaboratory.intrinsic+json": {
              "type": "string"
            }
          },
          "metadata": {}
        },
        {
          "output_type": "display_data",
          "data": {
            "text/plain": [
              "'No license plate detected for file: /content/drive/MyDrive/Intro to Computer Vision - Final/data/test/images/track0127[08].png'"
            ],
            "application/vnd.google.colaboratory.intrinsic+json": {
              "type": "string"
            }
          },
          "metadata": {}
        },
        {
          "output_type": "display_data",
          "data": {
            "text/plain": [
              "'No license plate detected for file: /content/drive/MyDrive/Intro to Computer Vision - Final/data/test/images/track0127[12].png'"
            ],
            "application/vnd.google.colaboratory.intrinsic+json": {
              "type": "string"
            }
          },
          "metadata": {}
        },
        {
          "output_type": "display_data",
          "data": {
            "text/plain": [
              "'No license plate detected for file: /content/drive/MyDrive/Intro to Computer Vision - Final/data/test/images/track0127[15].png'"
            ],
            "application/vnd.google.colaboratory.intrinsic+json": {
              "type": "string"
            }
          },
          "metadata": {}
        },
        {
          "output_type": "display_data",
          "data": {
            "text/plain": [
              "'No license plate detected for file: /content/drive/MyDrive/Intro to Computer Vision - Final/data/test/images/track0127[23].png'"
            ],
            "application/vnd.google.colaboratory.intrinsic+json": {
              "type": "string"
            }
          },
          "metadata": {}
        },
        {
          "output_type": "display_data",
          "data": {
            "text/plain": [
              "'No license plate detected for file: /content/drive/MyDrive/Intro to Computer Vision - Final/data/test/images/track0127[21].png'"
            ],
            "application/vnd.google.colaboratory.intrinsic+json": {
              "type": "string"
            }
          },
          "metadata": {}
        },
        {
          "output_type": "display_data",
          "data": {
            "text/plain": [
              "'No license plate detected for file: /content/drive/MyDrive/Intro to Computer Vision - Final/data/test/images/track0127[20].png'"
            ],
            "application/vnd.google.colaboratory.intrinsic+json": {
              "type": "string"
            }
          },
          "metadata": {}
        },
        {
          "output_type": "display_data",
          "data": {
            "text/plain": [
              "'No license plate detected for file: /content/drive/MyDrive/Intro to Computer Vision - Final/data/test/images/track0127[17].png'"
            ],
            "application/vnd.google.colaboratory.intrinsic+json": {
              "type": "string"
            }
          },
          "metadata": {}
        },
        {
          "output_type": "display_data",
          "data": {
            "text/plain": [
              "'No license plate detected for file: /content/drive/MyDrive/Intro to Computer Vision - Final/data/test/images/track0127[18].png'"
            ],
            "application/vnd.google.colaboratory.intrinsic+json": {
              "type": "string"
            }
          },
          "metadata": {}
        },
        {
          "output_type": "display_data",
          "data": {
            "text/plain": [
              "'No license plate detected for file: /content/drive/MyDrive/Intro to Computer Vision - Final/data/test/images/track0129[17].png'"
            ],
            "application/vnd.google.colaboratory.intrinsic+json": {
              "type": "string"
            }
          },
          "metadata": {}
        },
        {
          "output_type": "display_data",
          "data": {
            "text/plain": [
              "'No license plate detected for file: /content/drive/MyDrive/Intro to Computer Vision - Final/data/test/images/track0138[05].png'"
            ],
            "application/vnd.google.colaboratory.intrinsic+json": {
              "type": "string"
            }
          },
          "metadata": {}
        },
        {
          "output_type": "display_data",
          "data": {
            "text/plain": [
              "'No license plate detected for file: /content/drive/MyDrive/Intro to Computer Vision - Final/data/test/images/track0138[06].png'"
            ],
            "application/vnd.google.colaboratory.intrinsic+json": {
              "type": "string"
            }
          },
          "metadata": {}
        },
        {
          "output_type": "display_data",
          "data": {
            "text/plain": [
              "'No license plate detected for file: /content/drive/MyDrive/Intro to Computer Vision - Final/data/test/images/track0138[10].png'"
            ],
            "application/vnd.google.colaboratory.intrinsic+json": {
              "type": "string"
            }
          },
          "metadata": {}
        },
        {
          "output_type": "display_data",
          "data": {
            "text/plain": [
              "'No license plate detected for file: /content/drive/MyDrive/Intro to Computer Vision - Final/data/test/images/track0138[08].png'"
            ],
            "application/vnd.google.colaboratory.intrinsic+json": {
              "type": "string"
            }
          },
          "metadata": {}
        },
        {
          "output_type": "display_data",
          "data": {
            "text/plain": [
              "'No license plate detected for file: /content/drive/MyDrive/Intro to Computer Vision - Final/data/test/images/track0138[07].png'"
            ],
            "application/vnd.google.colaboratory.intrinsic+json": {
              "type": "string"
            }
          },
          "metadata": {}
        },
        {
          "output_type": "display_data",
          "data": {
            "text/plain": [
              "'No license plate detected for file: /content/drive/MyDrive/Intro to Computer Vision - Final/data/test/images/track0138[09].png'"
            ],
            "application/vnd.google.colaboratory.intrinsic+json": {
              "type": "string"
            }
          },
          "metadata": {}
        },
        {
          "output_type": "display_data",
          "data": {
            "text/plain": [
              "'No license plate detected for file: /content/drive/MyDrive/Intro to Computer Vision - Final/data/test/images/track0138[04].png'"
            ],
            "application/vnd.google.colaboratory.intrinsic+json": {
              "type": "string"
            }
          },
          "metadata": {}
        },
        {
          "output_type": "display_data",
          "data": {
            "text/plain": [
              "'No license plate detected for file: /content/drive/MyDrive/Intro to Computer Vision - Final/data/test/images/track0138[03].png'"
            ],
            "application/vnd.google.colaboratory.intrinsic+json": {
              "type": "string"
            }
          },
          "metadata": {}
        },
        {
          "output_type": "display_data",
          "data": {
            "text/plain": [
              "'No license plate detected for file: /content/drive/MyDrive/Intro to Computer Vision - Final/data/test/images/track0138[11].png'"
            ],
            "application/vnd.google.colaboratory.intrinsic+json": {
              "type": "string"
            }
          },
          "metadata": {}
        },
        {
          "output_type": "display_data",
          "data": {
            "text/plain": [
              "'No license plate detected for file: /content/drive/MyDrive/Intro to Computer Vision - Final/data/test/images/track0138[12].png'"
            ],
            "application/vnd.google.colaboratory.intrinsic+json": {
              "type": "string"
            }
          },
          "metadata": {}
        },
        {
          "output_type": "display_data",
          "data": {
            "text/plain": [
              "'No license plate detected for file: /content/drive/MyDrive/Intro to Computer Vision - Final/data/test/images/track0138[01].png'"
            ],
            "application/vnd.google.colaboratory.intrinsic+json": {
              "type": "string"
            }
          },
          "metadata": {}
        },
        {
          "output_type": "display_data",
          "data": {
            "text/plain": [
              "'No license plate detected for file: /content/drive/MyDrive/Intro to Computer Vision - Final/data/test/images/track0138[16].png'"
            ],
            "application/vnd.google.colaboratory.intrinsic+json": {
              "type": "string"
            }
          },
          "metadata": {}
        },
        {
          "output_type": "display_data",
          "data": {
            "text/plain": [
              "'No license plate detected for file: /content/drive/MyDrive/Intro to Computer Vision - Final/data/test/images/track0138[17].png'"
            ],
            "application/vnd.google.colaboratory.intrinsic+json": {
              "type": "string"
            }
          },
          "metadata": {}
        },
        {
          "output_type": "display_data",
          "data": {
            "text/plain": [
              "'No license plate detected for file: /content/drive/MyDrive/Intro to Computer Vision - Final/data/test/images/track0138[19].png'"
            ],
            "application/vnd.google.colaboratory.intrinsic+json": {
              "type": "string"
            }
          },
          "metadata": {}
        },
        {
          "output_type": "display_data",
          "data": {
            "text/plain": [
              "'No license plate detected for file: /content/drive/MyDrive/Intro to Computer Vision - Final/data/test/images/track0138[20].png'"
            ],
            "application/vnd.google.colaboratory.intrinsic+json": {
              "type": "string"
            }
          },
          "metadata": {}
        },
        {
          "output_type": "display_data",
          "data": {
            "text/plain": [
              "'No license plate detected for file: /content/drive/MyDrive/Intro to Computer Vision - Final/data/test/images/track0138[15].png'"
            ],
            "application/vnd.google.colaboratory.intrinsic+json": {
              "type": "string"
            }
          },
          "metadata": {}
        },
        {
          "output_type": "display_data",
          "data": {
            "text/plain": [
              "'No license plate detected for file: /content/drive/MyDrive/Intro to Computer Vision - Final/data/test/images/track0138[18].png'"
            ],
            "application/vnd.google.colaboratory.intrinsic+json": {
              "type": "string"
            }
          },
          "metadata": {}
        },
        {
          "output_type": "display_data",
          "data": {
            "text/plain": [
              "'No license plate detected for file: /content/drive/MyDrive/Intro to Computer Vision - Final/data/test/images/track0138[13].png'"
            ],
            "application/vnd.google.colaboratory.intrinsic+json": {
              "type": "string"
            }
          },
          "metadata": {}
        },
        {
          "output_type": "display_data",
          "data": {
            "text/plain": [
              "'No license plate detected for file: /content/drive/MyDrive/Intro to Computer Vision - Final/data/test/images/track0138[14].png'"
            ],
            "application/vnd.google.colaboratory.intrinsic+json": {
              "type": "string"
            }
          },
          "metadata": {}
        },
        {
          "output_type": "display_data",
          "data": {
            "text/plain": [
              "'No license plate detected for file: /content/drive/MyDrive/Intro to Computer Vision - Final/data/test/images/track0138[22].png'"
            ],
            "application/vnd.google.colaboratory.intrinsic+json": {
              "type": "string"
            }
          },
          "metadata": {}
        },
        {
          "output_type": "display_data",
          "data": {
            "text/plain": [
              "'No license plate detected for file: /content/drive/MyDrive/Intro to Computer Vision - Final/data/test/images/track0138[24].png'"
            ],
            "application/vnd.google.colaboratory.intrinsic+json": {
              "type": "string"
            }
          },
          "metadata": {}
        },
        {
          "output_type": "display_data",
          "data": {
            "text/plain": [
              "'No license plate detected for file: /content/drive/MyDrive/Intro to Computer Vision - Final/data/test/images/track0138[21].png'"
            ],
            "application/vnd.google.colaboratory.intrinsic+json": {
              "type": "string"
            }
          },
          "metadata": {}
        },
        {
          "output_type": "display_data",
          "data": {
            "text/plain": [
              "'No license plate detected for file: /content/drive/MyDrive/Intro to Computer Vision - Final/data/test/images/track0138[25].png'"
            ],
            "application/vnd.google.colaboratory.intrinsic+json": {
              "type": "string"
            }
          },
          "metadata": {}
        },
        {
          "output_type": "display_data",
          "data": {
            "text/plain": [
              "'No license plate detected for file: /content/drive/MyDrive/Intro to Computer Vision - Final/data/test/images/track0139[25].png'"
            ],
            "application/vnd.google.colaboratory.intrinsic+json": {
              "type": "string"
            }
          },
          "metadata": {}
        },
        {
          "output_type": "display_data",
          "data": {
            "text/plain": [
              "'No license plate detected for file: /content/drive/MyDrive/Intro to Computer Vision - Final/data/test/images/track0141[06].png'"
            ],
            "application/vnd.google.colaboratory.intrinsic+json": {
              "type": "string"
            }
          },
          "metadata": {}
        },
        {
          "output_type": "display_data",
          "data": {
            "text/plain": [
              "'No license plate detected for file: /content/drive/MyDrive/Intro to Computer Vision - Final/data/test/images/track0141[05].png'"
            ],
            "application/vnd.google.colaboratory.intrinsic+json": {
              "type": "string"
            }
          },
          "metadata": {}
        },
        {
          "output_type": "display_data",
          "data": {
            "text/plain": [
              "'No license plate detected for file: /content/drive/MyDrive/Intro to Computer Vision - Final/data/test/images/track0141[03].png'"
            ],
            "application/vnd.google.colaboratory.intrinsic+json": {
              "type": "string"
            }
          },
          "metadata": {}
        },
        {
          "output_type": "display_data",
          "data": {
            "text/plain": [
              "'No license plate detected for file: /content/drive/MyDrive/Intro to Computer Vision - Final/data/test/images/track0141[04].png'"
            ],
            "application/vnd.google.colaboratory.intrinsic+json": {
              "type": "string"
            }
          },
          "metadata": {}
        },
        {
          "output_type": "display_data",
          "data": {
            "text/plain": [
              "'No license plate detected for file: /content/drive/MyDrive/Intro to Computer Vision - Final/data/test/images/track0143[04].png'"
            ],
            "application/vnd.google.colaboratory.intrinsic+json": {
              "type": "string"
            }
          },
          "metadata": {}
        },
        {
          "output_type": "display_data",
          "data": {
            "text/plain": [
              "'No license plate detected for file: /content/drive/MyDrive/Intro to Computer Vision - Final/data/test/images/track0143[05].png'"
            ],
            "application/vnd.google.colaboratory.intrinsic+json": {
              "type": "string"
            }
          },
          "metadata": {}
        },
        {
          "output_type": "display_data",
          "data": {
            "text/plain": [
              "'No license plate detected for file: /content/drive/MyDrive/Intro to Computer Vision - Final/data/test/images/track0143[08].png'"
            ],
            "application/vnd.google.colaboratory.intrinsic+json": {
              "type": "string"
            }
          },
          "metadata": {}
        },
        {
          "output_type": "display_data",
          "data": {
            "text/plain": [
              "'No license plate detected for file: /content/drive/MyDrive/Intro to Computer Vision - Final/data/test/images/track0143[06].png'"
            ],
            "application/vnd.google.colaboratory.intrinsic+json": {
              "type": "string"
            }
          },
          "metadata": {}
        },
        {
          "output_type": "display_data",
          "data": {
            "text/plain": [
              "'No license plate detected for file: /content/drive/MyDrive/Intro to Computer Vision - Final/data/test/images/track0143[07].png'"
            ],
            "application/vnd.google.colaboratory.intrinsic+json": {
              "type": "string"
            }
          },
          "metadata": {}
        },
        {
          "output_type": "display_data",
          "data": {
            "text/plain": [
              "'No license plate detected for file: /content/drive/MyDrive/Intro to Computer Vision - Final/data/test/images/track0143[12].png'"
            ],
            "application/vnd.google.colaboratory.intrinsic+json": {
              "type": "string"
            }
          },
          "metadata": {}
        },
        {
          "output_type": "display_data",
          "data": {
            "text/plain": [
              "'No license plate detected for file: /content/drive/MyDrive/Intro to Computer Vision - Final/data/test/images/track0143[11].png'"
            ],
            "application/vnd.google.colaboratory.intrinsic+json": {
              "type": "string"
            }
          },
          "metadata": {}
        },
        {
          "output_type": "display_data",
          "data": {
            "text/plain": [
              "'No license plate detected for file: /content/drive/MyDrive/Intro to Computer Vision - Final/data/test/images/track0144[05].png'"
            ],
            "application/vnd.google.colaboratory.intrinsic+json": {
              "type": "string"
            }
          },
          "metadata": {}
        },
        {
          "output_type": "display_data",
          "data": {
            "text/plain": [
              "'No license plate detected for file: /content/drive/MyDrive/Intro to Computer Vision - Final/data/test/images/track0144[06].png'"
            ],
            "application/vnd.google.colaboratory.intrinsic+json": {
              "type": "string"
            }
          },
          "metadata": {}
        },
        {
          "output_type": "display_data",
          "data": {
            "text/plain": [
              "'No license plate detected for file: /content/drive/MyDrive/Intro to Computer Vision - Final/data/test/images/track0144[01].png'"
            ],
            "application/vnd.google.colaboratory.intrinsic+json": {
              "type": "string"
            }
          },
          "metadata": {}
        },
        {
          "output_type": "display_data",
          "data": {
            "text/plain": [
              "'No license plate detected for file: /content/drive/MyDrive/Intro to Computer Vision - Final/data/test/images/track0144[07].png'"
            ],
            "application/vnd.google.colaboratory.intrinsic+json": {
              "type": "string"
            }
          },
          "metadata": {}
        },
        {
          "output_type": "display_data",
          "data": {
            "text/plain": [
              "'No license plate detected for file: /content/drive/MyDrive/Intro to Computer Vision - Final/data/test/images/track0144[03].png'"
            ],
            "application/vnd.google.colaboratory.intrinsic+json": {
              "type": "string"
            }
          },
          "metadata": {}
        },
        {
          "output_type": "display_data",
          "data": {
            "text/plain": [
              "'No license plate detected for file: /content/drive/MyDrive/Intro to Computer Vision - Final/data/test/images/track0144[10].png'"
            ],
            "application/vnd.google.colaboratory.intrinsic+json": {
              "type": "string"
            }
          },
          "metadata": {}
        },
        {
          "output_type": "display_data",
          "data": {
            "text/plain": [
              "'No license plate detected for file: /content/drive/MyDrive/Intro to Computer Vision - Final/data/test/images/track0144[04].png'"
            ],
            "application/vnd.google.colaboratory.intrinsic+json": {
              "type": "string"
            }
          },
          "metadata": {}
        },
        {
          "output_type": "display_data",
          "data": {
            "text/plain": [
              "'No license plate detected for file: /content/drive/MyDrive/Intro to Computer Vision - Final/data/test/images/track0144[08].png'"
            ],
            "application/vnd.google.colaboratory.intrinsic+json": {
              "type": "string"
            }
          },
          "metadata": {}
        },
        {
          "output_type": "display_data",
          "data": {
            "text/plain": [
              "'No license plate detected for file: /content/drive/MyDrive/Intro to Computer Vision - Final/data/test/images/track0144[02].png'"
            ],
            "application/vnd.google.colaboratory.intrinsic+json": {
              "type": "string"
            }
          },
          "metadata": {}
        },
        {
          "output_type": "display_data",
          "data": {
            "text/plain": [
              "'No license plate detected for file: /content/drive/MyDrive/Intro to Computer Vision - Final/data/test/images/track0144[09].png'"
            ],
            "application/vnd.google.colaboratory.intrinsic+json": {
              "type": "string"
            }
          },
          "metadata": {}
        },
        {
          "output_type": "display_data",
          "data": {
            "text/plain": [
              "'No license plate detected for file: /content/drive/MyDrive/Intro to Computer Vision - Final/data/test/images/track0144[16].png'"
            ],
            "application/vnd.google.colaboratory.intrinsic+json": {
              "type": "string"
            }
          },
          "metadata": {}
        },
        {
          "output_type": "display_data",
          "data": {
            "text/plain": [
              "'No license plate detected for file: /content/drive/MyDrive/Intro to Computer Vision - Final/data/test/images/track0144[15].png'"
            ],
            "application/vnd.google.colaboratory.intrinsic+json": {
              "type": "string"
            }
          },
          "metadata": {}
        },
        {
          "output_type": "display_data",
          "data": {
            "text/plain": [
              "'No license plate detected for file: /content/drive/MyDrive/Intro to Computer Vision - Final/data/test/images/track0144[20].png'"
            ],
            "application/vnd.google.colaboratory.intrinsic+json": {
              "type": "string"
            }
          },
          "metadata": {}
        },
        {
          "output_type": "display_data",
          "data": {
            "text/plain": [
              "'No license plate detected for file: /content/drive/MyDrive/Intro to Computer Vision - Final/data/test/images/track0144[14].png'"
            ],
            "application/vnd.google.colaboratory.intrinsic+json": {
              "type": "string"
            }
          },
          "metadata": {}
        },
        {
          "output_type": "display_data",
          "data": {
            "text/plain": [
              "'No license plate detected for file: /content/drive/MyDrive/Intro to Computer Vision - Final/data/test/images/track0144[17].png'"
            ],
            "application/vnd.google.colaboratory.intrinsic+json": {
              "type": "string"
            }
          },
          "metadata": {}
        },
        {
          "output_type": "display_data",
          "data": {
            "text/plain": [
              "'No license plate detected for file: /content/drive/MyDrive/Intro to Computer Vision - Final/data/test/images/track0144[11].png'"
            ],
            "application/vnd.google.colaboratory.intrinsic+json": {
              "type": "string"
            }
          },
          "metadata": {}
        },
        {
          "output_type": "display_data",
          "data": {
            "text/plain": [
              "'No license plate detected for file: /content/drive/MyDrive/Intro to Computer Vision - Final/data/test/images/track0144[19].png'"
            ],
            "application/vnd.google.colaboratory.intrinsic+json": {
              "type": "string"
            }
          },
          "metadata": {}
        },
        {
          "output_type": "display_data",
          "data": {
            "text/plain": [
              "'No license plate detected for file: /content/drive/MyDrive/Intro to Computer Vision - Final/data/test/images/track0144[12].png'"
            ],
            "application/vnd.google.colaboratory.intrinsic+json": {
              "type": "string"
            }
          },
          "metadata": {}
        },
        {
          "output_type": "display_data",
          "data": {
            "text/plain": [
              "'No license plate detected for file: /content/drive/MyDrive/Intro to Computer Vision - Final/data/test/images/track0144[13].png'"
            ],
            "application/vnd.google.colaboratory.intrinsic+json": {
              "type": "string"
            }
          },
          "metadata": {}
        },
        {
          "output_type": "display_data",
          "data": {
            "text/plain": [
              "'No license plate detected for file: /content/drive/MyDrive/Intro to Computer Vision - Final/data/test/images/track0144[18].png'"
            ],
            "application/vnd.google.colaboratory.intrinsic+json": {
              "type": "string"
            }
          },
          "metadata": {}
        },
        {
          "output_type": "display_data",
          "data": {
            "text/plain": [
              "'No license plate detected for file: /content/drive/MyDrive/Intro to Computer Vision - Final/data/test/images/track0144[25].png'"
            ],
            "application/vnd.google.colaboratory.intrinsic+json": {
              "type": "string"
            }
          },
          "metadata": {}
        },
        {
          "output_type": "display_data",
          "data": {
            "text/plain": [
              "'No license plate detected for file: /content/drive/MyDrive/Intro to Computer Vision - Final/data/test/images/track0144[26].png'"
            ],
            "application/vnd.google.colaboratory.intrinsic+json": {
              "type": "string"
            }
          },
          "metadata": {}
        },
        {
          "output_type": "display_data",
          "data": {
            "text/plain": [
              "'No license plate detected for file: /content/drive/MyDrive/Intro to Computer Vision - Final/data/test/images/track0144[27].png'"
            ],
            "application/vnd.google.colaboratory.intrinsic+json": {
              "type": "string"
            }
          },
          "metadata": {}
        },
        {
          "output_type": "display_data",
          "data": {
            "text/plain": [
              "'No license plate detected for file: /content/drive/MyDrive/Intro to Computer Vision - Final/data/test/images/track0144[28].png'"
            ],
            "application/vnd.google.colaboratory.intrinsic+json": {
              "type": "string"
            }
          },
          "metadata": {}
        },
        {
          "output_type": "display_data",
          "data": {
            "text/plain": [
              "'No license plate detected for file: /content/drive/MyDrive/Intro to Computer Vision - Final/data/test/images/track0144[22].png'"
            ],
            "application/vnd.google.colaboratory.intrinsic+json": {
              "type": "string"
            }
          },
          "metadata": {}
        },
        {
          "output_type": "display_data",
          "data": {
            "text/plain": [
              "'No license plate detected for file: /content/drive/MyDrive/Intro to Computer Vision - Final/data/test/images/track0144[24].png'"
            ],
            "application/vnd.google.colaboratory.intrinsic+json": {
              "type": "string"
            }
          },
          "metadata": {}
        },
        {
          "output_type": "display_data",
          "data": {
            "text/plain": [
              "'No license plate detected for file: /content/drive/MyDrive/Intro to Computer Vision - Final/data/test/images/track0144[21].png'"
            ],
            "application/vnd.google.colaboratory.intrinsic+json": {
              "type": "string"
            }
          },
          "metadata": {}
        },
        {
          "output_type": "display_data",
          "data": {
            "text/plain": [
              "'No license plate detected for file: /content/drive/MyDrive/Intro to Computer Vision - Final/data/test/images/track0144[23].png'"
            ],
            "application/vnd.google.colaboratory.intrinsic+json": {
              "type": "string"
            }
          },
          "metadata": {}
        },
        {
          "output_type": "display_data",
          "data": {
            "text/plain": [
              "'No license plate detected for file: /content/drive/MyDrive/Intro to Computer Vision - Final/data/test/images/track0144[29].png'"
            ],
            "application/vnd.google.colaboratory.intrinsic+json": {
              "type": "string"
            }
          },
          "metadata": {}
        },
        {
          "output_type": "display_data",
          "data": {
            "text/plain": [
              "'No license plate detected for file: /content/drive/MyDrive/Intro to Computer Vision - Final/data/test/images/track0144[30].png'"
            ],
            "application/vnd.google.colaboratory.intrinsic+json": {
              "type": "string"
            }
          },
          "metadata": {}
        },
        {
          "output_type": "display_data",
          "data": {
            "text/plain": [
              "'No license plate detected for file: /content/drive/MyDrive/Intro to Computer Vision - Final/data/test/images/track0146[10].png'"
            ],
            "application/vnd.google.colaboratory.intrinsic+json": {
              "type": "string"
            }
          },
          "metadata": {}
        },
        {
          "output_type": "display_data",
          "data": {
            "text/plain": [
              "'No license plate detected for file: /content/drive/MyDrive/Intro to Computer Vision - Final/data/test/images/track0146[07].png'"
            ],
            "application/vnd.google.colaboratory.intrinsic+json": {
              "type": "string"
            }
          },
          "metadata": {}
        },
        {
          "output_type": "display_data",
          "data": {
            "text/plain": [
              "'No license plate detected for file: /content/drive/MyDrive/Intro to Computer Vision - Final/data/test/images/track0146[12].png'"
            ],
            "application/vnd.google.colaboratory.intrinsic+json": {
              "type": "string"
            }
          },
          "metadata": {}
        },
        {
          "output_type": "display_data",
          "data": {
            "text/plain": [
              "'No license plate detected for file: /content/drive/MyDrive/Intro to Computer Vision - Final/data/test/images/track0146[03].png'"
            ],
            "application/vnd.google.colaboratory.intrinsic+json": {
              "type": "string"
            }
          },
          "metadata": {}
        },
        {
          "output_type": "display_data",
          "data": {
            "text/plain": [
              "'No license plate detected for file: /content/drive/MyDrive/Intro to Computer Vision - Final/data/test/images/track0146[08].png'"
            ],
            "application/vnd.google.colaboratory.intrinsic+json": {
              "type": "string"
            }
          },
          "metadata": {}
        },
        {
          "output_type": "display_data",
          "data": {
            "text/plain": [
              "'No license plate detected for file: /content/drive/MyDrive/Intro to Computer Vision - Final/data/test/images/track0146[05].png'"
            ],
            "application/vnd.google.colaboratory.intrinsic+json": {
              "type": "string"
            }
          },
          "metadata": {}
        },
        {
          "output_type": "display_data",
          "data": {
            "text/plain": [
              "'No license plate detected for file: /content/drive/MyDrive/Intro to Computer Vision - Final/data/test/images/track0146[06].png'"
            ],
            "application/vnd.google.colaboratory.intrinsic+json": {
              "type": "string"
            }
          },
          "metadata": {}
        },
        {
          "output_type": "display_data",
          "data": {
            "text/plain": [
              "'No license plate detected for file: /content/drive/MyDrive/Intro to Computer Vision - Final/data/test/images/track0146[11].png'"
            ],
            "application/vnd.google.colaboratory.intrinsic+json": {
              "type": "string"
            }
          },
          "metadata": {}
        },
        {
          "output_type": "display_data",
          "data": {
            "text/plain": [
              "'No license plate detected for file: /content/drive/MyDrive/Intro to Computer Vision - Final/data/test/images/track0146[09].png'"
            ],
            "application/vnd.google.colaboratory.intrinsic+json": {
              "type": "string"
            }
          },
          "metadata": {}
        },
        {
          "output_type": "display_data",
          "data": {
            "text/plain": [
              "'No license plate detected for file: /content/drive/MyDrive/Intro to Computer Vision - Final/data/test/images/track0146[04].png'"
            ],
            "application/vnd.google.colaboratory.intrinsic+json": {
              "type": "string"
            }
          },
          "metadata": {}
        },
        {
          "output_type": "display_data",
          "data": {
            "text/plain": [
              "'No license plate detected for file: /content/drive/MyDrive/Intro to Computer Vision - Final/data/test/images/track0146[19].png'"
            ],
            "application/vnd.google.colaboratory.intrinsic+json": {
              "type": "string"
            }
          },
          "metadata": {}
        },
        {
          "output_type": "display_data",
          "data": {
            "text/plain": [
              "'No license plate detected for file: /content/drive/MyDrive/Intro to Computer Vision - Final/data/test/images/track0146[14].png'"
            ],
            "application/vnd.google.colaboratory.intrinsic+json": {
              "type": "string"
            }
          },
          "metadata": {}
        },
        {
          "output_type": "display_data",
          "data": {
            "text/plain": [
              "'No license plate detected for file: /content/drive/MyDrive/Intro to Computer Vision - Final/data/test/images/track0146[21].png'"
            ],
            "application/vnd.google.colaboratory.intrinsic+json": {
              "type": "string"
            }
          },
          "metadata": {}
        },
        {
          "output_type": "display_data",
          "data": {
            "text/plain": [
              "'No license plate detected for file: /content/drive/MyDrive/Intro to Computer Vision - Final/data/test/images/track0146[16].png'"
            ],
            "application/vnd.google.colaboratory.intrinsic+json": {
              "type": "string"
            }
          },
          "metadata": {}
        },
        {
          "output_type": "display_data",
          "data": {
            "text/plain": [
              "'No license plate detected for file: /content/drive/MyDrive/Intro to Computer Vision - Final/data/test/images/track0146[20].png'"
            ],
            "application/vnd.google.colaboratory.intrinsic+json": {
              "type": "string"
            }
          },
          "metadata": {}
        },
        {
          "output_type": "display_data",
          "data": {
            "text/plain": [
              "'No license plate detected for file: /content/drive/MyDrive/Intro to Computer Vision - Final/data/test/images/track0146[18].png'"
            ],
            "application/vnd.google.colaboratory.intrinsic+json": {
              "type": "string"
            }
          },
          "metadata": {}
        },
        {
          "output_type": "display_data",
          "data": {
            "text/plain": [
              "'No license plate detected for file: /content/drive/MyDrive/Intro to Computer Vision - Final/data/test/images/track0146[15].png'"
            ],
            "application/vnd.google.colaboratory.intrinsic+json": {
              "type": "string"
            }
          },
          "metadata": {}
        },
        {
          "output_type": "display_data",
          "data": {
            "text/plain": [
              "'No license plate detected for file: /content/drive/MyDrive/Intro to Computer Vision - Final/data/test/images/track0146[28].png'"
            ],
            "application/vnd.google.colaboratory.intrinsic+json": {
              "type": "string"
            }
          },
          "metadata": {}
        },
        {
          "output_type": "display_data",
          "data": {
            "text/plain": [
              "'No license plate detected for file: /content/drive/MyDrive/Intro to Computer Vision - Final/data/test/images/track0146[25].png'"
            ],
            "application/vnd.google.colaboratory.intrinsic+json": {
              "type": "string"
            }
          },
          "metadata": {}
        },
        {
          "output_type": "display_data",
          "data": {
            "text/plain": [
              "'No license plate detected for file: /content/drive/MyDrive/Intro to Computer Vision - Final/data/test/images/track0146[29].png'"
            ],
            "application/vnd.google.colaboratory.intrinsic+json": {
              "type": "string"
            }
          },
          "metadata": {}
        },
        {
          "output_type": "display_data",
          "data": {
            "text/plain": [
              "'No license plate detected for file: /content/drive/MyDrive/Intro to Computer Vision - Final/data/test/images/track0146[30].png'"
            ],
            "application/vnd.google.colaboratory.intrinsic+json": {
              "type": "string"
            }
          },
          "metadata": {}
        },
        {
          "output_type": "display_data",
          "data": {
            "text/plain": [
              "'No license plate detected for file: /content/drive/MyDrive/Intro to Computer Vision - Final/data/test/images/track0146[26].png'"
            ],
            "application/vnd.google.colaboratory.intrinsic+json": {
              "type": "string"
            }
          },
          "metadata": {}
        },
        {
          "output_type": "display_data",
          "data": {
            "text/plain": [
              "'No license plate detected for file: /content/drive/MyDrive/Intro to Computer Vision - Final/data/test/images/track0146[24].png'"
            ],
            "application/vnd.google.colaboratory.intrinsic+json": {
              "type": "string"
            }
          },
          "metadata": {}
        },
        {
          "output_type": "display_data",
          "data": {
            "text/plain": [
              "'No license plate detected for file: /content/drive/MyDrive/Intro to Computer Vision - Final/data/test/images/track0146[22].png'"
            ],
            "application/vnd.google.colaboratory.intrinsic+json": {
              "type": "string"
            }
          },
          "metadata": {}
        },
        {
          "output_type": "display_data",
          "data": {
            "text/plain": [
              "'No license plate detected for file: /content/drive/MyDrive/Intro to Computer Vision - Final/data/test/images/track0146[27].png'"
            ],
            "application/vnd.google.colaboratory.intrinsic+json": {
              "type": "string"
            }
          },
          "metadata": {}
        },
        {
          "output_type": "display_data",
          "data": {
            "text/plain": [
              "'No license plate detected for file: /content/drive/MyDrive/Intro to Computer Vision - Final/data/test/images/track0148[02].png'"
            ],
            "application/vnd.google.colaboratory.intrinsic+json": {
              "type": "string"
            }
          },
          "metadata": {}
        },
        {
          "output_type": "display_data",
          "data": {
            "text/plain": [
              "'No license plate detected for file: /content/drive/MyDrive/Intro to Computer Vision - Final/data/test/images/track0097[04].png'"
            ],
            "application/vnd.google.colaboratory.intrinsic+json": {
              "type": "string"
            }
          },
          "metadata": {}
        },
        {
          "output_type": "display_data",
          "data": {
            "text/plain": [
              "'No license plate detected for file: /content/drive/MyDrive/Intro to Computer Vision - Final/data/test/images/track0097[03].png'"
            ],
            "application/vnd.google.colaboratory.intrinsic+json": {
              "type": "string"
            }
          },
          "metadata": {}
        },
        {
          "output_type": "display_data",
          "data": {
            "text/plain": [
              "'No license plate detected for file: /content/drive/MyDrive/Intro to Computer Vision - Final/data/test/images/track0097[08].png'"
            ],
            "application/vnd.google.colaboratory.intrinsic+json": {
              "type": "string"
            }
          },
          "metadata": {}
        },
        {
          "output_type": "display_data",
          "data": {
            "text/plain": [
              "'No license plate detected for file: /content/drive/MyDrive/Intro to Computer Vision - Final/data/test/images/track0097[07].png'"
            ],
            "application/vnd.google.colaboratory.intrinsic+json": {
              "type": "string"
            }
          },
          "metadata": {}
        },
        {
          "output_type": "display_data",
          "data": {
            "text/plain": [
              "'No license plate detected for file: /content/drive/MyDrive/Intro to Computer Vision - Final/data/test/images/track0114[29].png'"
            ],
            "application/vnd.google.colaboratory.intrinsic+json": {
              "type": "string"
            }
          },
          "metadata": {}
        },
        {
          "output_type": "display_data",
          "data": {
            "text/plain": [
              "'No license plate detected for file: /content/drive/MyDrive/Intro to Computer Vision - Final/data/test/images/track0114[30].png'"
            ],
            "application/vnd.google.colaboratory.intrinsic+json": {
              "type": "string"
            }
          },
          "metadata": {}
        },
        {
          "output_type": "display_data",
          "data": {
            "text/plain": [
              "'No license plate detected for file: /content/drive/MyDrive/Intro to Computer Vision - Final/data/test/images/track0114[28].png'"
            ],
            "application/vnd.google.colaboratory.intrinsic+json": {
              "type": "string"
            }
          },
          "metadata": {}
        },
        {
          "output_type": "display_data",
          "data": {
            "text/plain": [
              "'No license plate detected for file: /content/drive/MyDrive/Intro to Computer Vision - Final/data/test/images/track0115[18].png'"
            ],
            "application/vnd.google.colaboratory.intrinsic+json": {
              "type": "string"
            }
          },
          "metadata": {}
        },
        {
          "output_type": "display_data",
          "data": {
            "text/plain": [
              "'No license plate detected for file: /content/drive/MyDrive/Intro to Computer Vision - Final/data/test/images/track0115[16].png'"
            ],
            "application/vnd.google.colaboratory.intrinsic+json": {
              "type": "string"
            }
          },
          "metadata": {}
        },
        {
          "output_type": "display_data",
          "data": {
            "text/plain": [
              "'No license plate detected for file: /content/drive/MyDrive/Intro to Computer Vision - Final/data/test/images/track0115[20].png'"
            ],
            "application/vnd.google.colaboratory.intrinsic+json": {
              "type": "string"
            }
          },
          "metadata": {}
        },
        {
          "output_type": "display_data",
          "data": {
            "text/plain": [
              "'No license plate detected for file: /content/drive/MyDrive/Intro to Computer Vision - Final/data/test/images/track0115[15].png'"
            ],
            "application/vnd.google.colaboratory.intrinsic+json": {
              "type": "string"
            }
          },
          "metadata": {}
        }
      ]
    },
    {
      "cell_type": "code",
      "source": [
        "train_output_df = output_df"
      ],
      "metadata": {
        "id": "m_kDPmlA1R_L"
      },
      "execution_count": 53,
      "outputs": []
    },
    {
      "cell_type": "code",
      "source": [
        "train_output_df"
      ],
      "metadata": {
        "colab": {
          "base_uri": "https://localhost:8080/",
          "height": 424
        },
        "id": "JHDq-yOp4JUG",
        "outputId": "38579b35-43d1-41e0-c7d5-d852fb12c49a"
      },
      "execution_count": 54,
      "outputs": [
        {
          "output_type": "execute_result",
          "data": {
            "text/plain": [
              "         xmin       ymin        xmax       ymax  confidence class       name  \\\n",
              "0   17.102282   6.640908   31.740005  25.190994    0.475688     0  character   \n",
              "0   90.010750   9.700005  103.706497  29.007738    0.369868     0  character   \n",
              "1   16.880816   6.687716   32.777382  24.927717    0.252908     0  character   \n",
              "0   16.663185  10.627225   30.272718  29.297670    0.585876     0  character   \n",
              "1   28.774498  10.950685   44.934467  30.779533    0.511155     0  character   \n",
              "..        ...        ...         ...        ...         ...   ...        ...   \n",
              "1   83.052620   8.495237   93.463203  25.330498    0.878152     0  character   \n",
              "2    7.435962   8.989074   18.238316  25.144522    0.867433     0  character   \n",
              "3   47.780598   7.684345   58.095089  24.126379    0.867180     0  character   \n",
              "4   71.264000   8.339413   82.076881  24.188679    0.845991     0  character   \n",
              "5   18.400806   8.260540   29.706976  25.310333    0.813414     0  character   \n",
              "\n",
              "             filename  \n",
              "0   track0056[15].png  \n",
              "0   track0056[16].png  \n",
              "1   track0056[16].png  \n",
              "0   track0056[14].png  \n",
              "1   track0056[14].png  \n",
              "..                ...  \n",
              "1   track0022[21].png  \n",
              "2   track0022[21].png  \n",
              "3   track0022[21].png  \n",
              "4   track0022[21].png  \n",
              "5   track0022[21].png  \n",
              "\n",
              "[13020 rows x 8 columns]"
            ],
            "text/html": [
              "\n",
              "  <div id=\"df-d8189442-7d5f-456a-8a1e-bc5c0471e16f\">\n",
              "    <div class=\"colab-df-container\">\n",
              "      <div>\n",
              "<style scoped>\n",
              "    .dataframe tbody tr th:only-of-type {\n",
              "        vertical-align: middle;\n",
              "    }\n",
              "\n",
              "    .dataframe tbody tr th {\n",
              "        vertical-align: top;\n",
              "    }\n",
              "\n",
              "    .dataframe thead th {\n",
              "        text-align: right;\n",
              "    }\n",
              "</style>\n",
              "<table border=\"1\" class=\"dataframe\">\n",
              "  <thead>\n",
              "    <tr style=\"text-align: right;\">\n",
              "      <th></th>\n",
              "      <th>xmin</th>\n",
              "      <th>ymin</th>\n",
              "      <th>xmax</th>\n",
              "      <th>ymax</th>\n",
              "      <th>confidence</th>\n",
              "      <th>class</th>\n",
              "      <th>name</th>\n",
              "      <th>filename</th>\n",
              "    </tr>\n",
              "  </thead>\n",
              "  <tbody>\n",
              "    <tr>\n",
              "      <th>0</th>\n",
              "      <td>17.102282</td>\n",
              "      <td>6.640908</td>\n",
              "      <td>31.740005</td>\n",
              "      <td>25.190994</td>\n",
              "      <td>0.475688</td>\n",
              "      <td>0</td>\n",
              "      <td>character</td>\n",
              "      <td>track0056[15].png</td>\n",
              "    </tr>\n",
              "    <tr>\n",
              "      <th>0</th>\n",
              "      <td>90.010750</td>\n",
              "      <td>9.700005</td>\n",
              "      <td>103.706497</td>\n",
              "      <td>29.007738</td>\n",
              "      <td>0.369868</td>\n",
              "      <td>0</td>\n",
              "      <td>character</td>\n",
              "      <td>track0056[16].png</td>\n",
              "    </tr>\n",
              "    <tr>\n",
              "      <th>1</th>\n",
              "      <td>16.880816</td>\n",
              "      <td>6.687716</td>\n",
              "      <td>32.777382</td>\n",
              "      <td>24.927717</td>\n",
              "      <td>0.252908</td>\n",
              "      <td>0</td>\n",
              "      <td>character</td>\n",
              "      <td>track0056[16].png</td>\n",
              "    </tr>\n",
              "    <tr>\n",
              "      <th>0</th>\n",
              "      <td>16.663185</td>\n",
              "      <td>10.627225</td>\n",
              "      <td>30.272718</td>\n",
              "      <td>29.297670</td>\n",
              "      <td>0.585876</td>\n",
              "      <td>0</td>\n",
              "      <td>character</td>\n",
              "      <td>track0056[14].png</td>\n",
              "    </tr>\n",
              "    <tr>\n",
              "      <th>1</th>\n",
              "      <td>28.774498</td>\n",
              "      <td>10.950685</td>\n",
              "      <td>44.934467</td>\n",
              "      <td>30.779533</td>\n",
              "      <td>0.511155</td>\n",
              "      <td>0</td>\n",
              "      <td>character</td>\n",
              "      <td>track0056[14].png</td>\n",
              "    </tr>\n",
              "    <tr>\n",
              "      <th>...</th>\n",
              "      <td>...</td>\n",
              "      <td>...</td>\n",
              "      <td>...</td>\n",
              "      <td>...</td>\n",
              "      <td>...</td>\n",
              "      <td>...</td>\n",
              "      <td>...</td>\n",
              "      <td>...</td>\n",
              "    </tr>\n",
              "    <tr>\n",
              "      <th>1</th>\n",
              "      <td>83.052620</td>\n",
              "      <td>8.495237</td>\n",
              "      <td>93.463203</td>\n",
              "      <td>25.330498</td>\n",
              "      <td>0.878152</td>\n",
              "      <td>0</td>\n",
              "      <td>character</td>\n",
              "      <td>track0022[21].png</td>\n",
              "    </tr>\n",
              "    <tr>\n",
              "      <th>2</th>\n",
              "      <td>7.435962</td>\n",
              "      <td>8.989074</td>\n",
              "      <td>18.238316</td>\n",
              "      <td>25.144522</td>\n",
              "      <td>0.867433</td>\n",
              "      <td>0</td>\n",
              "      <td>character</td>\n",
              "      <td>track0022[21].png</td>\n",
              "    </tr>\n",
              "    <tr>\n",
              "      <th>3</th>\n",
              "      <td>47.780598</td>\n",
              "      <td>7.684345</td>\n",
              "      <td>58.095089</td>\n",
              "      <td>24.126379</td>\n",
              "      <td>0.867180</td>\n",
              "      <td>0</td>\n",
              "      <td>character</td>\n",
              "      <td>track0022[21].png</td>\n",
              "    </tr>\n",
              "    <tr>\n",
              "      <th>4</th>\n",
              "      <td>71.264000</td>\n",
              "      <td>8.339413</td>\n",
              "      <td>82.076881</td>\n",
              "      <td>24.188679</td>\n",
              "      <td>0.845991</td>\n",
              "      <td>0</td>\n",
              "      <td>character</td>\n",
              "      <td>track0022[21].png</td>\n",
              "    </tr>\n",
              "    <tr>\n",
              "      <th>5</th>\n",
              "      <td>18.400806</td>\n",
              "      <td>8.260540</td>\n",
              "      <td>29.706976</td>\n",
              "      <td>25.310333</td>\n",
              "      <td>0.813414</td>\n",
              "      <td>0</td>\n",
              "      <td>character</td>\n",
              "      <td>track0022[21].png</td>\n",
              "    </tr>\n",
              "  </tbody>\n",
              "</table>\n",
              "<p>13020 rows × 8 columns</p>\n",
              "</div>\n",
              "      <button class=\"colab-df-convert\" onclick=\"convertToInteractive('df-d8189442-7d5f-456a-8a1e-bc5c0471e16f')\"\n",
              "              title=\"Convert this dataframe to an interactive table.\"\n",
              "              style=\"display:none;\">\n",
              "        \n",
              "  <svg xmlns=\"http://www.w3.org/2000/svg\" height=\"24px\"viewBox=\"0 0 24 24\"\n",
              "       width=\"24px\">\n",
              "    <path d=\"M0 0h24v24H0V0z\" fill=\"none\"/>\n",
              "    <path d=\"M18.56 5.44l.94 2.06.94-2.06 2.06-.94-2.06-.94-.94-2.06-.94 2.06-2.06.94zm-11 1L8.5 8.5l.94-2.06 2.06-.94-2.06-.94L8.5 2.5l-.94 2.06-2.06.94zm10 10l.94 2.06.94-2.06 2.06-.94-2.06-.94-.94-2.06-.94 2.06-2.06.94z\"/><path d=\"M17.41 7.96l-1.37-1.37c-.4-.4-.92-.59-1.43-.59-.52 0-1.04.2-1.43.59L10.3 9.45l-7.72 7.72c-.78.78-.78 2.05 0 2.83L4 21.41c.39.39.9.59 1.41.59.51 0 1.02-.2 1.41-.59l7.78-7.78 2.81-2.81c.8-.78.8-2.07 0-2.86zM5.41 20L4 18.59l7.72-7.72 1.47 1.35L5.41 20z\"/>\n",
              "  </svg>\n",
              "      </button>\n",
              "      \n",
              "  <style>\n",
              "    .colab-df-container {\n",
              "      display:flex;\n",
              "      flex-wrap:wrap;\n",
              "      gap: 12px;\n",
              "    }\n",
              "\n",
              "    .colab-df-convert {\n",
              "      background-color: #E8F0FE;\n",
              "      border: none;\n",
              "      border-radius: 50%;\n",
              "      cursor: pointer;\n",
              "      display: none;\n",
              "      fill: #1967D2;\n",
              "      height: 32px;\n",
              "      padding: 0 0 0 0;\n",
              "      width: 32px;\n",
              "    }\n",
              "\n",
              "    .colab-df-convert:hover {\n",
              "      background-color: #E2EBFA;\n",
              "      box-shadow: 0px 1px 2px rgba(60, 64, 67, 0.3), 0px 1px 3px 1px rgba(60, 64, 67, 0.15);\n",
              "      fill: #174EA6;\n",
              "    }\n",
              "\n",
              "    [theme=dark] .colab-df-convert {\n",
              "      background-color: #3B4455;\n",
              "      fill: #D2E3FC;\n",
              "    }\n",
              "\n",
              "    [theme=dark] .colab-df-convert:hover {\n",
              "      background-color: #434B5C;\n",
              "      box-shadow: 0px 1px 3px 1px rgba(0, 0, 0, 0.15);\n",
              "      filter: drop-shadow(0px 1px 2px rgba(0, 0, 0, 0.3));\n",
              "      fill: #FFFFFF;\n",
              "    }\n",
              "  </style>\n",
              "\n",
              "      <script>\n",
              "        const buttonEl =\n",
              "          document.querySelector('#df-d8189442-7d5f-456a-8a1e-bc5c0471e16f button.colab-df-convert');\n",
              "        buttonEl.style.display =\n",
              "          google.colab.kernel.accessAllowed ? 'block' : 'none';\n",
              "\n",
              "        async function convertToInteractive(key) {\n",
              "          const element = document.querySelector('#df-d8189442-7d5f-456a-8a1e-bc5c0471e16f');\n",
              "          const dataTable =\n",
              "            await google.colab.kernel.invokeFunction('convertToInteractive',\n",
              "                                                     [key], {});\n",
              "          if (!dataTable) return;\n",
              "\n",
              "          const docLinkHtml = 'Like what you see? Visit the ' +\n",
              "            '<a target=\"_blank\" href=https://colab.research.google.com/notebooks/data_table.ipynb>data table notebook</a>'\n",
              "            + ' to learn more about interactive tables.';\n",
              "          element.innerHTML = '';\n",
              "          dataTable['output_type'] = 'display_data';\n",
              "          await google.colab.output.renderOutput(dataTable, element);\n",
              "          const docLink = document.createElement('div');\n",
              "          docLink.innerHTML = docLinkHtml;\n",
              "          element.appendChild(docLink);\n",
              "        }\n",
              "      </script>\n",
              "    </div>\n",
              "  </div>\n",
              "  "
            ]
          },
          "metadata": {},
          "execution_count": 54
        }
      ]
    },
    {
      "cell_type": "code",
      "source": [
        "test_output_df"
      ],
      "metadata": {
        "colab": {
          "base_uri": "https://localhost:8080/",
          "height": 424
        },
        "id": "b81_8qH_BeFt",
        "outputId": "4373dbbd-70a2-445b-b3fd-3579ea36a34d"
      },
      "execution_count": 56,
      "outputs": [
        {
          "output_type": "execute_result",
          "data": {
            "text/plain": [
              "         xmin       ymin        xmax       ymax  confidence class       name  \\\n",
              "0   63.847225   9.963105   77.744057  28.803953    0.902511     0  character   \n",
              "1   89.697945   8.976999  103.343758  27.516697    0.886228     0  character   \n",
              "2   76.618568   9.253776   90.597931  27.991692    0.882751     0  character   \n",
              "3    6.358106  11.416066   20.251127  31.874117    0.880720     0  character   \n",
              "4   31.877413  11.276544   45.997524  31.189083    0.876594     0  character   \n",
              "..        ...        ...         ...        ...         ...   ...        ...   \n",
              "2   21.825329  14.576013   41.055138  41.230034    0.871493     0  character   \n",
              "3   39.038902  15.922177   57.903160  42.832375    0.871132     0  character   \n",
              "4   99.397026  20.206547  117.972969  46.293152    0.861077     0  character   \n",
              "5   66.567711  16.791142   81.921921  45.165394    0.799420     0  character   \n",
              "6    4.265594  13.704185   24.067526  39.492470    0.762530     0  character   \n",
              "\n",
              "             filename  \n",
              "0   track0116[01].png  \n",
              "1   track0116[01].png  \n",
              "2   track0116[01].png  \n",
              "3   track0116[01].png  \n",
              "4   track0116[01].png  \n",
              "..                ...  \n",
              "2   track0115[10].png  \n",
              "3   track0115[10].png  \n",
              "4   track0115[10].png  \n",
              "5   track0115[10].png  \n",
              "6   track0115[10].png  \n",
              "\n",
              "[9292 rows x 8 columns]"
            ],
            "text/html": [
              "\n",
              "  <div id=\"df-aa62f798-bfa9-400b-a246-934aa37f3f5a\">\n",
              "    <div class=\"colab-df-container\">\n",
              "      <div>\n",
              "<style scoped>\n",
              "    .dataframe tbody tr th:only-of-type {\n",
              "        vertical-align: middle;\n",
              "    }\n",
              "\n",
              "    .dataframe tbody tr th {\n",
              "        vertical-align: top;\n",
              "    }\n",
              "\n",
              "    .dataframe thead th {\n",
              "        text-align: right;\n",
              "    }\n",
              "</style>\n",
              "<table border=\"1\" class=\"dataframe\">\n",
              "  <thead>\n",
              "    <tr style=\"text-align: right;\">\n",
              "      <th></th>\n",
              "      <th>xmin</th>\n",
              "      <th>ymin</th>\n",
              "      <th>xmax</th>\n",
              "      <th>ymax</th>\n",
              "      <th>confidence</th>\n",
              "      <th>class</th>\n",
              "      <th>name</th>\n",
              "      <th>filename</th>\n",
              "    </tr>\n",
              "  </thead>\n",
              "  <tbody>\n",
              "    <tr>\n",
              "      <th>0</th>\n",
              "      <td>63.847225</td>\n",
              "      <td>9.963105</td>\n",
              "      <td>77.744057</td>\n",
              "      <td>28.803953</td>\n",
              "      <td>0.902511</td>\n",
              "      <td>0</td>\n",
              "      <td>character</td>\n",
              "      <td>track0116[01].png</td>\n",
              "    </tr>\n",
              "    <tr>\n",
              "      <th>1</th>\n",
              "      <td>89.697945</td>\n",
              "      <td>8.976999</td>\n",
              "      <td>103.343758</td>\n",
              "      <td>27.516697</td>\n",
              "      <td>0.886228</td>\n",
              "      <td>0</td>\n",
              "      <td>character</td>\n",
              "      <td>track0116[01].png</td>\n",
              "    </tr>\n",
              "    <tr>\n",
              "      <th>2</th>\n",
              "      <td>76.618568</td>\n",
              "      <td>9.253776</td>\n",
              "      <td>90.597931</td>\n",
              "      <td>27.991692</td>\n",
              "      <td>0.882751</td>\n",
              "      <td>0</td>\n",
              "      <td>character</td>\n",
              "      <td>track0116[01].png</td>\n",
              "    </tr>\n",
              "    <tr>\n",
              "      <th>3</th>\n",
              "      <td>6.358106</td>\n",
              "      <td>11.416066</td>\n",
              "      <td>20.251127</td>\n",
              "      <td>31.874117</td>\n",
              "      <td>0.880720</td>\n",
              "      <td>0</td>\n",
              "      <td>character</td>\n",
              "      <td>track0116[01].png</td>\n",
              "    </tr>\n",
              "    <tr>\n",
              "      <th>4</th>\n",
              "      <td>31.877413</td>\n",
              "      <td>11.276544</td>\n",
              "      <td>45.997524</td>\n",
              "      <td>31.189083</td>\n",
              "      <td>0.876594</td>\n",
              "      <td>0</td>\n",
              "      <td>character</td>\n",
              "      <td>track0116[01].png</td>\n",
              "    </tr>\n",
              "    <tr>\n",
              "      <th>...</th>\n",
              "      <td>...</td>\n",
              "      <td>...</td>\n",
              "      <td>...</td>\n",
              "      <td>...</td>\n",
              "      <td>...</td>\n",
              "      <td>...</td>\n",
              "      <td>...</td>\n",
              "      <td>...</td>\n",
              "    </tr>\n",
              "    <tr>\n",
              "      <th>2</th>\n",
              "      <td>21.825329</td>\n",
              "      <td>14.576013</td>\n",
              "      <td>41.055138</td>\n",
              "      <td>41.230034</td>\n",
              "      <td>0.871493</td>\n",
              "      <td>0</td>\n",
              "      <td>character</td>\n",
              "      <td>track0115[10].png</td>\n",
              "    </tr>\n",
              "    <tr>\n",
              "      <th>3</th>\n",
              "      <td>39.038902</td>\n",
              "      <td>15.922177</td>\n",
              "      <td>57.903160</td>\n",
              "      <td>42.832375</td>\n",
              "      <td>0.871132</td>\n",
              "      <td>0</td>\n",
              "      <td>character</td>\n",
              "      <td>track0115[10].png</td>\n",
              "    </tr>\n",
              "    <tr>\n",
              "      <th>4</th>\n",
              "      <td>99.397026</td>\n",
              "      <td>20.206547</td>\n",
              "      <td>117.972969</td>\n",
              "      <td>46.293152</td>\n",
              "      <td>0.861077</td>\n",
              "      <td>0</td>\n",
              "      <td>character</td>\n",
              "      <td>track0115[10].png</td>\n",
              "    </tr>\n",
              "    <tr>\n",
              "      <th>5</th>\n",
              "      <td>66.567711</td>\n",
              "      <td>16.791142</td>\n",
              "      <td>81.921921</td>\n",
              "      <td>45.165394</td>\n",
              "      <td>0.799420</td>\n",
              "      <td>0</td>\n",
              "      <td>character</td>\n",
              "      <td>track0115[10].png</td>\n",
              "    </tr>\n",
              "    <tr>\n",
              "      <th>6</th>\n",
              "      <td>4.265594</td>\n",
              "      <td>13.704185</td>\n",
              "      <td>24.067526</td>\n",
              "      <td>39.492470</td>\n",
              "      <td>0.762530</td>\n",
              "      <td>0</td>\n",
              "      <td>character</td>\n",
              "      <td>track0115[10].png</td>\n",
              "    </tr>\n",
              "  </tbody>\n",
              "</table>\n",
              "<p>9292 rows × 8 columns</p>\n",
              "</div>\n",
              "      <button class=\"colab-df-convert\" onclick=\"convertToInteractive('df-aa62f798-bfa9-400b-a246-934aa37f3f5a')\"\n",
              "              title=\"Convert this dataframe to an interactive table.\"\n",
              "              style=\"display:none;\">\n",
              "        \n",
              "  <svg xmlns=\"http://www.w3.org/2000/svg\" height=\"24px\"viewBox=\"0 0 24 24\"\n",
              "       width=\"24px\">\n",
              "    <path d=\"M0 0h24v24H0V0z\" fill=\"none\"/>\n",
              "    <path d=\"M18.56 5.44l.94 2.06.94-2.06 2.06-.94-2.06-.94-.94-2.06-.94 2.06-2.06.94zm-11 1L8.5 8.5l.94-2.06 2.06-.94-2.06-.94L8.5 2.5l-.94 2.06-2.06.94zm10 10l.94 2.06.94-2.06 2.06-.94-2.06-.94-.94-2.06-.94 2.06-2.06.94z\"/><path d=\"M17.41 7.96l-1.37-1.37c-.4-.4-.92-.59-1.43-.59-.52 0-1.04.2-1.43.59L10.3 9.45l-7.72 7.72c-.78.78-.78 2.05 0 2.83L4 21.41c.39.39.9.59 1.41.59.51 0 1.02-.2 1.41-.59l7.78-7.78 2.81-2.81c.8-.78.8-2.07 0-2.86zM5.41 20L4 18.59l7.72-7.72 1.47 1.35L5.41 20z\"/>\n",
              "  </svg>\n",
              "      </button>\n",
              "      \n",
              "  <style>\n",
              "    .colab-df-container {\n",
              "      display:flex;\n",
              "      flex-wrap:wrap;\n",
              "      gap: 12px;\n",
              "    }\n",
              "\n",
              "    .colab-df-convert {\n",
              "      background-color: #E8F0FE;\n",
              "      border: none;\n",
              "      border-radius: 50%;\n",
              "      cursor: pointer;\n",
              "      display: none;\n",
              "      fill: #1967D2;\n",
              "      height: 32px;\n",
              "      padding: 0 0 0 0;\n",
              "      width: 32px;\n",
              "    }\n",
              "\n",
              "    .colab-df-convert:hover {\n",
              "      background-color: #E2EBFA;\n",
              "      box-shadow: 0px 1px 2px rgba(60, 64, 67, 0.3), 0px 1px 3px 1px rgba(60, 64, 67, 0.15);\n",
              "      fill: #174EA6;\n",
              "    }\n",
              "\n",
              "    [theme=dark] .colab-df-convert {\n",
              "      background-color: #3B4455;\n",
              "      fill: #D2E3FC;\n",
              "    }\n",
              "\n",
              "    [theme=dark] .colab-df-convert:hover {\n",
              "      background-color: #434B5C;\n",
              "      box-shadow: 0px 1px 3px 1px rgba(0, 0, 0, 0.15);\n",
              "      filter: drop-shadow(0px 1px 2px rgba(0, 0, 0, 0.3));\n",
              "      fill: #FFFFFF;\n",
              "    }\n",
              "  </style>\n",
              "\n",
              "      <script>\n",
              "        const buttonEl =\n",
              "          document.querySelector('#df-aa62f798-bfa9-400b-a246-934aa37f3f5a button.colab-df-convert');\n",
              "        buttonEl.style.display =\n",
              "          google.colab.kernel.accessAllowed ? 'block' : 'none';\n",
              "\n",
              "        async function convertToInteractive(key) {\n",
              "          const element = document.querySelector('#df-aa62f798-bfa9-400b-a246-934aa37f3f5a');\n",
              "          const dataTable =\n",
              "            await google.colab.kernel.invokeFunction('convertToInteractive',\n",
              "                                                     [key], {});\n",
              "          if (!dataTable) return;\n",
              "\n",
              "          const docLinkHtml = 'Like what you see? Visit the ' +\n",
              "            '<a target=\"_blank\" href=https://colab.research.google.com/notebooks/data_table.ipynb>data table notebook</a>'\n",
              "            + ' to learn more about interactive tables.';\n",
              "          element.innerHTML = '';\n",
              "          dataTable['output_type'] = 'display_data';\n",
              "          await google.colab.output.renderOutput(dataTable, element);\n",
              "          const docLink = document.createElement('div');\n",
              "          docLink.innerHTML = docLinkHtml;\n",
              "          element.appendChild(docLink);\n",
              "        }\n",
              "      </script>\n",
              "    </div>\n",
              "  </div>\n",
              "  "
            ]
          },
          "metadata": {},
          "execution_count": 56
        }
      ]
    },
    {
      "cell_type": "code",
      "source": [],
      "metadata": {
        "id": "j5DHpCrrCbF7"
      },
      "execution_count": null,
      "outputs": []
    }
  ]
}